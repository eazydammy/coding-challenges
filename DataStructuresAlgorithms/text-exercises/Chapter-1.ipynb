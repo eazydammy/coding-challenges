{
 "nbformat": 4,
 "nbformat_minor": 2,
 "metadata": {
  "language_info": {
   "name": "python",
   "codemirror_mode": {
    "name": "ipython",
    "version": 3
   },
   "version": "3.7.3-final"
  },
  "orig_nbformat": 2,
  "file_extension": ".py",
  "mimetype": "text/x-python",
  "name": "python",
  "npconvert_exporter": "python",
  "pygments_lexer": "ipython3",
  "version": 3,
  "kernelspec": {
   "name": "python37364bitbasecondadd691ec5b02843bba03cba763c7bcea6",
   "display_name": "Python 3.7.3 64-bit ('base': conda)"
  }
 },
 "cells": [
  {
   "cell_type": "markdown",
   "execution_count": 2,
   "metadata": {},
   "outputs": [
    {
     "ename": "SyntaxError",
     "evalue": "invalid syntax (<ipython-input-2-190b30546a58>, line 2)",
     "output_type": "error",
     "traceback": [
      "\u001b[1;36m  File \u001b[1;32m\"<ipython-input-2-190b30546a58>\"\u001b[1;36m, line \u001b[1;32m2\u001b[0m\n\u001b[1;33m    R-1.1 Write a short Python function, is multiple(n, m), that takes two integer\u001b[0m\n\u001b[1;37m              ^\u001b[0m\n\u001b[1;31mSyntaxError\u001b[0m\u001b[1;31m:\u001b[0m invalid syntax\n"
     ]
    }
   ],
   "source": [
    "# Reinforcement\n",
    "### R-1.1\n",
    "Write a short Python function, `is_multiple(n, m)`, that takes two integer values and returns `True` if `n` is a multiple of `m`, that is, `n = mi` for some integer `i`, and `False` otherwise."
   ]
  },
  {
   "cell_type": "code",
   "execution_count": 3,
   "metadata": {},
   "outputs": [],
   "source": [
    "def is_multiple(n,m):\n",
    "    return True if n%m==0 else False"
   ]
  },
  {
   "cell_type": "markdown",
   "execution_count": null,
   "metadata": {},
   "outputs": [],
   "source": [
    "This simply tests if the remainder after division is zero (a property of factors)"
   ]
  },
  {
   "cell_type": "code",
   "execution_count": 6,
   "metadata": {},
   "outputs": [
    {
     "data": {
      "text/plain": "True"
     },
     "execution_count": 6,
     "metadata": {},
     "output_type": "execute_result"
    }
   ],
   "source": [
    "is_multiple(200,10)"
   ]
  },
  {
   "cell_type": "markdown",
   "execution_count": null,
   "metadata": {},
   "outputs": [],
   "source": [
    "### R-1.2\n",
    "Write a short Python function, `is_even(k)`, that takes an integer value and returns `True` if `k` is even, and `False` otherwise. However, your function cannot use the multiplication, modulo, or division operators."
   ]
  },
  {
   "cell_type": "code",
   "execution_count": 7,
   "metadata": {},
   "outputs": [],
   "source": [
    "def is_even(k):\n",
    "    return (not(k & 1))"
   ]
  },
  {
   "cell_type": "markdown",
   "execution_count": null,
   "metadata": {},
   "outputs": [],
   "source": [
    "This uses the Bitwise AND operator to test that the last number in the binary form of `k` is `1`. For example, if k = 9, it's converted to binary representation internally like f'{9:08b}' = '00001001' and compared with `1` = '00000001'. It compares both bitwise using the `&` operator which, for each comparison, output is `1` if both bits are `1`. The decimal sum of the number of `1`s are returned. Comparing the binary form of any number `k` with 1 ('00000001') will return `1` if the number is odd since all odd numbers have their bit form ending in `1`. It is thus necessary to return the binary negation `not()` for the `is_even()` function."
   ]
  },
  {
   "cell_type": "code",
   "execution_count": 8,
   "metadata": {},
   "outputs": [
    {
     "data": {
      "text/plain": "True"
     },
     "execution_count": 8,
     "metadata": {},
     "output_type": "execute_result"
    }
   ],
   "source": [
    "is_even(22)"
   ]
  },
  {
   "cell_type": "markdown",
   "execution_count": null,
   "metadata": {},
   "outputs": [],
   "source": [
    "Another approach is to check if the last number of the integer is even (although this pre-supposes a knowledge of even numbers). It converts the input integer `k` to a string, selects the last index and checks if it is in the list of even numbers `0, 2, 4, 6, 8` then returns `True`, otherwise, returns `False`."
   ]
  },
  {
   "cell_type": "code",
   "execution_count": 11,
   "metadata": {},
   "outputs": [],
   "source": [
    "def is_even(k):\n",
    "    evens = ['0', '2', '4', '6', '8']\n",
    "    if str(k)[-1] in evens:\n",
    "        return True\n",
    "    else:\n",
    "        return False"
   ]
  },
  {
   "cell_type": "code",
   "execution_count": 13,
   "metadata": {},
   "outputs": [
    {
     "data": {
      "text/plain": "False"
     },
     "execution_count": 13,
     "metadata": {},
     "output_type": "execute_result"
    }
   ],
   "source": [
    "is_even_2(2003)"
   ]
  },
  {
   "cell_type": "markdown",
   "execution_count": null,
   "metadata": {},
   "outputs": [],
   "source": [
    "### R-1.3\n",
    "Write a short Python function, `minmax(data)`, that takes a sequence of one or more numbers, and returns the smallest and largest numbers, in the form of a tuple of length two. Do not use the built-in functions `min` or `max` in implementing your solution."
   ]
  },
  {
   "cell_type": "code",
   "execution_count": 18,
   "metadata": {},
   "outputs": [],
   "source": [
    "def minmax(data):\n",
    "    num_min = data[0]\n",
    "    num_max = data[0]\n",
    "    for _, data_i in enumerate(data):\n",
    "        if data_i < num_min:\n",
    "            num_min = data_i\n",
    "        if data_i > num_max:\n",
    "            num_max = data_i\n",
    "    return num_min, num_max"
   ]
  },
  {
   "cell_type": "code",
   "execution_count": 20,
   "metadata": {},
   "outputs": [
    {
     "name": "stdout",
     "output_type": "stream",
     "text": "The mimumum number : 2\nThe maximum number : 57\n"
    }
   ],
   "source": [
    "dmin, dmax = minmax([2, 43, 25, 9, 46, 23, 57])\n",
    "print(\"The mimumum number\", dmin, sep=\" : \")\n",
    "print(\"The maximum number\", dmax, sep=\" : \")"
   ]
  },
  {
   "cell_type": "markdown",
   "execution_count": null,
   "metadata": {},
   "outputs": [],
   "source": [
    "### R-1.4\n",
    "Write a short Python function that takes a positive integer `n` and returns the sum of the squares of all the positive integers smaller than `n`."
   ]
  },
  {
   "cell_type": "code",
   "execution_count": 26,
   "metadata": {},
   "outputs": [],
   "source": [
    "def sum_squares_before(n):\n",
    "    dsum = 0\n",
    "    while n > 0:\n",
    "        dsum += (n-1)**2\n",
    "        n -= 1        \n",
    "    return dsum"
   ]
  },
  {
   "cell_type": "code",
   "execution_count": 29,
   "metadata": {},
   "outputs": [
    {
     "data": {
      "text/plain": "55"
     },
     "execution_count": 29,
     "metadata": {},
     "output_type": "execute_result"
    }
   ],
   "source": [
    "sum_squares_before(6)"
   ]
  },
  {
   "cell_type": "markdown",
   "execution_count": null,
   "metadata": {},
   "outputs": [],
   "source": [
    "### R-1.5\n",
    "Give a single command that computes the sum from Exercise R-1.4, relying on Python’s comprehension syntax and the built-in `sum` function."
   ]
  },
  {
   "cell_type": "code",
   "execution_count": 37,
   "metadata": {},
   "outputs": [
    {
     "data": {
      "text/plain": "55"
     },
     "execution_count": 37,
     "metadata": {},
     "output_type": "execute_result"
    }
   ],
   "source": [
    "sum([i**2 for i in range(6)])"
   ]
  },
  {
   "cell_type": "markdown",
   "execution_count": null,
   "metadata": {},
   "outputs": [],
   "source": [
    "### R-1.6\n",
    "Write a short Python function that takes a positive integer `n` and returns the sum of the squares of all the odd positive integers smaller than `n`."
   ]
  },
  {
   "cell_type": "code",
   "execution_count": 54,
   "metadata": {},
   "outputs": [],
   "source": [
    "def sum_odd_squares_before(n):\n",
    "    dsum = 0\n",
    "    n -= 1\n",
    "    while n > 0:\n",
    "        if n%2 == 1:\n",
    "            dsum += (n)**2\n",
    "        n -= 1        \n",
    "    return dsum "
   ]
  },
  {
   "cell_type": "code",
   "execution_count": 55,
   "metadata": {},
   "outputs": [
    {
     "data": {
      "text/plain": "35"
     },
     "execution_count": 55,
     "metadata": {},
     "output_type": "execute_result"
    }
   ],
   "source": [
    "sum_odd_squares_before(6)"
   ]
  },
  {
   "cell_type": "markdown",
   "execution_count": null,
   "metadata": {},
   "outputs": [],
   "source": [
    "### R-1.7\n",
    "Give a single command that computes the sum from Exercise R-1.6, relying on Python’s comprehension syntax and the built-in `sum` function."
   ]
  },
  {
   "cell_type": "code",
   "execution_count": 49,
   "metadata": {},
   "outputs": [
    {
     "data": {
      "text/plain": "35"
     },
     "execution_count": 49,
     "metadata": {},
     "output_type": "execute_result"
    }
   ],
   "source": [
    "sum([i**2 for i in range(6) if i%2==1])"
   ]
  },
  {
   "cell_type": "markdown",
   "execution_count": null,
   "metadata": {},
   "outputs": [],
   "source": [
    "### R-1.8\n",
    "Python allows negative integers to be used as indices into a sequence, such as a string. If string `s` has length `n`, and expression `s[k]` is used for index `−n≤k<0`, what is the equivalent index `j≥0` such that `s[j]` references the same element?"
   ]
  },
  {
   "cell_type": "code",
   "execution_count": 60,
   "metadata": {},
   "outputs": [],
   "source": [
    "s = [0,1,2,3,4,5,6,7,8]\n",
    "\n",
    "k = [-9,-8,-7,-6,-5,-4,-3,-2,-1]\n",
    "j = [0,1,2,3,4,5,6,7,8,9]"
   ]
  },
  {
   "cell_type": "markdown",
   "execution_count": 59,
   "metadata": {},
   "outputs": [
    {
     "data": {
      "text/plain": "1"
     },
     "execution_count": 59,
     "metadata": {},
     "output_type": "execute_result"
    }
   ],
   "source": [
    "`j = k + n` is the equivalent index such that `s[j]` and `s[k]` referenences the same element"
   ]
  },
  {
   "cell_type": "markdown",
   "execution_count": null,
   "metadata": {},
   "outputs": [],
   "source": [
    "### R-1.9\n",
    "What parameters should be sent to the `range` constructor, to produce a range with values 50, 60, 70, 80?"
   ]
  },
  {
   "cell_type": "code",
   "execution_count": 67,
   "metadata": {},
   "outputs": [
    {
     "data": {
      "text/plain": "[50, 60, 70, 80]"
     },
     "execution_count": 67,
     "metadata": {},
     "output_type": "execute_result"
    }
   ],
   "source": [
    "list(range(50,81,10))"
   ]
  },
  {
   "cell_type": "markdown",
   "execution_count": null,
   "metadata": {},
   "outputs": [],
   "source": [
    "### R-1.10\n",
    "What parameters should be sent to the `range` constructor, to produce a range with values 8, 6, 4, 2, 0, −2, −4, −6, −8?"
   ]
  },
  {
   "cell_type": "code",
   "execution_count": 66,
   "metadata": {},
   "outputs": [
    {
     "data": {
      "text/plain": "[8, 6, 4, 2, 0, -2, -4, -6, -8]"
     },
     "execution_count": 66,
     "metadata": {},
     "output_type": "execute_result"
    }
   ],
   "source": [
    "list(range(8,-9,-2))"
   ]
  },
  {
   "cell_type": "markdown",
   "execution_count": null,
   "metadata": {},
   "outputs": [],
   "source": [
    "### R-1.11\n",
    "Demonstrate how to use Python’s list comprehension syntax to produce the list [1, 2, 4, 8, 16, 32, 64, 128, 256]."
   ]
  },
  {
   "cell_type": "code",
   "execution_count": 68,
   "metadata": {},
   "outputs": [
    {
     "data": {
      "text/plain": "[1, 2, 4, 8, 16, 32, 64, 128, 256]"
     },
     "execution_count": 68,
     "metadata": {},
     "output_type": "execute_result"
    }
   ],
   "source": [
    "[2**i for i in range(9)]"
   ]
  },
  {
   "cell_type": "markdown",
   "execution_count": null,
   "metadata": {},
   "outputs": [],
   "source": [
    "### R-1.12\n",
    "Python’s random module includes a function `choice(data)` that returns a random element from a non-empty sequence. The `random` module includes a more basic function `randrange`, with parameterization similar to the built-in `range` function, that return a random choice from the given range. Using only the `randrange` function, implement your own version of the `choice` function."
   ]
  },
  {
   "cell_type": "code",
   "execution_count": 73,
   "metadata": {},
   "outputs": [],
   "source": [
    "import random\n",
    "\n",
    "def my_choice(data):\n",
    "    i = random.randrange(0,len(data))\n",
    "    return data[i]"
   ]
  },
  {
   "cell_type": "code",
   "execution_count": 74,
   "metadata": {},
   "outputs": [],
   "source": [
    "data = [37,58,90,43,64,12,27]"
   ]
  },
  {
   "cell_type": "code",
   "execution_count": 77,
   "metadata": {},
   "outputs": [
    {
     "data": {
      "text/plain": "12"
     },
     "execution_count": 77,
     "metadata": {},
     "output_type": "execute_result"
    }
   ],
   "source": [
    "my_choice(data)"
   ]
  },
  {
   "cell_type": "markdown",
   "execution_count": null,
   "metadata": {},
   "outputs": [],
   "source": [
    "# Creativity\n",
    "### C-1.13\n",
    "Write a pseudo-code description of a function that reverses a list of `n` integers, so that the numbers are listed in the opposite order than they were before, and compare this method to an equivalent Python function for doing the same thing."
   ]
  },
  {
   "cell_type": "code",
   "execution_count": 92,
   "metadata": {},
   "outputs": [],
   "source": [
    "def reverse_list(data):\n",
    "    return data[-1:-len(data):-1]\n",
    "    #return data[::-1]"
   ]
  },
  {
   "cell_type": "code",
   "execution_count": 93,
   "metadata": {},
   "outputs": [
    {
     "data": {
      "text/plain": "[37, 58, 90, 43, 64, 12, 27]"
     },
     "execution_count": 93,
     "metadata": {},
     "output_type": "execute_result"
    }
   ],
   "source": [
    "data"
   ]
  },
  {
   "cell_type": "code",
   "execution_count": 94,
   "metadata": {},
   "outputs": [
    {
     "data": {
      "text/plain": "[27, 12, 64, 43, 90, 58]"
     },
     "execution_count": 94,
     "metadata": {},
     "output_type": "execute_result"
    }
   ],
   "source": [
    "reverse_list(data)"
   ]
  },
  {
   "cell_type": "markdown",
   "execution_count": null,
   "metadata": {},
   "outputs": [],
   "source": [
    "### C-1.14\n",
    "Write a short Python function that takes a sequence of integer values and determines if there is a distinct pair of numbers in the sequence whose product is odd."
   ]
  },
  {
   "cell_type": "code",
   "execution_count": 100,
   "metadata": {},
   "outputs": [],
   "source": [
    "def odd_product_pair(data):\n",
    "    for i in range(len(data)-1):\n",
    "        if data[i] != data[i+1] and (data[i]*data[i+1])%2==1:\n",
    "            return True\n",
    "    return False"
   ]
  },
  {
   "cell_type": "code",
   "execution_count": 114,
   "metadata": {},
   "outputs": [
    {
     "data": {
      "text/plain": "True"
     },
     "execution_count": 114,
     "metadata": {},
     "output_type": "execute_result"
    }
   ],
   "source": [
    "odd_product_pair(data)"
   ]
  },
  {
   "cell_type": "markdown",
   "execution_count": null,
   "metadata": {},
   "outputs": [],
   "source": [
    "The above method considers each silmutaneous pair and tests for odd products"
   ]
  },
  {
   "cell_type": "code",
   "execution_count": 115,
   "metadata": {},
   "outputs": [],
   "source": [
    "def odd_product_pair_any(data):\n",
    "    for i in range(len(data)):\n",
    "        for j in range(len(data)):\n",
    "            if i != j and data[i]!=data[j] and (data[i]*data[j])%2==1:\n",
    "                return True\n",
    "    return False"
   ]
  },
  {
   "cell_type": "code",
   "execution_count": 118,
   "metadata": {},
   "outputs": [],
   "source": [
    "data_odds = [11,33,55,77,99]\n",
    "data_evens = [22,44,66,88]"
   ]
  },
  {
   "cell_type": "code",
   "execution_count": 120,
   "metadata": {},
   "outputs": [
    {
     "data": {
      "text/plain": "False"
     },
     "execution_count": 120,
     "metadata": {},
     "output_type": "execute_result"
    }
   ],
   "source": [
    "odd_product_pair_any(data_evens)"
   ]
  },
  {
   "cell_type": "markdown",
   "execution_count": null,
   "metadata": {},
   "outputs": [],
   "source": [
    "The above method checks for all pairs of numbers in the lists and tests for odd products"
   ]
  },
  {
   "cell_type": "markdown",
   "execution_count": null,
   "metadata": {},
   "outputs": [],
   "source": [
    "### C-1.15\n",
    "Write a Python function that takes a sequence of numbers and determines if all the numbers are different from each other (that is, they are distinct)."
   ]
  },
  {
   "cell_type": "code",
   "execution_count": 125,
   "metadata": {},
   "outputs": [],
   "source": [
    "def distinct_list(data):\n",
    "    for i in range(len(data)):\n",
    "        for j in range(len(data)):\n",
    "            if i != j and data[i]==data[j]:\n",
    "                return False\n",
    "    return True"
   ]
  },
  {
   "cell_type": "code",
   "execution_count": 127,
   "metadata": {},
   "outputs": [],
   "source": [
    "test_list_unique = [1,2,3,4,5,6,7]\n",
    "test_list_repeat = [1,2,3,4,5,5,7]"
   ]
  },
  {
   "cell_type": "code",
   "execution_count": 128,
   "metadata": {},
   "outputs": [
    {
     "data": {
      "text/plain": "True"
     },
     "execution_count": 128,
     "metadata": {},
     "output_type": "execute_result"
    }
   ],
   "source": [
    "distinct_list(test_list_unique)"
   ]
  },
  {
   "cell_type": "code",
   "execution_count": 129,
   "metadata": {},
   "outputs": [
    {
     "data": {
      "text/plain": "False"
     },
     "execution_count": 129,
     "metadata": {},
     "output_type": "execute_result"
    }
   ],
   "source": [
    "distinct_list(test_list_repeat)"
   ]
  },
  {
   "cell_type": "markdown",
   "execution_count": null,
   "metadata": {},
   "outputs": [],
   "source": [
    "### C-1.16\n",
    "In our implementation of the scale function (page 25), the body of the loop executes the command `data[j] = factor`. We have discussed that numeric types are immutable, and that use of the = operator in this context causes the creation of a new instance (not the mutation of an existing instance). How is it still possible, then, that our implementation of `scale` changes the actual parameter sent by the caller?"
   ]
  },
  {
   "cell_type": "code",
   "execution_count": 132,
   "metadata": {},
   "outputs": [],
   "source": [
    "def scale(data, factor):\n",
    "    for j in range(len(data)):\n",
    "        data[j] *= factor"
   ]
  },
  {
   "cell_type": "code",
   "execution_count": 135,
   "metadata": {},
   "outputs": [
    {
     "data": {
      "text/plain": "[5.0, 10.0, 15.0, 20.0, 25.0, 30.0, 35.0, 40.0, 45.0, 50.0]"
     },
     "execution_count": 135,
     "metadata": {},
     "output_type": "execute_result"
    }
   ],
   "source": [
    "data = [10,20,30,40,50,60,70,80,90,100]\n",
    "scale(data, 0.5)\n",
    "data"
   ]
  },
  {
   "cell_type": "markdown",
   "execution_count": null,
   "metadata": {},
   "outputs": [],
   "source": [
    "This works because:\n",
    "* The data manipulation `*=` in the `scale` function operates on the actual parameter since it has same name with the formal parameter\n",
    "* The object sent by the caller is a list and thus mutable, so the operation is performed in-place"
   ]
  },
  {
   "cell_type": "markdown",
   "execution_count": null,
   "metadata": {},
   "outputs": [],
   "source": [
    "### C-1.17\n",
    "Had we implemented the `scale` function (page 25) as follows, does it work properly?\n",
    "```\n",
    "def scale(data, factor):\n",
    "    for val in data:\n",
    "        val *= factor\n",
    "```\n",
    "Explain why or why not."
   ]
  },
  {
   "cell_type": "code",
   "execution_count": 136,
   "metadata": {},
   "outputs": [
    {
     "data": {
      "text/plain": "[10, 20, 30, 40, 50, 60, 70, 80, 90, 100]"
     },
     "execution_count": 136,
     "metadata": {},
     "output_type": "execute_result"
    }
   ],
   "source": [
    "def scale_v(data, factor):\n",
    "    for val in data:\n",
    "        val *= factor\n",
    "\n",
    "data = [10,20,30,40,50,60,70,80,90,100]\n",
    "scale_v(data, 0.5)\n",
    "data"
   ]
  },
  {
   "cell_type": "markdown",
   "execution_count": null,
   "metadata": {},
   "outputs": [],
   "source": [
    "This would not work since the name `val` which although initially defined as identifier to `data` is modified and not the actual object `data` sent by the caller."
   ]
  },
  {
   "cell_type": "markdown",
   "execution_count": null,
   "metadata": {},
   "outputs": [],
   "source": [
    "### C-1.18\n",
    "Demonstrate how to use Python’s list comprehension syntax to produce the list \\[0, 2, 6, 12, 20, 30, 42, 56, 72, 90]."
   ]
  },
  {
   "cell_type": "code",
   "execution_count": 138,
   "metadata": {},
   "outputs": [
    {
     "data": {
      "text/plain": "[0, 2, 6, 12, 20, 30, 42, 56, 72, 90]"
     },
     "execution_count": 138,
     "metadata": {},
     "output_type": "execute_result"
    }
   ],
   "source": [
    "[i*(i+1) for i in range(10)]"
   ]
  },
  {
   "cell_type": "markdown",
   "execution_count": null,
   "metadata": {},
   "outputs": [],
   "source": [
    "### C-1.19\n",
    "Demonstrate how to use Python’s list comprehension syntax to produce the list [ a , b , c , ..., z ], but without having to type all 26 such characters literally."
   ]
  },
  {
   "cell_type": "code",
   "execution_count": 139,
   "metadata": {},
   "outputs": [
    {
     "data": {
      "text/plain": "['a',\n 'b',\n 'c',\n 'd',\n 'e',\n 'f',\n 'g',\n 'h',\n 'i',\n 'j',\n 'k',\n 'l',\n 'm',\n 'n',\n 'o',\n 'p',\n 'q',\n 'r',\n 's',\n 't',\n 'u',\n 'v',\n 'w',\n 'x',\n 'y',\n 'z']"
     },
     "execution_count": 139,
     "metadata": {},
     "output_type": "execute_result"
    }
   ],
   "source": [
    "[chr(i) for i in range(97,123)]"
   ]
  },
  {
   "cell_type": "markdown",
   "execution_count": null,
   "metadata": {},
   "outputs": [],
   "source": [
    "### C-1.20\n",
    "Python’s random module includes a function `shuffle(data)` that accepts a list of elements and randomly reorders the elements so that each possible order occurs with equal probability. The random module includes a more basic function `randint(a, b)` that returns a uniformly random integer from `a` to `b` (including both endpoints). Using only the `randint` function, implement your own version of the `shuffle` function."
   ]
  },
  {
   "cell_type": "code",
   "execution_count": 167,
   "metadata": {},
   "outputs": [],
   "source": [
    "import random\n",
    "def my_shuffle(data):\n",
    "    my_index = []\n",
    "    while len(my_index) < len(data):\n",
    "        j = random.randint(0, len(data)-1)\n",
    "        if j not in my_index:\n",
    "            my_index.append(j)\n",
    "    return [data[k] for k in my_index]"
   ]
  },
  {
   "cell_type": "code",
   "execution_count": 169,
   "metadata": {},
   "outputs": [
    {
     "data": {
      "text/plain": "[70, 40, 10, 60, 90, 50, 100, 80, 30, 20]"
     },
     "execution_count": 169,
     "metadata": {},
     "output_type": "execute_result"
    }
   ],
   "source": [
    "data = [10,20,30,40,50,60,70,80,90,100]\n",
    "my_shuffle(data)"
   ]
  },
  {
   "cell_type": "markdown",
   "execution_count": null,
   "metadata": {},
   "outputs": [],
   "source": [
    "### C-1.21\n",
    "Write a Python program that repeatedly reads lines from standard input until an `EOFError` is raised, and then outputs those lines in reverse order (a user can indicate end of input by typing ctrl-D)."
   ]
  },
  {
   "cell_type": "code",
   "execution_count": 173,
   "metadata": {},
   "outputs": [],
   "source": [
    "lines = []\n",
    "while True:\n",
    "    try:\n",
    "        line = input('Enter line (or press Ctrl+D to end): ')\n",
    "        lines.append(line)\n",
    "    except EOFError: # this catches Ctrl+D\n",
    "        print(*lines[::-1], sep=' ')\n",
    "        #print str(lines)[1:-1]\n",
    "        #print(' '.join(lines))\n",
    "        break"
   ]
  },
  {
   "cell_type": "markdown",
   "execution_count": null,
   "metadata": {},
   "outputs": [],
   "source": [
    "The above code works but would not exit the loop in this notebook, so had to run and show screenshots below.\n",
    "![solution to C-1.21](../images/C1P21.png)\n"
   ]
  },
  {
   "cell_type": "markdown",
   "execution_count": null,
   "metadata": {},
   "outputs": [],
   "source": [
    "### C-1.22\n",
    "Write a short Python program that takes two arrays `a` and `b` of length `n` storing `int` values, and returns the dot product of `a` and `b`. That is, it returns an array `c` of length n such that `c[i] = a[i] · b[i]`, for `i = 0, . . . , n−1.`"
   ]
  },
  {
   "cell_type": "code",
   "execution_count": 2,
   "metadata": {},
   "outputs": [],
   "source": [
    "def dot_product(a,b):\n",
    "    c = []\n",
    "    for i in range(len(a)):\n",
    "        c.append(a[i] * b[i])\n",
    "    return c"
   ]
  },
  {
   "cell_type": "code",
   "execution_count": 4,
   "metadata": {},
   "outputs": [
    {
     "data": {
      "text/plain": "[2, 8, 18, 32]"
     },
     "execution_count": 4,
     "metadata": {},
     "output_type": "execute_result"
    }
   ],
   "source": [
    "a = [1,2,3,4]\n",
    "b = [2,4,6,8]\n",
    "dot_product(a,b)"
   ]
  },
  {
   "cell_type": "markdown",
   "execution_count": null,
   "metadata": {},
   "outputs": [],
   "source": [
    "### C-1.23\n",
    "Give an example of a Python code fragment that attempts to write an element to a list based on an index that may be out of bounds. If that index is out of bounds, the program should catch the exception that results, and print the following error message:\n",
    "```“Don’t try buffer overflow attacks in Python!”```"
   ]
  },
  {
   "cell_type": "markdown",
   "execution_count": null,
   "metadata": {},
   "outputs": [],
   "source": [
    "The following is a possible code:\n",
    "```\n",
    "try:\n",
    "    list[index] = element_to_be_added\n",
    "except IndexError:\n",
    "    print(\"Don’t try buffer overflow attacks in Python!\")\n",
    "```"
   ]
  },
  {
   "cell_type": "markdown",
   "execution_count": null,
   "metadata": {},
   "outputs": [],
   "source": [
    "### C-1.24\n",
    "Write a short Python function that counts the number of vowels in a given character string."
   ]
  },
  {
   "cell_type": "code",
   "execution_count": 10,
   "metadata": {},
   "outputs": [],
   "source": [
    "def vowel_count(string):\n",
    "    vowels = ['a', 'e', 'i', 'o', 'u']\n",
    "    count = 0\n",
    "    for i in string.lower():\n",
    "        if i in vowels:\n",
    "            count += 1\n",
    "    return count"
   ]
  },
  {
   "cell_type": "code",
   "execution_count": 11,
   "metadata": {},
   "outputs": [
    {
     "data": {
      "text/plain": "6"
     },
     "execution_count": 11,
     "metadata": {},
     "output_type": "execute_result"
    }
   ],
   "source": [
    "string = \"Was it a cat I saw?\"\n",
    "vowel_count(string)"
   ]
  },
  {
   "cell_type": "markdown",
   "execution_count": null,
   "metadata": {},
   "outputs": [],
   "source": [
    "### C-1.25\n",
    "Write a short Python function that takes a string `s`, representing a sentence, and returns a copy of the string with all punctuation removed. For example, if given the string `\"Let's try, Mike.\"`, this function would return `\"Lets try Mike\"`."
   ]
  },
  {
   "cell_type": "code",
   "execution_count": 33,
   "metadata": {},
   "outputs": [],
   "source": [
    "def remove_punctuation(s):\n",
    "    alphabets = [chr(i) for i in range(97,123)] + [' ']\n",
    "    removed = []\n",
    "    for j in range(len(s)):\n",
    "        if s[j].lower() in alphabets:\n",
    "            removed.append(s[j])\n",
    "    return print(''.join(removed))"
   ]
  },
  {
   "cell_type": "code",
   "execution_count": 35,
   "metadata": {},
   "outputs": [
    {
     "name": "stdout",
     "output_type": "stream",
     "text": "Lets try Mike\n"
    }
   ],
   "source": [
    "s = \"Let's try, Mike.\"\n",
    "remove_punctuation(s)"
   ]
  },
  {
   "cell_type": "markdown",
   "execution_count": null,
   "metadata": {},
   "outputs": [],
   "source": [
    "### C-1.26\n",
    "Write a short program that takes as input three integers, `a`, `b`, and `c`, from the console and determines if they can be used in a correct arithmetic formula (in the given order), like `“a+b = c,”` `“a = b−c,”` or `“a ∗ b = c.”`"
   ]
  },
  {
   "cell_type": "code",
   "execution_count": 38,
   "metadata": {},
   "outputs": [],
   "source": [
    "a = int(input(\"Enter number a: \"))\n",
    "b = int(input(\"Enter number b: \"))\n",
    "c = int(input(\"Enter number c: \"))\n",
    "\n",
    "if a+b == c:\n",
    "    print(\"a + b = c\")\n",
    "if b-c == a:\n",
    "    print(\"a = b − c\")\n",
    "if a * b == c:\n",
    "    print(\"a * b = c\")"
   ]
  },
  {
   "cell_type": "markdown",
   "execution_count": null,
   "metadata": {},
   "outputs": [],
   "source": [
    "### C-1.27\n",
    "In Section 1.8, we provided three different implementations of a generator that computes factors of a given integer. The third of those implementations, from page 41, was the most efficient, but we noted that it did not yield the factors in increasing order. Modify the generator so that it reports factors in increasing order, while maintaining its general performance advantages."
   ]
  },
  {
   "cell_type": "code",
   "execution_count": 109,
   "metadata": {},
   "outputs": [],
   "source": [
    "def factors(n): # generator that computes factors\n",
    "    k = 1\n",
    "    higher = []\n",
    "    while k * k < n: # while k < sqrt(n)\n",
    "        if n % k == 0:\n",
    "            higher.append(n // k)\n",
    "            yield k\n",
    "            #yield n//k\n",
    "        k += 1\n",
    "    if k * k == n: # special case if n is perfect square\n",
    "        yield k\n",
    "    while higher:\n",
    "        k = higher.pop()\n",
    "        yield k"
   ]
  },
  {
   "cell_type": "code",
   "execution_count": 110,
   "metadata": {},
   "outputs": [
    {
     "data": {
      "text/plain": "[1, 2, 4, 5, 10, 20, 25, 50, 100]"
     },
     "execution_count": 110,
     "metadata": {},
     "output_type": "execute_result"
    }
   ],
   "source": [
    "list(factors(100))"
   ]
  },
  {
   "cell_type": "markdown",
   "execution_count": null,
   "metadata": {},
   "outputs": [],
   "source": [
    "### C-1.28\n",
    "The p-norm of a vector $v = (v_1,v_2, . . . ,v_n)$ in n-dimensional space is defined as\n",
    "$$||v|| = \\sqrt[p]{v^p_1 + v^p_2 + ... + v^p_n}$$\n",
    "For the special case of p = 2, this results in the traditional Euclidean norm, which represents the length of the vector. For example, the Euclidean norm of a two-dimensional vector with coordinates (4,3) has a Euclidean norm of $\\sqrt{4^2+3^2} = \\sqrt{16+9} = \\sqrt{25} = 5$. Give an implementation of a function named norm such that `norm(v, p)` returns the p-norm value of `v` and `norm(v)` returns the Euclidean norm of `v`. You may assume that `v` is a list of numbers."
   ]
  },
  {
   "cell_type": "code",
   "execution_count": 53,
   "metadata": {},
   "outputs": [],
   "source": [
    "def norm(v, p=2):\n",
    "    squared_sum = sum([i**2 for i in v])\n",
    "    return pow(squared_sum, 1/p)"
   ]
  },
  {
   "cell_type": "code",
   "execution_count": 111,
   "metadata": {},
   "outputs": [
    {
     "data": {
      "text/plain": "10.551004691497393"
     },
     "execution_count": 111,
     "metadata": {},
     "output_type": "execute_result"
    }
   ],
   "source": [
    "norm([2.4,5.67,3.12,7.98])"
   ]
  },
  {
   "cell_type": "markdown",
   "execution_count": null,
   "metadata": {},
   "outputs": [],
   "source": [
    "# Projects\n",
    "### P-1.29\n",
    "Write a Python program that outputs all possible strings formed by using the characters `'c', 'a', 't', 'd', 'o', and 'g'` exactly once."
   ]
  },
  {
   "cell_type": "code",
   "execution_count": 2,
   "metadata": {},
   "outputs": [],
   "source": [
    "characters = ['c', 'a', 't', 'd', 'o', 'g']"
   ]
  },
  {
   "cell_type": "code",
   "execution_count": 25,
   "metadata": {},
   "outputs": [],
   "source": [
    "def permutation(chars, start, end):\n",
    "    # base\n",
    "    if start == end:\n",
    "        print(''.join(chars))\n",
    "        return\n",
    "\n",
    "    for i in range(start, end):\n",
    "        chars[start], chars[i] = chars[i], chars[start]\n",
    "        permutation(chars, start+1, end)\n",
    "        # backtrack like a tree, to restore previous state\n",
    "        chars[start], chars[i] = chars[i], chars[start]"
   ]
  },
  {
   "cell_type": "code",
   "execution_count": 26,
   "metadata": {},
   "outputs": [
    {
     "name": "stdout",
     "output_type": "stream",
     "text": "catdog\ncatdgo\ncatodg\ncatogd\ncatgod\ncatgdo\ncadtog\ncadtgo\ncadotg\ncadogt\ncadgot\ncadgto\ncaodtg\ncaodgt\ncaotdg\ncaotgd\ncaogtd\ncaogdt\ncagdot\ncagdto\ncagodt\ncagotd\ncagtod\ncagtdo\nctadog\nctadgo\nctaodg\nctaogd\nctagod\nctagdo\nctdaog\nctdago\nctdoag\nctdoga\nctdgoa\nctdgao\nctodag\nctodga\nctoadg\nctoagd\nctogad\nctogda\nctgdoa\nctgdao\nctgoda\nctgoad\nctgaod\nctgado\ncdtaog\ncdtago\ncdtoag\ncdtoga\ncdtgoa\ncdtgao\ncdatog\ncdatgo\ncdaotg\ncdaogt\ncdagot\ncdagto\ncdoatg\ncdoagt\ncdotag\ncdotga\ncdogta\ncdogat\ncdgaot\ncdgato\ncdgoat\ncdgota\ncdgtoa\ncdgtao\ncotdag\ncotdga\ncotadg\ncotagd\ncotgad\ncotgda\ncodtag\ncodtga\ncodatg\ncodagt\ncodgat\ncodgta\ncoadtg\ncoadgt\ncoatdg\ncoatgd\ncoagtd\ncoagdt\ncogdat\ncogdta\ncogadt\ncogatd\ncogtad\ncogtda\ncgtdoa\ncgtdao\ncgtoda\ncgtoad\ncgtaod\ncgtado\ncgdtoa\ncgdtao\ncgdota\ncgdoat\ncgdaot\ncgdato\ncgodta\ncgodat\ncgotda\ncgotad\ncgoatd\ncgoadt\ncgadot\ncgadto\ncgaodt\ncgaotd\ncgatod\ncgatdo\nactdog\nactdgo\nactodg\nactogd\nactgod\nactgdo\nacdtog\nacdtgo\nacdotg\nacdogt\nacdgot\nacdgto\nacodtg\nacodgt\nacotdg\nacotgd\nacogtd\nacogdt\nacgdot\nacgdto\nacgodt\nacgotd\nacgtod\nacgtdo\natcdog\natcdgo\natcodg\natcogd\natcgod\natcgdo\natdcog\natdcgo\natdocg\natdogc\natdgoc\natdgco\natodcg\natodgc\natocdg\natocgd\natogcd\natogdc\natgdoc\natgdco\natgodc\natgocd\natgcod\natgcdo\nadtcog\nadtcgo\nadtocg\nadtogc\nadtgoc\nadtgco\nadctog\nadctgo\nadcotg\nadcogt\nadcgot\nadcgto\nadoctg\nadocgt\nadotcg\nadotgc\nadogtc\nadogct\nadgcot\nadgcto\nadgoct\nadgotc\nadgtoc\nadgtco\naotdcg\naotdgc\naotcdg\naotcgd\naotgcd\naotgdc\naodtcg\naodtgc\naodctg\naodcgt\naodgct\naodgtc\naocdtg\naocdgt\naoctdg\naoctgd\naocgtd\naocgdt\naogdct\naogdtc\naogcdt\naogctd\naogtcd\naogtdc\nagtdoc\nagtdco\nagtodc\nagtocd\nagtcod\nagtcdo\nagdtoc\nagdtco\nagdotc\nagdoct\nagdcot\nagdcto\nagodtc\nagodct\nagotdc\nagotcd\nagoctd\nagocdt\nagcdot\nagcdto\nagcodt\nagcotd\nagctod\nagctdo\ntacdog\ntacdgo\ntacodg\ntacogd\ntacgod\ntacgdo\ntadcog\ntadcgo\ntadocg\ntadogc\ntadgoc\ntadgco\ntaodcg\ntaodgc\ntaocdg\ntaocgd\ntaogcd\ntaogdc\ntagdoc\ntagdco\ntagodc\ntagocd\ntagcod\ntagcdo\ntcadog\ntcadgo\ntcaodg\ntcaogd\ntcagod\ntcagdo\ntcdaog\ntcdago\ntcdoag\ntcdoga\ntcdgoa\ntcdgao\ntcodag\ntcodga\ntcoadg\ntcoagd\ntcogad\ntcogda\ntcgdoa\ntcgdao\ntcgoda\ntcgoad\ntcgaod\ntcgado\ntdcaog\ntdcago\ntdcoag\ntdcoga\ntdcgoa\ntdcgao\ntdacog\ntdacgo\ntdaocg\ntdaogc\ntdagoc\ntdagco\ntdoacg\ntdoagc\ntdocag\ntdocga\ntdogca\ntdogac\ntdgaoc\ntdgaco\ntdgoac\ntdgoca\ntdgcoa\ntdgcao\ntocdag\ntocdga\ntocadg\ntocagd\ntocgad\ntocgda\ntodcag\ntodcga\ntodacg\ntodagc\ntodgac\ntodgca\ntoadcg\ntoadgc\ntoacdg\ntoacgd\ntoagcd\ntoagdc\ntogdac\ntogdca\ntogadc\ntogacd\ntogcad\ntogcda\ntgcdoa\ntgcdao\ntgcoda\ntgcoad\ntgcaod\ntgcado\ntgdcoa\ntgdcao\ntgdoca\ntgdoac\ntgdaoc\ntgdaco\ntgodca\ntgodac\ntgocda\ntgocad\ntgoacd\ntgoadc\ntgadoc\ntgadco\ntgaodc\ntgaocd\ntgacod\ntgacdo\ndatcog\ndatcgo\ndatocg\ndatogc\ndatgoc\ndatgco\ndactog\ndactgo\ndacotg\ndacogt\ndacgot\ndacgto\ndaoctg\ndaocgt\ndaotcg\ndaotgc\ndaogtc\ndaogct\ndagcot\ndagcto\ndagoct\ndagotc\ndagtoc\ndagtco\ndtacog\ndtacgo\ndtaocg\ndtaogc\ndtagoc\ndtagco\ndtcaog\ndtcago\ndtcoag\ndtcoga\ndtcgoa\ndtcgao\ndtocag\ndtocga\ndtoacg\ndtoagc\ndtogac\ndtogca\ndtgcoa\ndtgcao\ndtgoca\ndtgoac\ndtgaoc\ndtgaco\ndctaog\ndctago\ndctoag\ndctoga\ndctgoa\ndctgao\ndcatog\ndcatgo\ndcaotg\ndcaogt\ndcagot\ndcagto\ndcoatg\ndcoagt\ndcotag\ndcotga\ndcogta\ndcogat\ndcgaot\ndcgato\ndcgoat\ndcgota\ndcgtoa\ndcgtao\ndotcag\ndotcga\ndotacg\ndotagc\ndotgac\ndotgca\ndoctag\ndoctga\ndocatg\ndocagt\ndocgat\ndocgta\ndoactg\ndoacgt\ndoatcg\ndoatgc\ndoagtc\ndoagct\ndogcat\ndogcta\ndogact\ndogatc\ndogtac\ndogtca\ndgtcoa\ndgtcao\ndgtoca\ndgtoac\ndgtaoc\ndgtaco\ndgctoa\ndgctao\ndgcota\ndgcoat\ndgcaot\ndgcato\ndgocta\ndgocat\ndgotca\ndgotac\ndgoatc\ndgoact\ndgacot\ndgacto\ndgaoct\ndgaotc\ndgatoc\ndgatco\noatdcg\noatdgc\noatcdg\noatcgd\noatgcd\noatgdc\noadtcg\noadtgc\noadctg\noadcgt\noadgct\noadgtc\noacdtg\noacdgt\noactdg\noactgd\noacgtd\noacgdt\noagdct\noagdtc\noagcdt\noagctd\noagtcd\noagtdc\notadcg\notadgc\notacdg\notacgd\notagcd\notagdc\notdacg\notdagc\notdcag\notdcga\notdgca\notdgac\notcdag\notcdga\notcadg\notcagd\notcgad\notcgda\notgdca\notgdac\notgcda\notgcad\notgacd\notgadc\nodtacg\nodtagc\nodtcag\nodtcga\nodtgca\nodtgac\nodatcg\nodatgc\nodactg\nodacgt\nodagct\nodagtc\nodcatg\nodcagt\nodctag\nodctga\nodcgta\nodcgat\nodgact\nodgatc\nodgcat\nodgcta\nodgtca\nodgtac\noctdag\noctdga\noctadg\noctagd\noctgad\noctgda\nocdtag\nocdtga\nocdatg\nocdagt\nocdgat\nocdgta\nocadtg\nocadgt\nocatdg\nocatgd\nocagtd\nocagdt\nocgdat\nocgdta\nocgadt\nocgatd\nocgtad\nocgtda\nogtdca\nogtdac\nogtcda\nogtcad\nogtacd\nogtadc\nogdtca\nogdtac\nogdcta\nogdcat\nogdact\nogdatc\nogcdta\nogcdat\nogctda\nogctad\nogcatd\nogcadt\nogadct\nogadtc\nogacdt\nogactd\nogatcd\nogatdc\ngatdoc\ngatdco\ngatodc\ngatocd\ngatcod\ngatcdo\ngadtoc\ngadtco\ngadotc\ngadoct\ngadcot\ngadcto\ngaodtc\ngaodct\ngaotdc\ngaotcd\ngaoctd\ngaocdt\ngacdot\ngacdto\ngacodt\ngacotd\ngactod\ngactdo\ngtadoc\ngtadco\ngtaodc\ngtaocd\ngtacod\ngtacdo\ngtdaoc\ngtdaco\ngtdoac\ngtdoca\ngtdcoa\ngtdcao\ngtodac\ngtodca\ngtoadc\ngtoacd\ngtocad\ngtocda\ngtcdoa\ngtcdao\ngtcoda\ngtcoad\ngtcaod\ngtcado\ngdtaoc\ngdtaco\ngdtoac\ngdtoca\ngdtcoa\ngdtcao\ngdatoc\ngdatco\ngdaotc\ngdaoct\ngdacot\ngdacto\ngdoatc\ngdoact\ngdotac\ngdotca\ngdocta\ngdocat\ngdcaot\ngdcato\ngdcoat\ngdcota\ngdctoa\ngdctao\ngotdac\ngotdca\ngotadc\ngotacd\ngotcad\ngotcda\ngodtac\ngodtca\ngodatc\ngodact\ngodcat\ngodcta\ngoadtc\ngoadct\ngoatdc\ngoatcd\ngoactd\ngoacdt\ngocdat\ngocdta\ngocadt\ngocatd\ngoctad\ngoctda\ngctdoa\ngctdao\ngctoda\ngctoad\ngctaod\ngctado\ngcdtoa\ngcdtao\ngcdota\ngcdoat\ngcdaot\ngcdato\ngcodta\ngcodat\ngcotda\ngcotad\ngcoatd\ngcoadt\ngcadot\ngcadto\ngcaodt\ngcaotd\ngcatod\ngcatdo\n"
    }
   ],
   "source": [
    "permutation(characters, 0, len(characters))"
   ]
  },
  {
   "cell_type": "markdown",
   "execution_count": 20,
   "metadata": {},
   "outputs": [
    {
     "ename": "StopIteration",
     "evalue": "",
     "output_type": "error",
     "traceback": [
      "\u001b[1;31m---------------------------------------------------------------------------\u001b[0m",
      "\u001b[1;31mStopIteration\u001b[0m                             Traceback (most recent call last)",
      "\u001b[1;32m<ipython-input-20-e640eff48ab3>\u001b[0m in \u001b[0;36m<module>\u001b[1;34m\u001b[0m\n\u001b[1;32m----> 1\u001b[1;33m \u001b[0mnext\u001b[0m\u001b[1;33m(\u001b[0m\u001b[0manss\u001b[0m\u001b[1;33m)\u001b[0m\u001b[1;33m\u001b[0m\u001b[1;33m\u001b[0m\u001b[0m\n\u001b[0m",
      "\u001b[1;31mStopIteration\u001b[0m: "
     ]
    }
   ],
   "source": [
    "### P-1.30\n",
    "Write a Python program that can take a positive integer greater than 2 as input and write out the number of times one must repeatedly divide this number by 2 before getting a value less than 2."
   ]
  },
  {
   "cell_type": "code",
   "execution_count": 27,
   "metadata": {},
   "outputs": [],
   "source": [
    "def bin_divide_times(n):\n",
    "    if n <= 2:\n",
    "        raise ValueError\n",
    "    else:\n",
    "        count = 0\n",
    "        rem = n\n",
    "        while rem >= 2:\n",
    "            rem = rem/2.\n",
    "            count += 1\n",
    "        return count\n"
   ]
  },
  {
   "cell_type": "code",
   "execution_count": 34,
   "metadata": {},
   "outputs": [
    {
     "data": {
      "text/plain": "6"
     },
     "execution_count": 34,
     "metadata": {},
     "output_type": "execute_result"
    }
   ],
   "source": [
    "bin_divide_times(64)"
   ]
  },
  {
   "cell_type": "markdown",
   "execution_count": null,
   "metadata": {},
   "outputs": [],
   "source": [
    "### P-1.31\n",
    "Write a Python program that can “make change.” Your program should take two numbers as input, one that is a monetary amount charged and the other that is a monetary amount given. It should then return the number of each kind of bill and coin to give back as change for the difference between the amount given and the amount charged. The values assigned to the bills and coins can be based on the monetary system of any current or former government. Try to design your program so that it returns as few bills and coins as possible."
   ]
  },
  {
   "cell_type": "code",
   "execution_count": 95,
   "metadata": {},
   "outputs": [],
   "source": [
    "def make_change(amount):\n",
    "    bills = [100, 50, 20, 10, 5, 2, 1, 0.5, 0.25, 0.1, 0.05, 0.01]\n",
    "    denom = ['dollars','dollars','dollars','dollars','dollars','dollars','dollar','half dollar(s)', 'quarter(s)', 'dime(s)', 'fifth(s)', 'penny(s)']\n",
    "    change = []\n",
    "    rem = amount\n",
    "    i = 0\n",
    "\n",
    "    while rem:\n",
    "        number, rem = divmod(rem,bills[i])\n",
    "        change.append(int(number))\n",
    "        rem = round(rem, 2)\n",
    "        i +=1\n",
    "    print(\"You have requested for a change of $\"+str(amount)+\"\\nwhich will be paid to you in the following denominations:\\n\")\n",
    "    for i in range(len(change)):\n",
    "        if change[i]:\n",
    "            print(change[i], 'x', bills[i], denom[i])"
   ]
  },
  {
   "cell_type": "code",
   "execution_count": 96,
   "metadata": {},
   "outputs": [
    {
     "name": "stdout",
     "output_type": "stream",
     "text": "You have requested for a change of $150.72\nwhich will be paid to you in the following denominations:\n\n1 x 100 dollars\n1 x 50 dollars\n1 x 0.5 half dollar(s)\n2 x 0.1 dime(s)\n2 x 0.01 penny(s)\n"
    }
   ],
   "source": [
    "make_change(150.72)"
   ]
  },
  {
   "cell_type": "markdown",
   "execution_count": null,
   "metadata": {},
   "outputs": [],
   "source": [
    "### P-1.32\n",
    "Write a Python program that can simulate a simple calculator, using the console as the exclusive input and output device. That is, each input to the calculator, be it a number, like `12.34` or `1034`, or an operator, like `+` or `=`, can be done on a separate line. After each such input, you should output to the Python console what would be displayed on your calculator."
   ]
  },
  {
   "cell_type": "code",
   "execution_count": 9,
   "metadata": {},
   "outputs": [
    {
     "name": "stdout",
     "output_type": "stream",
     "text": "10.0\n"
    }
   ],
   "source": [
    "ans = 0\n",
    "operators = ['+','-','/','*']\n",
    "entry = 0\n",
    "while entry != '=':\n",
    "    entry = input(\"Input: \")\n",
    "    if entry == '=':\n",
    "        print(ans)\n",
    "    elif entry in operators:\n",
    "        if entry == '+':\n",
    "            dentry = float(input(\"Input: \"))\n",
    "            ans = ans + dentry\n",
    "        elif entry == '-':\n",
    "            dentry = float(input(\"Input: \"))\n",
    "            ans = ans - dentry\n",
    "        elif entry == '/':\n",
    "            dentry = float(input(\"Input: \"))\n",
    "            ans = ans / dentry\n",
    "        else:\n",
    "            dentry = float(input(\"Input: \"))\n",
    "            ans = ans * dentry\n",
    "    else:\n",
    "        ans = float(entry)"
   ]
  },
  {
   "cell_type": "markdown",
   "execution_count": 103,
   "metadata": {},
   "outputs": [],
   "source": [
    "### P-1.33\n",
    "Write a Python program that simulates a handheld calculator. Your program should process input from the Python console representing buttons that are “pushed,” and then output the contents of the screen after each operation is performed. Minimally, your calculator should be able to process the basic arithmetic operations and a reset/clear operation."
   ]
  },
  {
   "cell_type": "code",
   "execution_count": 4,
   "metadata": {},
   "outputs": [
    {
     "name": "stdout",
     "output_type": "stream",
     "text": "9.0\n"
    }
   ],
   "source": [
    "ans = 0\n",
    "operators = ['+','-','/','*']\n",
    "entry = 0\n",
    "while entry != '=':\n",
    "    entry = input(\"Input: \")\n",
    "    if entry == '=':\n",
    "        print(ans)\n",
    "    elif entry in operators:\n",
    "        if entry == '+':\n",
    "            dentry = float(input(\"Input: \"))\n",
    "            ans = ans + dentry\n",
    "        elif entry == '-':\n",
    "            dentry = float(input(\"Input: \"))\n",
    "            ans = ans - dentry\n",
    "        elif entry == '/':\n",
    "            dentry = float(input(\"Input: \"))\n",
    "            ans = ans / dentry\n",
    "        else:\n",
    "            dentry = float(input(\"Input: \"))\n",
    "            ans = ans * dentry\n",
    "    else:\n",
    "        ans = float(entry)"
   ]
  },
  {
   "cell_type": "markdown",
   "execution_count": null,
   "metadata": {},
   "outputs": [],
   "source": [
    "### P-1.34\n",
    "A common punishment for school children is to write out a sentence multiple times. Write a Python stand-alone program that will write out the following sentence one hundred times: “I will never spam my friends again.” Your program should number each of the sentences and it should make eight different random-looking typos."
   ]
  },
  {
   "cell_type": "code",
   "execution_count": 90,
   "metadata": {},
   "outputs": [
    {
     "name": "stdout",
     "output_type": "stream",
     "text": "1) I wli lnveer spm amyf riends agian.\n2) I wil lenver spa mmyf redinsa gain.\n3) I willn ever samp my rifensda gian.\n4) I will envers pma my fredins aigan.\n5) I i wllnever sapm my rfeidns again.\n6) I wil nleevrp sam my ferind sagain.\n7) I wil lnveer sapm y mfriedn sagian.\n8) I wliln eev srap mmy friends gaain.\n9) I iwl lneve rsap mmy rfiends gaian.\n10) I iwll nerve spam ym friednsa gian.\n11) I iwll nveers pamm y frinsed gaain.\n12) I wil lnev ersp amm yfrineds agian.\n13) I iwll never sapym m friendas gain.\n14) I wilnl ever sap my mfrien dsagain.\n15) I will nevers pam m fyreind saagin.\n16) I wli lnveer sap mmyf rnieds again.\n17) I will nevers apmm y rfiesnd agani.\n18) I will neev rspma mfy riedns gaain.\n19) I wil leenr vspam my friednsa gain.\n20) I will nveer smpa my freinsd agina.\n21) I will vneers pam my freind asigan.\n22) I lwiln evers pam ymf reinds agian.\n23) I will enve rsap mmyf riedn saagin.\n24) I iwll enevr spamm y friensdag ian.\n25) I will neevrsp mam  yfriends aagin.\n26) I lwi lnevres apm my friens dagain.\n27) I iwll nveer psm amy freind sagani.\n28) I iwllne ver spam mfy reinds aagni.\n29) I will nev erspa mmy frnides agani.\n30) I iwl lenevrs pam m yfriends agani.\n31) I iwl lneevr psamm y friends gaian.\n32) I iw llnveer aspm my rfiends agani.\n33) I wlil nev esrapm my friensd gaain.\n34) I will vneers pm amy firendsa gani.\n35) I wli lenevr psammy  friends gaain.\n36) I wlil nevr espam m fyriensda gain.\n37) I wli lnever psam mfy iredn sagain.\n38) I iwll enrve sa pmmy friends aagin.\n39) I will enevr spamm y rifednsg aain.\n40) I ilwl enver sp ammyfi rends again.\n41) I iwlle vner spmam y rfiedns again.\n42) I wli lenvre spam my firedns aaign.\n43) I willn evser pma my frined saagin.\n44) I will nevesr pa mm yfriedsn agnai.\n45) I iwl lneve rsp ammy friensd gaian.\n46) I wli lneve raspm ym friedns agian.\n47) I wil elvner spa mmy friend sagian.\n48) I will neve rspam yfm rinedsag ain.\n49) I iwlln evr espam m yrfiend sgaain.\n50) I will nevesr pam myfr iends aagni.\n51) I willn eve rspma myf irdens again.\n52) I willn veer spamm y rfinedsag ani.\n53) I lwil nveer spa mmy frein dsaagin.\n54) I iwl lenver spa mm yfirend sagian.\n55) I iwlln evre sapm my frenids agnai.\n56) I will nveers pmam yf irends aagin.\n57) I iwll nevres pma myfr iedns gaain.\n58) I wil lneevr spam  myfreinsda gian.\n59) I iwlln ever psamm yf irend sgaain.\n60) I iwlln v eerspam m yfriends agian.\n61) I wlinl ever spam my frendis aagin.\n62) I iwll nev ersapm m yfriensd aagni.\n63) I will evnres pam ym firneds agian.\n64) I willne ev rspma my rfineds aagin.\n65) I wli nleevrs pam my firends aaign.\n66) I wliln eevr spamm yf rineds agani.\n67) I iwll neve rspmamy  friendsg aani.\n68) I iwll never spa mmy fireds ngaani.\n69) I iwll neve rspam my fierdsna gani.\n70) I wi llnever pasmm y ifrensd again.\n71) I iwll evne rspam m yfriendsg aani.\n72) I wille vnrep sam my friesnd again.\n73) I wil lnveer sapmm y firendsa agni.\n74) I wil lneve rspma ym freidsn aagin.\n75) I wil lneverp sam ymfr eindsa gain.\n76) I wil nlever psam myf ernids agani.\n77) I willn ever psam ym frined sgaian.\n78) I willne evr spma my firend sagian.\n79) I iwll vneers pamm y frineds aigan.\n80) I wlli neev rspam myf riends gaain.\n81) I will evner sapm my firdens agani.\n82) I wlli nevre spa mmy firend saagin.\n83) I wil nlevr espa mmy frienads gain.\n84) I willn eevrs apm myf ridesn again.\n85) I will nveer psam fmy rnied sagain.\n86) I wil lnvere spaym m friensd agani.\n87) I will enevrsp am my fiernd sagain.\n88) I iwl lnevre spamf my riends aagin.\n89) I ilw lenve rsapmm y frineds again.\n90) I wi llenrve psam my rfineds again.\n91) I iwlnle evr spam my friensd aagni.\n92) I iwll vneer sapm ym friends gaian.\n93) I will neev rsap mmy ferinds agian.\n94) I wil lneevr spa mmy rfein dasgain.\n95) I iwll nveer psma my friens dagain.\n96) I will nveer spam myf reidn sgaain.\n97) I wil lnvere spamy m frnieds gaain.\n98) I wilnl ever spa mm fyirensd agani.\n99) I wlil nveers pa m myfreindsa gain.\n100) I iwll envesr pam myf riend sgaian.\n"
    }
   ],
   "source": [
    "string = \"I will never spam my friends again.\"\n",
    "\n",
    "for i in range(100):\n",
    "    string_copy = list(string)\n",
    "    scatter_a = random.sample(range(2,len(string)-2), 8)\n",
    "    scatter_b = [j+1 for j in scatter_a]\n",
    "    for k in range(8):\n",
    "        string_copy[scatter_a[k]], string_copy[scatter_b[k]] = string_copy[scatter_b[k]], string_copy[scatter_a[k]] \n",
    "    print(str(i+1)+\")\", \"\".join(string_copy))"
   ]
  },
  {
   "cell_type": "markdown",
   "execution_count": null,
   "metadata": {},
   "outputs": [],
   "source": [
    "### P-1.35\n",
    "The *birthday paradox* says that the probability that two people in a room will have the same birthday is more than half, provided `n`, the number of people in the room, is more than 23. This property is not really a paradox, but many people find it surprising. Design a Python program that can test this paradox by a series of experiments on randomly generated birthdays, which test this paradox for `n = 5,10,15,20, . . . ,100`."
   ]
  },
  {
   "cell_type": "code",
   "execution_count": 63,
   "metadata": {},
   "outputs": [
    {
     "name": "stdout",
     "output_type": "stream",
     "text": "Out of the 100 people in the room, 28 of them have the same birthday\n"
    }
   ],
   "source": [
    "import random\n",
    "n = 100\n",
    "days = []\n",
    "months = []\n",
    "for i in range(n):\n",
    "    days.append(random.randint(1,31))\n",
    "    months.append(random.randint(1,12))\n",
    "birthdays = tuple(zip(days, months))\n",
    "\n",
    "mates = 0\n",
    "\n",
    "for i in range(len(birthdays)):\n",
    "    for j in range(len(birthdays)):\n",
    "        if i != j and birthdays[i] == birthdays[j]:\n",
    "            mates += 1\n",
    "\n",
    "print(\"Out of the\", n, \"people in the room,\", mates, \"of them have the same birthday\")"
   ]
  },
  {
   "cell_type": "markdown",
   "execution_count": null,
   "metadata": {},
   "outputs": [],
   "source": [
    "### P-1.36\n",
    "Write a Python program that inputs a list of words, separated by whitespace, and outputs how many times each word appears in the list. You need not worry about efficiency at this point, however, as this topic is something that will be addressed later in this book."
   ]
  },
  {
   "cell_type": "code",
   "execution_count": 65,
   "metadata": {},
   "outputs": [
    {
     "name": "stdout",
     "output_type": "stream",
     "text": "The word \"it\" appeared 5 times\nThe word \"was\" appeared 4 times\nThe word \"the\" appeared 6 times\nThe word \"best\" appeared 1 times\nThe word \"of\" appeared 6 times\nThe word \"times\" appeared 3 times\nThe word \"worst\" appeared 1 times\nThe word \"age\" appeared 2 times\nThe word \"is\" appeared 1 times\nThe word \"most\" appeared 1 times\nThe word \"years\" appeared 1 times\n"
    }
   ],
   "source": [
    "word_list = input(\"Please enter the list of words separated by whitespace\")\n",
    "words = word_list.split(' ')\n",
    "counts = []\n",
    "counted = []\n",
    "\n",
    "for word in words:\n",
    "    if word not in counted:\n",
    "        n = 0\n",
    "        for i in range(len(words)):\n",
    "            if words[i] == word:\n",
    "                n += 1\n",
    "        counts.append((word,n))\n",
    "        counted.append(word)\n",
    "\n",
    "for _, count in enumerate(counts):\n",
    "    print(\"The word\", '\"'+count[0]+'\"', \"appeared\", count[1], \"times\")"
   ]
  }
 ]
}