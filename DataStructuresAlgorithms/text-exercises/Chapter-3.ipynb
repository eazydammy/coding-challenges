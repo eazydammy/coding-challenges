{
 "nbformat": 4,
 "nbformat_minor": 2,
 "metadata": {
  "language_info": {
   "name": "python",
   "codemirror_mode": {
    "name": "ipython",
    "version": 3
   },
   "version": "3.7.3-final"
  },
  "orig_nbformat": 2,
  "file_extension": ".py",
  "mimetype": "text/x-python",
  "name": "python",
  "npconvert_exporter": "python",
  "pygments_lexer": "ipython3",
  "version": 3,
  "kernelspec": {
   "name": "python37364bitbasecondadd691ec5b02843bba03cba763c7bcea6",
   "display_name": "Python 3.7.3 64-bit ('base': conda)"
  }
 },
 "cells": [
  {
   "cell_type": "markdown",
   "execution_count": null,
   "metadata": {},
   "outputs": [],
   "source": [
    "# Reinforcement\n",
    "### R-3.1\n",
    "Graph the functions $8n$, $4n\\log n$, $2n^2$, $n^3$, and $2n$ using a logarithmic scale for the x- and y-axes; that is, if the function value $f(n)$ is $y$, plot this as a point with x-coordinate at $\\log n$ and y-coordinate at $\\log y$."
   ]
  },
  {
   "cell_type": "code",
   "execution_count": 1,
   "metadata": {},
   "outputs": [],
   "source": [
    "import matplotlib.pyplot as plt\n",
    "import numpy as np"
   ]
  },
  {
   "cell_type": "code",
   "execution_count": 2,
   "metadata": {},
   "outputs": [],
   "source": [
    "ns = [2.**i for i in range(40)]"
   ]
  },
  {
   "cell_type": "code",
   "execution_count": 3,
   "metadata": {},
   "outputs": [],
   "source": [
    "f1 = [n * 8 for n in ns]\n",
    "f2 = [(4*n) * np.log2(n) for n in ns]\n",
    "f3 = [2 * n**2 for n in ns]\n",
    "f4 = [n**3 for n in ns]\n",
    "f5 = [n * 2 for n in ns]"
   ]
  },
  {
   "cell_type": "code",
   "execution_count": 4,
   "metadata": {},
   "outputs": [
    {
     "data": {
      "text/plain": "<matplotlib.legend.Legend at 0x1f4088d63c8>"
     },
     "execution_count": 4,
     "metadata": {},
     "output_type": "execute_result"
    },
    {
     "data": {
      "image/png": "[encoded data removed]",
      "image/svg+xml": "<?xml version=\"1.0\" encoding=\"utf-8\" standalone=\"no\"?>\r\n<!DOCTYPE svg PUBLIC \"-//W3C//DTD SVG 1.1//EN\"\r\n  \"http://www.w3.org/Graphics/SVG/1.1/DTD/svg11.dtd\">\r\n<!-- Created with matplotlib (https://matplotlib.org/) -->\r\n<svg height=\"263.63625pt\" version=\"1.1\" viewBox=\"0 0 381.8 263.63625\" width=\"381.8pt\" xmlns=\"http://www.w3.org/2000/svg\" xmlns:xlink=\"http://www.w3.org/1999/xlink\">\r\n <defs>\r\n  <style type=\"text/css\">\r\n*{stroke-linecap:butt;stroke-linejoin:round;}\r\n  </style>\r\n </defs>\r\n <g id=\"figure_1\">\r\n  <g id=\"patch_1\">\r\n   <path d=\"M 0 263.63625 \r\nL 381.8 263.63625 \r\nL 381.8 0 \r\nL 0 0 \r\nz\r\n\" style=\"fill:none;\"/>\r\n  </g>\r\n  <g id=\"axes_1\">\r\n   <g id=\"patch_2\">\r\n    <path d=\"M 36.3 239.758125 \r\nL 371.1 239.758125 \r\nL 371.1 22.318125 \r\nL 36.3 22.318125 \r\nz\r\n\" style=\"fill:#ffffff;\"/>\r\n   </g>\r\n   <g id=\"matplotlib.axis_1\">\r\n    <g id=\"xtick_1\">\r\n     <g id=\"line2d_1\">\r\n      <path clip-path=\"url(#pa7299c6059)\" d=\"M 36.3 239.758125 \r\nL 36.3 22.318125 \r\n\" style=\"fill:none;stroke:#b0b0b0;stroke-linecap:square;stroke-width:0.8;\"/>\r\n     </g>\r\n     <g id=\"line2d_2\">\r\n      <defs>\r\n       <path d=\"M 0 0 \r\nL 0 3.5 \r\n\" id=\"m392cce2877\" style=\"stroke:#000000;stroke-width:0.8;\"/>\r\n      </defs>\r\n      <g>\r\n       <use style=\"stroke:#000000;stroke-width:0.8;\" x=\"36.3\" xlink:href=\"#m392cce2877\" y=\"239.758125\"/>\r\n      </g>\r\n     </g>\r\n     <g id=\"text_1\">\r\n      <!-- $\\mathdefault{10^{0}}$ -->\r\n      <defs>\r\n       <path d=\"M 12.40625 8.296875 \r\nL 28.515625 8.296875 \r\nL 28.515625 63.921875 \r\nL 10.984375 60.40625 \r\nL 10.984375 69.390625 \r\nL 28.421875 72.90625 \r\nL 38.28125 72.90625 \r\nL 38.28125 8.296875 \r\nL 54.390625 8.296875 \r\nL 54.390625 0 \r\nL 12.40625 0 \r\nz\r\n\" id=\"DejaVuSans-49\"/>\r\n       <path d=\"M 31.78125 66.40625 \r\nQ 24.171875 66.40625 20.328125 58.90625 \r\nQ 16.5 51.421875 16.5 36.375 \r\nQ 16.5 21.390625 20.328125 13.890625 \r\nQ 24.171875 6.390625 31.78125 6.390625 \r\nQ 39.453125 6.390625 43.28125 13.890625 \r\nQ 47.125 21.390625 47.125 36.375 \r\nQ 47.125 51.421875 43.28125 58.90625 \r\nQ 39.453125 66.40625 31.78125 66.40625 \r\nz\r\nM 31.78125 74.21875 \r\nQ 44.046875 74.21875 50.515625 64.515625 \r\nQ 56.984375 54.828125 56.984375 36.375 \r\nQ 56.984375 17.96875 50.515625 8.265625 \r\nQ 44.046875 -1.421875 31.78125 -1.421875 \r\nQ 19.53125 -1.421875 13.0625 8.265625 \r\nQ 6.59375 17.96875 6.59375 36.375 \r\nQ 6.59375 54.828125 13.0625 64.515625 \r\nQ 19.53125 74.21875 31.78125 74.21875 \r\nz\r\n\" id=\"DejaVuSans-48\"/>\r\n      </defs>\r\n      <g transform=\"translate(27.5 254.356563)scale(0.1 -0.1)\">\r\n       <use transform=\"translate(0 0.765625)\" xlink:href=\"#DejaVuSans-49\"/>\r\n       <use transform=\"translate(63.623047 0.765625)\" xlink:href=\"#DejaVuSans-48\"/>\r\n       <use transform=\"translate(128.203125 39.046875)scale(0.7)\" xlink:href=\"#DejaVuSans-48\"/>\r\n      </g>\r\n     </g>\r\n    </g>\r\n    <g id=\"xtick_2\">\r\n     <g id=\"line2d_3\">\r\n      <path clip-path=\"url(#pa7299c6059)\" d=\"M 90.619 239.758125 \r\nL 90.619 22.318125 \r\n\" style=\"fill:none;stroke:#b0b0b0;stroke-linecap:square;stroke-width:0.8;\"/>\r\n     </g>\r\n     <g id=\"line2d_4\">\r\n      <g>\r\n       <use style=\"stroke:#000000;stroke-width:0.8;\" x=\"90.619\" xlink:href=\"#m392cce2877\" y=\"239.758125\"/>\r\n      </g>\r\n     </g>\r\n     <g id=\"text_2\">\r\n      <!-- $\\mathdefault{10^{2}}$ -->\r\n      <defs>\r\n       <path d=\"M 19.1875 8.296875 \r\nL 53.609375 8.296875 \r\nL 53.609375 0 \r\nL 7.328125 0 \r\nL 7.328125 8.296875 \r\nQ 12.9375 14.109375 22.625 23.890625 \r\nQ 32.328125 33.6875 34.8125 36.53125 \r\nQ 39.546875 41.84375 41.421875 45.53125 \r\nQ 43.3125 49.21875 43.3125 52.78125 \r\nQ 43.3125 58.59375 39.234375 62.25 \r\nQ 35.15625 65.921875 28.609375 65.921875 \r\nQ 23.96875 65.921875 18.8125 64.3125 \r\nQ 13.671875 62.703125 7.8125 59.421875 \r\nL 7.8125 69.390625 \r\nQ 13.765625 71.78125 18.9375 73 \r\nQ 24.125 74.21875 28.421875 74.21875 \r\nQ 39.75 74.21875 46.484375 68.546875 \r\nQ 53.21875 62.890625 53.21875 53.421875 \r\nQ 53.21875 48.921875 51.53125 44.890625 \r\nQ 49.859375 40.875 45.40625 35.40625 \r\nQ 44.1875 33.984375 37.640625 27.21875 \r\nQ 31.109375 20.453125 19.1875 8.296875 \r\nz\r\n\" id=\"DejaVuSans-50\"/>\r\n      </defs>\r\n      <g transform=\"translate(81.819 254.356563)scale(0.1 -0.1)\">\r\n       <use transform=\"translate(0 0.765625)\" xlink:href=\"#DejaVuSans-49\"/>\r\n       <use transform=\"translate(63.623047 0.765625)\" xlink:href=\"#DejaVuSans-48\"/>\r\n       <use transform=\"translate(128.203125 39.046875)scale(0.7)\" xlink:href=\"#DejaVuSans-50\"/>\r\n      </g>\r\n     </g>\r\n    </g>\r\n    <g id=\"xtick_3\">\r\n     <g id=\"line2d_5\">\r\n      <path clip-path=\"url(#pa7299c6059)\" d=\"M 144.938 239.758125 \r\nL 144.938 22.318125 \r\n\" style=\"fill:none;stroke:#b0b0b0;stroke-linecap:square;stroke-width:0.8;\"/>\r\n     </g>\r\n     <g id=\"line2d_6\">\r\n      <g>\r\n       <use style=\"stroke:#000000;stroke-width:0.8;\" x=\"144.938\" xlink:href=\"#m392cce2877\" y=\"239.758125\"/>\r\n      </g>\r\n     </g>\r\n     <g id=\"text_3\">\r\n      <!-- $\\mathdefault{10^{4}}$ -->\r\n      <defs>\r\n       <path d=\"M 37.796875 64.3125 \r\nL 12.890625 25.390625 \r\nL 37.796875 25.390625 \r\nz\r\nM 35.203125 72.90625 \r\nL 47.609375 72.90625 \r\nL 47.609375 25.390625 \r\nL 58.015625 25.390625 \r\nL 58.015625 17.1875 \r\nL 47.609375 17.1875 \r\nL 47.609375 0 \r\nL 37.796875 0 \r\nL 37.796875 17.1875 \r\nL 4.890625 17.1875 \r\nL 4.890625 26.703125 \r\nz\r\n\" id=\"DejaVuSans-52\"/>\r\n      </defs>\r\n      <g transform=\"translate(136.138 254.356563)scale(0.1 -0.1)\">\r\n       <use transform=\"translate(0 0.684375)\" xlink:href=\"#DejaVuSans-49\"/>\r\n       <use transform=\"translate(63.623047 0.684375)\" xlink:href=\"#DejaVuSans-48\"/>\r\n       <use transform=\"translate(128.203125 38.965625)scale(0.7)\" xlink:href=\"#DejaVuSans-52\"/>\r\n      </g>\r\n     </g>\r\n    </g>\r\n    <g id=\"xtick_4\">\r\n     <g id=\"line2d_7\">\r\n      <path clip-path=\"url(#pa7299c6059)\" d=\"M 199.257 239.758125 \r\nL 199.257 22.318125 \r\n\" style=\"fill:none;stroke:#b0b0b0;stroke-linecap:square;stroke-width:0.8;\"/>\r\n     </g>\r\n     <g id=\"line2d_8\">\r\n      <g>\r\n       <use style=\"stroke:#000000;stroke-width:0.8;\" x=\"199.257\" xlink:href=\"#m392cce2877\" y=\"239.758125\"/>\r\n      </g>\r\n     </g>\r\n     <g id=\"text_4\">\r\n      <!-- $\\mathdefault{10^{6}}$ -->\r\n      <defs>\r\n       <path d=\"M 33.015625 40.375 \r\nQ 26.375 40.375 22.484375 35.828125 \r\nQ 18.609375 31.296875 18.609375 23.390625 \r\nQ 18.609375 15.53125 22.484375 10.953125 \r\nQ 26.375 6.390625 33.015625 6.390625 \r\nQ 39.65625 6.390625 43.53125 10.953125 \r\nQ 47.40625 15.53125 47.40625 23.390625 \r\nQ 47.40625 31.296875 43.53125 35.828125 \r\nQ 39.65625 40.375 33.015625 40.375 \r\nz\r\nM 52.59375 71.296875 \r\nL 52.59375 62.3125 \r\nQ 48.875 64.0625 45.09375 64.984375 \r\nQ 41.3125 65.921875 37.59375 65.921875 \r\nQ 27.828125 65.921875 22.671875 59.328125 \r\nQ 17.53125 52.734375 16.796875 39.40625 \r\nQ 19.671875 43.65625 24.015625 45.921875 \r\nQ 28.375 48.1875 33.59375 48.1875 \r\nQ 44.578125 48.1875 50.953125 41.515625 \r\nQ 57.328125 34.859375 57.328125 23.390625 \r\nQ 57.328125 12.15625 50.6875 5.359375 \r\nQ 44.046875 -1.421875 33.015625 -1.421875 \r\nQ 20.359375 -1.421875 13.671875 8.265625 \r\nQ 6.984375 17.96875 6.984375 36.375 \r\nQ 6.984375 53.65625 15.1875 63.9375 \r\nQ 23.390625 74.21875 37.203125 74.21875 \r\nQ 40.921875 74.21875 44.703125 73.484375 \r\nQ 48.484375 72.75 52.59375 71.296875 \r\nz\r\n\" id=\"DejaVuSans-54\"/>\r\n      </defs>\r\n      <g transform=\"translate(190.457 254.356563)scale(0.1 -0.1)\">\r\n       <use transform=\"translate(0 0.765625)\" xlink:href=\"#DejaVuSans-49\"/>\r\n       <use transform=\"translate(63.623047 0.765625)\" xlink:href=\"#DejaVuSans-48\"/>\r\n       <use transform=\"translate(128.203125 39.046875)scale(0.7)\" xlink:href=\"#DejaVuSans-54\"/>\r\n      </g>\r\n     </g>\r\n    </g>\r\n    <g id=\"xtick_5\">\r\n     <g id=\"line2d_9\">\r\n      <path clip-path=\"url(#pa7299c6059)\" d=\"M 253.576 239.758125 \r\nL 253.576 22.318125 \r\n\" style=\"fill:none;stroke:#b0b0b0;stroke-linecap:square;stroke-width:0.8;\"/>\r\n     </g>\r\n     <g id=\"line2d_10\">\r\n      <g>\r\n       <use style=\"stroke:#000000;stroke-width:0.8;\" x=\"253.576\" xlink:href=\"#m392cce2877\" y=\"239.758125\"/>\r\n      </g>\r\n     </g>\r\n     <g id=\"text_5\">\r\n      <!-- $\\mathdefault{10^{8}}$ -->\r\n      <defs>\r\n       <path d=\"M 31.78125 34.625 \r\nQ 24.75 34.625 20.71875 30.859375 \r\nQ 16.703125 27.09375 16.703125 20.515625 \r\nQ 16.703125 13.921875 20.71875 10.15625 \r\nQ 24.75 6.390625 31.78125 6.390625 \r\nQ 38.8125 6.390625 42.859375 10.171875 \r\nQ 46.921875 13.96875 46.921875 20.515625 \r\nQ 46.921875 27.09375 42.890625 30.859375 \r\nQ 38.875 34.625 31.78125 34.625 \r\nz\r\nM 21.921875 38.8125 \r\nQ 15.578125 40.375 12.03125 44.71875 \r\nQ 8.5 49.078125 8.5 55.328125 \r\nQ 8.5 64.0625 14.71875 69.140625 \r\nQ 20.953125 74.21875 31.78125 74.21875 \r\nQ 42.671875 74.21875 48.875 69.140625 \r\nQ 55.078125 64.0625 55.078125 55.328125 \r\nQ 55.078125 49.078125 51.53125 44.71875 \r\nQ 48 40.375 41.703125 38.8125 \r\nQ 48.828125 37.15625 52.796875 32.3125 \r\nQ 56.78125 27.484375 56.78125 20.515625 \r\nQ 56.78125 9.90625 50.3125 4.234375 \r\nQ 43.84375 -1.421875 31.78125 -1.421875 \r\nQ 19.734375 -1.421875 13.25 4.234375 \r\nQ 6.78125 9.90625 6.78125 20.515625 \r\nQ 6.78125 27.484375 10.78125 32.3125 \r\nQ 14.796875 37.15625 21.921875 38.8125 \r\nz\r\nM 18.3125 54.390625 \r\nQ 18.3125 48.734375 21.84375 45.5625 \r\nQ 25.390625 42.390625 31.78125 42.390625 \r\nQ 38.140625 42.390625 41.71875 45.5625 \r\nQ 45.3125 48.734375 45.3125 54.390625 \r\nQ 45.3125 60.0625 41.71875 63.234375 \r\nQ 38.140625 66.40625 31.78125 66.40625 \r\nQ 25.390625 66.40625 21.84375 63.234375 \r\nQ 18.3125 60.0625 18.3125 54.390625 \r\nz\r\n\" id=\"DejaVuSans-56\"/>\r\n      </defs>\r\n      <g transform=\"translate(244.776 254.356563)scale(0.1 -0.1)\">\r\n       <use transform=\"translate(0 0.765625)\" xlink:href=\"#DejaVuSans-49\"/>\r\n       <use transform=\"translate(63.623047 0.765625)\" xlink:href=\"#DejaVuSans-48\"/>\r\n       <use transform=\"translate(128.203125 39.046875)scale(0.7)\" xlink:href=\"#DejaVuSans-56\"/>\r\n      </g>\r\n     </g>\r\n    </g>\r\n    <g id=\"xtick_6\">\r\n     <g id=\"line2d_11\">\r\n      <path clip-path=\"url(#pa7299c6059)\" d=\"M 307.895 239.758125 \r\nL 307.895 22.318125 \r\n\" style=\"fill:none;stroke:#b0b0b0;stroke-linecap:square;stroke-width:0.8;\"/>\r\n     </g>\r\n     <g id=\"line2d_12\">\r\n      <g>\r\n       <use style=\"stroke:#000000;stroke-width:0.8;\" x=\"307.895\" xlink:href=\"#m392cce2877\" y=\"239.758125\"/>\r\n      </g>\r\n     </g>\r\n     <g id=\"text_6\">\r\n      <!-- $\\mathdefault{10^{10}}$ -->\r\n      <g transform=\"translate(296.845 254.356563)scale(0.1 -0.1)\">\r\n       <use transform=\"translate(0 0.765625)\" xlink:href=\"#DejaVuSans-49\"/>\r\n       <use transform=\"translate(63.623047 0.765625)\" xlink:href=\"#DejaVuSans-48\"/>\r\n       <use transform=\"translate(128.203125 39.046875)scale(0.7)\" xlink:href=\"#DejaVuSans-49\"/>\r\n       <use transform=\"translate(172.739258 39.046875)scale(0.7)\" xlink:href=\"#DejaVuSans-48\"/>\r\n      </g>\r\n     </g>\r\n    </g>\r\n    <g id=\"xtick_7\">\r\n     <g id=\"line2d_13\">\r\n      <path clip-path=\"url(#pa7299c6059)\" d=\"M 362.214 239.758125 \r\nL 362.214 22.318125 \r\n\" style=\"fill:none;stroke:#b0b0b0;stroke-linecap:square;stroke-width:0.8;\"/>\r\n     </g>\r\n     <g id=\"line2d_14\">\r\n      <g>\r\n       <use style=\"stroke:#000000;stroke-width:0.8;\" x=\"362.214\" xlink:href=\"#m392cce2877\" y=\"239.758125\"/>\r\n      </g>\r\n     </g>\r\n     <g id=\"text_7\">\r\n      <!-- $\\mathdefault{10^{12}}$ -->\r\n      <g transform=\"translate(351.164 254.356563)scale(0.1 -0.1)\">\r\n       <use transform=\"translate(0 0.765625)\" xlink:href=\"#DejaVuSans-49\"/>\r\n       <use transform=\"translate(63.623047 0.765625)\" xlink:href=\"#DejaVuSans-48\"/>\r\n       <use transform=\"translate(128.203125 39.046875)scale(0.7)\" xlink:href=\"#DejaVuSans-49\"/>\r\n       <use transform=\"translate(172.739258 39.046875)scale(0.7)\" xlink:href=\"#DejaVuSans-50\"/>\r\n      </g>\r\n     </g>\r\n    </g>\r\n   </g>\r\n   <g id=\"matplotlib.axis_2\">\r\n    <g id=\"ytick_1\">\r\n     <g id=\"line2d_15\">\r\n      <path clip-path=\"url(#pa7299c6059)\" d=\"M 36.3 239.758125 \r\nL 371.1 239.758125 \r\n\" style=\"fill:none;stroke:#b0b0b0;stroke-linecap:square;stroke-width:0.8;\"/>\r\n     </g>\r\n     <g id=\"line2d_16\">\r\n      <defs>\r\n       <path d=\"M 0 0 \r\nL -3.5 0 \r\n\" id=\"m6b3f3947a3\" style=\"stroke:#000000;stroke-width:0.8;\"/>\r\n      </defs>\r\n      <g>\r\n       <use style=\"stroke:#000000;stroke-width:0.8;\" x=\"36.3\" xlink:href=\"#m6b3f3947a3\" y=\"239.758125\"/>\r\n      </g>\r\n     </g>\r\n     <g id=\"text_8\">\r\n      <!-- $\\mathdefault{10^{0}}$ -->\r\n      <g transform=\"translate(11.7 243.557344)scale(0.1 -0.1)\">\r\n       <use transform=\"translate(0 0.765625)\" xlink:href=\"#DejaVuSans-49\"/>\r\n       <use transform=\"translate(63.623047 0.765625)\" xlink:href=\"#DejaVuSans-48\"/>\r\n       <use transform=\"translate(128.203125 39.046875)scale(0.7)\" xlink:href=\"#DejaVuSans-48\"/>\r\n      </g>\r\n     </g>\r\n    </g>\r\n    <g id=\"ytick_2\">\r\n     <g id=\"line2d_17\">\r\n      <path clip-path=\"url(#pa7299c6059)\" d=\"M 36.3 210.35967 \r\nL 371.1 210.35967 \r\n\" style=\"fill:none;stroke:#b0b0b0;stroke-linecap:square;stroke-width:0.8;\"/>\r\n     </g>\r\n     <g id=\"line2d_18\">\r\n      <g>\r\n       <use style=\"stroke:#000000;stroke-width:0.8;\" x=\"36.3\" xlink:href=\"#m6b3f3947a3\" y=\"210.35967\"/>\r\n      </g>\r\n     </g>\r\n     <g id=\"text_9\">\r\n      <!-- $\\mathdefault{10^{5}}$ -->\r\n      <defs>\r\n       <path d=\"M 10.796875 72.90625 \r\nL 49.515625 72.90625 \r\nL 49.515625 64.59375 \r\nL 19.828125 64.59375 \r\nL 19.828125 46.734375 \r\nQ 21.96875 47.46875 24.109375 47.828125 \r\nQ 26.265625 48.1875 28.421875 48.1875 \r\nQ 40.625 48.1875 47.75 41.5 \r\nQ 54.890625 34.8125 54.890625 23.390625 \r\nQ 54.890625 11.625 47.5625 5.09375 \r\nQ 40.234375 -1.421875 26.90625 -1.421875 \r\nQ 22.3125 -1.421875 17.546875 -0.640625 \r\nQ 12.796875 0.140625 7.71875 1.703125 \r\nL 7.71875 11.625 \r\nQ 12.109375 9.234375 16.796875 8.0625 \r\nQ 21.484375 6.890625 26.703125 6.890625 \r\nQ 35.15625 6.890625 40.078125 11.328125 \r\nQ 45.015625 15.765625 45.015625 23.390625 \r\nQ 45.015625 31 40.078125 35.4375 \r\nQ 35.15625 39.890625 26.703125 39.890625 \r\nQ 22.75 39.890625 18.8125 39.015625 \r\nQ 14.890625 38.140625 10.796875 36.28125 \r\nz\r\n\" id=\"DejaVuSans-53\"/>\r\n      </defs>\r\n      <g transform=\"translate(11.7 214.158889)scale(0.1 -0.1)\">\r\n       <use transform=\"translate(0 0.684375)\" xlink:href=\"#DejaVuSans-49\"/>\r\n       <use transform=\"translate(63.623047 0.684375)\" xlink:href=\"#DejaVuSans-48\"/>\r\n       <use transform=\"translate(128.203125 38.965625)scale(0.7)\" xlink:href=\"#DejaVuSans-53\"/>\r\n      </g>\r\n     </g>\r\n    </g>\r\n    <g id=\"ytick_3\">\r\n     <g id=\"line2d_19\">\r\n      <path clip-path=\"url(#pa7299c6059)\" d=\"M 36.3 180.961215 \r\nL 371.1 180.961215 \r\n\" style=\"fill:none;stroke:#b0b0b0;stroke-linecap:square;stroke-width:0.8;\"/>\r\n     </g>\r\n     <g id=\"line2d_20\">\r\n      <g>\r\n       <use style=\"stroke:#000000;stroke-width:0.8;\" x=\"36.3\" xlink:href=\"#m6b3f3947a3\" y=\"180.961215\"/>\r\n      </g>\r\n     </g>\r\n     <g id=\"text_10\">\r\n      <!-- $\\mathdefault{10^{10}}$ -->\r\n      <g transform=\"translate(7.2 184.760433)scale(0.1 -0.1)\">\r\n       <use transform=\"translate(0 0.765625)\" xlink:href=\"#DejaVuSans-49\"/>\r\n       <use transform=\"translate(63.623047 0.765625)\" xlink:href=\"#DejaVuSans-48\"/>\r\n       <use transform=\"translate(128.203125 39.046875)scale(0.7)\" xlink:href=\"#DejaVuSans-49\"/>\r\n       <use transform=\"translate(172.739258 39.046875)scale(0.7)\" xlink:href=\"#DejaVuSans-48\"/>\r\n      </g>\r\n     </g>\r\n    </g>\r\n    <g id=\"ytick_4\">\r\n     <g id=\"line2d_21\">\r\n      <path clip-path=\"url(#pa7299c6059)\" d=\"M 36.3 151.562759 \r\nL 371.1 151.562759 \r\n\" style=\"fill:none;stroke:#b0b0b0;stroke-linecap:square;stroke-width:0.8;\"/>\r\n     </g>\r\n     <g id=\"line2d_22\">\r\n      <g>\r\n       <use style=\"stroke:#000000;stroke-width:0.8;\" x=\"36.3\" xlink:href=\"#m6b3f3947a3\" y=\"151.562759\"/>\r\n      </g>\r\n     </g>\r\n     <g id=\"text_11\">\r\n      <!-- $\\mathdefault{10^{15}}$ -->\r\n      <g transform=\"translate(7.2 155.361978)scale(0.1 -0.1)\">\r\n       <use transform=\"translate(0 0.684375)\" xlink:href=\"#DejaVuSans-49\"/>\r\n       <use transform=\"translate(63.623047 0.684375)\" xlink:href=\"#DejaVuSans-48\"/>\r\n       <use transform=\"translate(128.203125 38.965625)scale(0.7)\" xlink:href=\"#DejaVuSans-49\"/>\r\n       <use transform=\"translate(172.739258 38.965625)scale(0.7)\" xlink:href=\"#DejaVuSans-53\"/>\r\n      </g>\r\n     </g>\r\n    </g>\r\n    <g id=\"ytick_5\">\r\n     <g id=\"line2d_23\">\r\n      <path clip-path=\"url(#pa7299c6059)\" d=\"M 36.3 122.164304 \r\nL 371.1 122.164304 \r\n\" style=\"fill:none;stroke:#b0b0b0;stroke-linecap:square;stroke-width:0.8;\"/>\r\n     </g>\r\n     <g id=\"line2d_24\">\r\n      <g>\r\n       <use style=\"stroke:#000000;stroke-width:0.8;\" x=\"36.3\" xlink:href=\"#m6b3f3947a3\" y=\"122.164304\"/>\r\n      </g>\r\n     </g>\r\n     <g id=\"text_12\">\r\n      <!-- $\\mathdefault{10^{20}}$ -->\r\n      <g transform=\"translate(7.2 125.963523)scale(0.1 -0.1)\">\r\n       <use transform=\"translate(0 0.765625)\" xlink:href=\"#DejaVuSans-49\"/>\r\n       <use transform=\"translate(63.623047 0.765625)\" xlink:href=\"#DejaVuSans-48\"/>\r\n       <use transform=\"translate(128.203125 39.046875)scale(0.7)\" xlink:href=\"#DejaVuSans-50\"/>\r\n       <use transform=\"translate(172.739258 39.046875)scale(0.7)\" xlink:href=\"#DejaVuSans-48\"/>\r\n      </g>\r\n     </g>\r\n    </g>\r\n    <g id=\"ytick_6\">\r\n     <g id=\"line2d_25\">\r\n      <path clip-path=\"url(#pa7299c6059)\" d=\"M 36.3 92.765849 \r\nL 371.1 92.765849 \r\n\" style=\"fill:none;stroke:#b0b0b0;stroke-linecap:square;stroke-width:0.8;\"/>\r\n     </g>\r\n     <g id=\"line2d_26\">\r\n      <g>\r\n       <use style=\"stroke:#000000;stroke-width:0.8;\" x=\"36.3\" xlink:href=\"#m6b3f3947a3\" y=\"92.765849\"/>\r\n      </g>\r\n     </g>\r\n     <g id=\"text_13\">\r\n      <!-- $\\mathdefault{10^{25}}$ -->\r\n      <g transform=\"translate(7.2 96.565068)scale(0.1 -0.1)\">\r\n       <use transform=\"translate(0 0.765625)\" xlink:href=\"#DejaVuSans-49\"/>\r\n       <use transform=\"translate(63.623047 0.765625)\" xlink:href=\"#DejaVuSans-48\"/>\r\n       <use transform=\"translate(128.203125 39.046875)scale(0.7)\" xlink:href=\"#DejaVuSans-50\"/>\r\n       <use transform=\"translate(172.739258 39.046875)scale(0.7)\" xlink:href=\"#DejaVuSans-53\"/>\r\n      </g>\r\n     </g>\r\n    </g>\r\n    <g id=\"ytick_7\">\r\n     <g id=\"line2d_27\">\r\n      <path clip-path=\"url(#pa7299c6059)\" d=\"M 36.3 63.367394 \r\nL 371.1 63.367394 \r\n\" style=\"fill:none;stroke:#b0b0b0;stroke-linecap:square;stroke-width:0.8;\"/>\r\n     </g>\r\n     <g id=\"line2d_28\">\r\n      <g>\r\n       <use style=\"stroke:#000000;stroke-width:0.8;\" x=\"36.3\" xlink:href=\"#m6b3f3947a3\" y=\"63.367394\"/>\r\n      </g>\r\n     </g>\r\n     <g id=\"text_14\">\r\n      <!-- $\\mathdefault{10^{30}}$ -->\r\n      <defs>\r\n       <path d=\"M 40.578125 39.3125 \r\nQ 47.65625 37.796875 51.625 33 \r\nQ 55.609375 28.21875 55.609375 21.1875 \r\nQ 55.609375 10.40625 48.1875 4.484375 \r\nQ 40.765625 -1.421875 27.09375 -1.421875 \r\nQ 22.515625 -1.421875 17.65625 -0.515625 \r\nQ 12.796875 0.390625 7.625 2.203125 \r\nL 7.625 11.71875 \r\nQ 11.71875 9.328125 16.59375 8.109375 \r\nQ 21.484375 6.890625 26.8125 6.890625 \r\nQ 36.078125 6.890625 40.9375 10.546875 \r\nQ 45.796875 14.203125 45.796875 21.1875 \r\nQ 45.796875 27.640625 41.28125 31.265625 \r\nQ 36.765625 34.90625 28.71875 34.90625 \r\nL 20.21875 34.90625 \r\nL 20.21875 43.015625 \r\nL 29.109375 43.015625 \r\nQ 36.375 43.015625 40.234375 45.921875 \r\nQ 44.09375 48.828125 44.09375 54.296875 \r\nQ 44.09375 59.90625 40.109375 62.90625 \r\nQ 36.140625 65.921875 28.71875 65.921875 \r\nQ 24.65625 65.921875 20.015625 65.03125 \r\nQ 15.375 64.15625 9.8125 62.3125 \r\nL 9.8125 71.09375 \r\nQ 15.4375 72.65625 20.34375 73.4375 \r\nQ 25.25 74.21875 29.59375 74.21875 \r\nQ 40.828125 74.21875 47.359375 69.109375 \r\nQ 53.90625 64.015625 53.90625 55.328125 \r\nQ 53.90625 49.265625 50.4375 45.09375 \r\nQ 46.96875 40.921875 40.578125 39.3125 \r\nz\r\n\" id=\"DejaVuSans-51\"/>\r\n      </defs>\r\n      <g transform=\"translate(7.2 67.166612)scale(0.1 -0.1)\">\r\n       <use transform=\"translate(0 0.765625)\" xlink:href=\"#DejaVuSans-49\"/>\r\n       <use transform=\"translate(63.623047 0.765625)\" xlink:href=\"#DejaVuSans-48\"/>\r\n       <use transform=\"translate(128.203125 39.046875)scale(0.7)\" xlink:href=\"#DejaVuSans-51\"/>\r\n       <use transform=\"translate(172.739258 39.046875)scale(0.7)\" xlink:href=\"#DejaVuSans-48\"/>\r\n      </g>\r\n     </g>\r\n    </g>\r\n    <g id=\"ytick_8\">\r\n     <g id=\"line2d_29\">\r\n      <path clip-path=\"url(#pa7299c6059)\" d=\"M 36.3 33.968938 \r\nL 371.1 33.968938 \r\n\" style=\"fill:none;stroke:#b0b0b0;stroke-linecap:square;stroke-width:0.8;\"/>\r\n     </g>\r\n     <g id=\"line2d_30\">\r\n      <g>\r\n       <use style=\"stroke:#000000;stroke-width:0.8;\" x=\"36.3\" xlink:href=\"#m6b3f3947a3\" y=\"33.968938\"/>\r\n      </g>\r\n     </g>\r\n     <g id=\"text_15\">\r\n      <!-- $\\mathdefault{10^{35}}$ -->\r\n      <g transform=\"translate(7.2 37.768157)scale(0.1 -0.1)\">\r\n       <use transform=\"translate(0 0.765625)\" xlink:href=\"#DejaVuSans-49\"/>\r\n       <use transform=\"translate(63.623047 0.765625)\" xlink:href=\"#DejaVuSans-48\"/>\r\n       <use transform=\"translate(128.203125 39.046875)scale(0.7)\" xlink:href=\"#DejaVuSans-51\"/>\r\n       <use transform=\"translate(172.739258 39.046875)scale(0.7)\" xlink:href=\"#DejaVuSans-53\"/>\r\n      </g>\r\n     </g>\r\n    </g>\r\n   </g>\r\n   <g id=\"line2d_31\">\r\n    <path clip-path=\"url(#pa7299c6059)\" d=\"M 36.3 234.448235 \r\nL 44.475824 232.678272 \r\nL 52.651648 230.908308 \r\nL 60.827473 229.138345 \r\nL 69.003297 227.368381 \r\nL 77.179121 225.598418 \r\nL 85.354945 223.828455 \r\nL 93.530769 222.058491 \r\nL 101.706593 220.288528 \r\nL 109.882418 218.518565 \r\nL 118.058242 216.748601 \r\nL 126.234066 214.978638 \r\nL 134.40989 213.208674 \r\nL 142.585714 211.438711 \r\nL 150.761538 209.668748 \r\nL 158.937363 207.898784 \r\nL 167.113187 206.128821 \r\nL 175.289011 204.358858 \r\nL 183.464835 202.588894 \r\nL 191.640659 200.818931 \r\nL 199.816484 199.048967 \r\nL 207.992308 197.279004 \r\nL 216.168132 195.509041 \r\nL 224.343956 193.739077 \r\nL 232.51978 191.969114 \r\nL 240.695604 190.199151 \r\nL 248.871429 188.429187 \r\nL 257.047253 186.659224 \r\nL 265.223077 184.889261 \r\nL 273.398901 183.119297 \r\nL 281.574725 181.349334 \r\nL 289.750549 179.57937 \r\nL 297.926374 177.809407 \r\nL 306.102198 176.039444 \r\nL 314.278022 174.26948 \r\nL 322.453846 172.499517 \r\nL 330.62967 170.729554 \r\nL 338.805495 168.95959 \r\nL 346.981319 167.189627 \r\nL 355.157143 165.419663 \r\n\" style=\"fill:none;stroke:#1f77b4;stroke-linecap:square;stroke-width:1.5;\"/>\r\n   </g>\r\n   <g id=\"line2d_32\">\r\n    <path clip-path=\"url(#pa7299c6059)\" d=\"M 44.433885 264.63625 \r\nL 44.475824 234.448235 \r\nL 52.651648 230.908308 \r\nL 60.827473 228.102983 \r\nL 69.003297 225.598418 \r\nL 77.179121 223.258654 \r\nL 85.354945 221.023129 \r\nL 93.530769 218.859539 \r\nL 101.706593 216.748601 \r\nL 109.882418 214.677877 \r\nL 118.058242 212.638874 \r\nL 126.234066 210.625534 \r\nL 134.40989 208.633386 \r\nL 142.585714 206.659032 \r\nL 150.761538 204.699832 \r\nL 158.937363 202.753694 \r\nL 167.113187 200.818931 \r\nL 175.289011 198.894161 \r\nL 183.464835 196.978243 \r\nL 191.640659 195.070218 \r\nL 199.816484 193.169276 \r\nL 207.992308 191.274727 \r\nL 216.168132 189.385974 \r\nL 224.343956 187.502502 \r\nL 232.51978 185.623862 \r\nL 240.695604 183.749659 \r\nL 248.871429 181.879545 \r\nL 257.047253 180.013211 \r\nL 265.223077 178.150382 \r\nL 273.398901 176.290812 \r\nL 281.574725 174.434281 \r\nL 289.750549 172.580588 \r\nL 297.926374 170.729554 \r\nL 306.102198 168.881014 \r\nL 314.278022 167.034821 \r\nL 322.453846 165.190837 \r\nL 330.62967 163.348939 \r\nL 338.805495 161.509012 \r\nL 346.981319 159.670951 \r\nL 355.157143 157.834659 \r\n\" style=\"fill:none;stroke:#ff7f0e;stroke-linecap:square;stroke-width:1.5;\"/>\r\n   </g>\r\n   <g id=\"line2d_33\">\r\n    <path clip-path=\"url(#pa7299c6059)\" d=\"M 36.3 237.988162 \r\nL 44.475824 234.448235 \r\nL 52.651648 230.908308 \r\nL 60.827473 227.368381 \r\nL 69.003297 223.828455 \r\nL 77.179121 220.288528 \r\nL 85.354945 216.748601 \r\nL 93.530769 213.208674 \r\nL 101.706593 209.668748 \r\nL 109.882418 206.128821 \r\nL 118.058242 202.588894 \r\nL 126.234066 199.048967 \r\nL 134.40989 195.509041 \r\nL 142.585714 191.969114 \r\nL 150.761538 188.429187 \r\nL 158.937363 184.889261 \r\nL 167.113187 181.349334 \r\nL 175.289011 177.809407 \r\nL 183.464835 174.26948 \r\nL 191.640659 170.729554 \r\nL 199.816484 167.189627 \r\nL 207.992308 163.6497 \r\nL 216.168132 160.109773 \r\nL 224.343956 156.569847 \r\nL 232.51978 153.02992 \r\nL 240.695604 149.489993 \r\nL 248.871429 145.950066 \r\nL 257.047253 142.41014 \r\nL 265.223077 138.870213 \r\nL 273.398901 135.330286 \r\nL 281.574725 131.790359 \r\nL 289.750549 128.250433 \r\nL 297.926374 124.710506 \r\nL 306.102198 121.170579 \r\nL 314.278022 117.630652 \r\nL 322.453846 114.090726 \r\nL 330.62967 110.550799 \r\nL 338.805495 107.010872 \r\nL 346.981319 103.470946 \r\nL 355.157143 99.931019 \r\n\" style=\"fill:none;stroke:#2ca02c;stroke-linecap:square;stroke-width:1.5;\"/>\r\n   </g>\r\n   <g id=\"line2d_34\">\r\n    <path clip-path=\"url(#pa7299c6059)\" d=\"M 36.3 239.758125 \r\nL 44.475824 234.448235 \r\nL 52.651648 229.138345 \r\nL 60.827473 223.828455 \r\nL 69.003297 218.518565 \r\nL 77.179121 213.208674 \r\nL 85.354945 207.898784 \r\nL 93.530769 202.588894 \r\nL 101.706593 197.279004 \r\nL 109.882418 191.969114 \r\nL 118.058242 186.659224 \r\nL 126.234066 181.349334 \r\nL 134.40989 176.039444 \r\nL 142.585714 170.729554 \r\nL 150.761538 165.419663 \r\nL 158.937363 160.109773 \r\nL 167.113187 154.799883 \r\nL 175.289011 149.489993 \r\nL 183.464835 144.180103 \r\nL 191.640659 138.870213 \r\nL 199.816484 133.560323 \r\nL 207.992308 128.250433 \r\nL 216.168132 122.940543 \r\nL 224.343956 117.630652 \r\nL 232.51978 112.320762 \r\nL 240.695604 107.010872 \r\nL 248.871429 101.700982 \r\nL 257.047253 96.391092 \r\nL 265.223077 91.081202 \r\nL 273.398901 85.771312 \r\nL 281.574725 80.461422 \r\nL 289.750549 75.151532 \r\nL 297.926374 69.841641 \r\nL 306.102198 64.531751 \r\nL 314.278022 59.221861 \r\nL 322.453846 53.911971 \r\nL 330.62967 48.602081 \r\nL 338.805495 43.292191 \r\nL 346.981319 37.982301 \r\nL 355.157143 32.672411 \r\n\" style=\"fill:none;stroke:#d62728;stroke-linecap:square;stroke-width:1.5;\"/>\r\n   </g>\r\n   <g id=\"line2d_35\">\r\n    <path clip-path=\"url(#pa7299c6059)\" d=\"M 36.3 237.988162 \r\nL 44.475824 236.218198 \r\nL 52.651648 234.448235 \r\nL 60.827473 232.678272 \r\nL 69.003297 230.908308 \r\nL 77.179121 229.138345 \r\nL 85.354945 227.368381 \r\nL 93.530769 225.598418 \r\nL 101.706593 223.828455 \r\nL 109.882418 222.058491 \r\nL 118.058242 220.288528 \r\nL 126.234066 218.518565 \r\nL 134.40989 216.748601 \r\nL 142.585714 214.978638 \r\nL 150.761538 213.208674 \r\nL 158.937363 211.438711 \r\nL 167.113187 209.668748 \r\nL 175.289011 207.898784 \r\nL 183.464835 206.128821 \r\nL 191.640659 204.358858 \r\nL 199.816484 202.588894 \r\nL 207.992308 200.818931 \r\nL 216.168132 199.048967 \r\nL 224.343956 197.279004 \r\nL 232.51978 195.509041 \r\nL 240.695604 193.739077 \r\nL 248.871429 191.969114 \r\nL 257.047253 190.199151 \r\nL 265.223077 188.429187 \r\nL 273.398901 186.659224 \r\nL 281.574725 184.889261 \r\nL 289.750549 183.119297 \r\nL 297.926374 181.349334 \r\nL 306.102198 179.57937 \r\nL 314.278022 177.809407 \r\nL 322.453846 176.039444 \r\nL 330.62967 174.26948 \r\nL 338.805495 172.499517 \r\nL 346.981319 170.729554 \r\nL 355.157143 168.95959 \r\n\" style=\"fill:none;stroke:#9467bd;stroke-linecap:square;stroke-width:1.5;\"/>\r\n   </g>\r\n   <g id=\"patch_3\">\r\n    <path d=\"M 36.3 239.758125 \r\nL 36.3 22.318125 \r\n\" style=\"fill:none;stroke:#000000;stroke-linecap:square;stroke-linejoin:miter;stroke-width:0.8;\"/>\r\n   </g>\r\n   <g id=\"patch_4\">\r\n    <path d=\"M 371.1 239.758125 \r\nL 371.1 22.318125 \r\n\" style=\"fill:none;stroke:#000000;stroke-linecap:square;stroke-linejoin:miter;stroke-width:0.8;\"/>\r\n   </g>\r\n   <g id=\"patch_5\">\r\n    <path d=\"M 36.3 239.758125 \r\nL 371.1 239.758125 \r\n\" style=\"fill:none;stroke:#000000;stroke-linecap:square;stroke-linejoin:miter;stroke-width:0.8;\"/>\r\n   </g>\r\n   <g id=\"patch_6\">\r\n    <path d=\"M 36.3 22.318125 \r\nL 371.1 22.318125 \r\n\" style=\"fill:none;stroke:#000000;stroke-linecap:square;stroke-linejoin:miter;stroke-width:0.8;\"/>\r\n   </g>\r\n   <g id=\"text_16\">\r\n    <!-- log -->\r\n    <defs>\r\n     <path d=\"M 9.421875 75.984375 \r\nL 18.40625 75.984375 \r\nL 18.40625 0 \r\nL 9.421875 0 \r\nz\r\n\" id=\"DejaVuSans-108\"/>\r\n     <path d=\"M 30.609375 48.390625 \r\nQ 23.390625 48.390625 19.1875 42.75 \r\nQ 14.984375 37.109375 14.984375 27.296875 \r\nQ 14.984375 17.484375 19.15625 11.84375 \r\nQ 23.34375 6.203125 30.609375 6.203125 \r\nQ 37.796875 6.203125 41.984375 11.859375 \r\nQ 46.1875 17.53125 46.1875 27.296875 \r\nQ 46.1875 37.015625 41.984375 42.703125 \r\nQ 37.796875 48.390625 30.609375 48.390625 \r\nz\r\nM 30.609375 56 \r\nQ 42.328125 56 49.015625 48.375 \r\nQ 55.71875 40.765625 55.71875 27.296875 \r\nQ 55.71875 13.875 49.015625 6.21875 \r\nQ 42.328125 -1.421875 30.609375 -1.421875 \r\nQ 18.84375 -1.421875 12.171875 6.21875 \r\nQ 5.515625 13.875 5.515625 27.296875 \r\nQ 5.515625 40.765625 12.171875 48.375 \r\nQ 18.84375 56 30.609375 56 \r\nz\r\n\" id=\"DejaVuSans-111\"/>\r\n     <path d=\"M 45.40625 27.984375 \r\nQ 45.40625 37.75 41.375 43.109375 \r\nQ 37.359375 48.484375 30.078125 48.484375 \r\nQ 22.859375 48.484375 18.828125 43.109375 \r\nQ 14.796875 37.75 14.796875 27.984375 \r\nQ 14.796875 18.265625 18.828125 12.890625 \r\nQ 22.859375 7.515625 30.078125 7.515625 \r\nQ 37.359375 7.515625 41.375 12.890625 \r\nQ 45.40625 18.265625 45.40625 27.984375 \r\nz\r\nM 54.390625 6.78125 \r\nQ 54.390625 -7.171875 48.1875 -13.984375 \r\nQ 42 -20.796875 29.203125 -20.796875 \r\nQ 24.46875 -20.796875 20.265625 -20.09375 \r\nQ 16.0625 -19.390625 12.109375 -17.921875 \r\nL 12.109375 -9.1875 \r\nQ 16.0625 -11.328125 19.921875 -12.34375 \r\nQ 23.78125 -13.375 27.78125 -13.375 \r\nQ 36.625 -13.375 41.015625 -8.765625 \r\nQ 45.40625 -4.15625 45.40625 5.171875 \r\nL 45.40625 9.625 \r\nQ 42.625 4.78125 38.28125 2.390625 \r\nQ 33.9375 0 27.875 0 \r\nQ 17.828125 0 11.671875 7.65625 \r\nQ 5.515625 15.328125 5.515625 27.984375 \r\nQ 5.515625 40.671875 11.671875 48.328125 \r\nQ 17.828125 56 27.875 56 \r\nQ 33.9375 56 38.28125 53.609375 \r\nQ 42.625 51.21875 45.40625 46.390625 \r\nL 45.40625 54.6875 \r\nL 54.390625 54.6875 \r\nz\r\n\" id=\"DejaVuSans-103\"/>\r\n    </defs>\r\n    <g transform=\"translate(194.552813 16.318125)scale(0.12 -0.12)\">\r\n     <use xlink:href=\"#DejaVuSans-108\"/>\r\n     <use x=\"27.783203\" xlink:href=\"#DejaVuSans-111\"/>\r\n     <use x=\"88.964844\" xlink:href=\"#DejaVuSans-103\"/>\r\n    </g>\r\n   </g>\r\n   <g id=\"legend_1\">\r\n    <g id=\"patch_7\">\r\n     <path d=\"M 43.3 103.730625 \r\nL 117.4 103.730625 \r\nQ 119.4 103.730625 119.4 101.730625 \r\nL 119.4 29.318125 \r\nQ 119.4 27.318125 117.4 27.318125 \r\nL 43.3 27.318125 \r\nQ 41.3 27.318125 41.3 29.318125 \r\nL 41.3 101.730625 \r\nQ 41.3 103.730625 43.3 103.730625 \r\nz\r\n\" style=\"fill:#ffffff;opacity:0.8;stroke:#cccccc;stroke-linejoin:miter;\"/>\r\n    </g>\r\n    <g id=\"line2d_36\">\r\n     <path d=\"M 45.3 35.416563 \r\nL 65.3 35.416563 \r\n\" style=\"fill:none;stroke:#1f77b4;stroke-linecap:square;stroke-width:1.5;\"/>\r\n    </g>\r\n    <g id=\"line2d_37\"/>\r\n    <g id=\"text_17\">\r\n     <!-- $8n$ -->\r\n     <defs>\r\n      <path d=\"M 55.71875 33.015625 \r\nL 49.3125 0 \r\nL 40.28125 0 \r\nL 46.6875 32.671875 \r\nQ 47.125 34.96875 47.359375 36.71875 \r\nQ 47.609375 38.484375 47.609375 39.5 \r\nQ 47.609375 43.609375 45.015625 45.890625 \r\nQ 42.4375 48.1875 37.796875 48.1875 \r\nQ 30.5625 48.1875 25.34375 43.375 \r\nQ 20.125 38.578125 18.5 30.328125 \r\nL 12.5 0 \r\nL 3.515625 0 \r\nL 14.109375 54.6875 \r\nL 23.09375 54.6875 \r\nL 21.296875 46.09375 \r\nQ 25.046875 50.828125 30.3125 53.40625 \r\nQ 35.59375 56 41.40625 56 \r\nQ 48.640625 56 52.609375 52.09375 \r\nQ 56.59375 48.1875 56.59375 41.109375 \r\nQ 56.59375 39.359375 56.375 37.359375 \r\nQ 56.15625 35.359375 55.71875 33.015625 \r\nz\r\n\" id=\"DejaVuSans-Oblique-110\"/>\r\n     </defs>\r\n     <g transform=\"translate(73.3 38.916563)scale(0.1 -0.1)\">\r\n      <use transform=\"translate(0 0.78125)\" xlink:href=\"#DejaVuSans-56\"/>\r\n      <use transform=\"translate(63.623047 0.78125)\" xlink:href=\"#DejaVuSans-Oblique-110\"/>\r\n     </g>\r\n    </g>\r\n    <g id=\"line2d_38\">\r\n     <path d=\"M 45.3 50.09625 \r\nL 65.3 50.09625 \r\n\" style=\"fill:none;stroke:#ff7f0e;stroke-linecap:square;stroke-width:1.5;\"/>\r\n    </g>\r\n    <g id=\"line2d_39\"/>\r\n    <g id=\"text_18\">\r\n     <!-- $4n\\log(n)$ -->\r\n     <defs>\r\n      <path d=\"M 31 75.875 \r\nQ 24.46875 64.65625 21.28125 53.65625 \r\nQ 18.109375 42.671875 18.109375 31.390625 \r\nQ 18.109375 20.125 21.3125 9.0625 \r\nQ 24.515625 -2 31 -13.1875 \r\nL 23.1875 -13.1875 \r\nQ 15.875 -1.703125 12.234375 9.375 \r\nQ 8.59375 20.453125 8.59375 31.390625 \r\nQ 8.59375 42.28125 12.203125 53.3125 \r\nQ 15.828125 64.359375 23.1875 75.875 \r\nz\r\n\" id=\"DejaVuSans-40\"/>\r\n      <path d=\"M 8.015625 75.875 \r\nL 15.828125 75.875 \r\nQ 23.140625 64.359375 26.78125 53.3125 \r\nQ 30.421875 42.28125 30.421875 31.390625 \r\nQ 30.421875 20.453125 26.78125 9.375 \r\nQ 23.140625 -1.703125 15.828125 -13.1875 \r\nL 8.015625 -13.1875 \r\nQ 14.5 -2 17.703125 9.0625 \r\nQ 20.90625 20.125 20.90625 31.390625 \r\nQ 20.90625 42.671875 17.703125 53.65625 \r\nQ 14.5 64.65625 8.015625 75.875 \r\nz\r\n\" id=\"DejaVuSans-41\"/>\r\n     </defs>\r\n     <g transform=\"translate(73.3 53.59625)scale(0.1 -0.1)\">\r\n      <use transform=\"translate(0 0.015625)\" xlink:href=\"#DejaVuSans-52\"/>\r\n      <use transform=\"translate(63.623047 0.015625)\" xlink:href=\"#DejaVuSans-Oblique-110\"/>\r\n      <use transform=\"translate(127.001953 0.015625)\" xlink:href=\"#DejaVuSans-108\"/>\r\n      <use transform=\"translate(154.785156 0.015625)\" xlink:href=\"#DejaVuSans-111\"/>\r\n      <use transform=\"translate(215.966797 0.015625)\" xlink:href=\"#DejaVuSans-103\"/>\r\n      <use transform=\"translate(279.443359 0.015625)\" xlink:href=\"#DejaVuSans-40\"/>\r\n      <use transform=\"translate(318.457031 0.015625)\" xlink:href=\"#DejaVuSans-Oblique-110\"/>\r\n      <use transform=\"translate(381.835938 0.015625)\" xlink:href=\"#DejaVuSans-41\"/>\r\n     </g>\r\n    </g>\r\n    <g id=\"line2d_40\">\r\n     <path d=\"M 45.3 64.794688 \r\nL 65.3 64.794688 \r\n\" style=\"fill:none;stroke:#2ca02c;stroke-linecap:square;stroke-width:1.5;\"/>\r\n    </g>\r\n    <g id=\"line2d_41\"/>\r\n    <g id=\"text_19\">\r\n     <!-- $2n^2$ -->\r\n     <g transform=\"translate(73.3 68.294688)scale(0.1 -0.1)\">\r\n      <use transform=\"translate(0 0.765625)\" xlink:href=\"#DejaVuSans-50\"/>\r\n      <use transform=\"translate(63.623047 0.765625)\" xlink:href=\"#DejaVuSans-Oblique-110\"/>\r\n      <use transform=\"translate(131.651849 39.046875)scale(0.7)\" xlink:href=\"#DejaVuSans-50\"/>\r\n     </g>\r\n    </g>\r\n    <g id=\"line2d_42\">\r\n     <path d=\"M 45.3 79.472813 \r\nL 65.3 79.472813 \r\n\" style=\"fill:none;stroke:#d62728;stroke-linecap:square;stroke-width:1.5;\"/>\r\n    </g>\r\n    <g id=\"line2d_43\"/>\r\n    <g id=\"text_20\">\r\n     <!-- $n^3$ -->\r\n     <g transform=\"translate(73.3 82.972813)scale(0.1 -0.1)\">\r\n      <use transform=\"translate(0 0.765625)\" xlink:href=\"#DejaVuSans-Oblique-110\"/>\r\n      <use transform=\"translate(68.028802 39.046875)scale(0.7)\" xlink:href=\"#DejaVuSans-51\"/>\r\n     </g>\r\n    </g>\r\n    <g id=\"line2d_44\">\r\n     <path d=\"M 45.3 94.150938 \r\nL 65.3 94.150938 \r\n\" style=\"fill:none;stroke:#9467bd;stroke-linecap:square;stroke-width:1.5;\"/>\r\n    </g>\r\n    <g id=\"line2d_45\"/>\r\n    <g id=\"text_21\">\r\n     <!-- $2n$ -->\r\n     <g transform=\"translate(73.3 97.650938)scale(0.1 -0.1)\">\r\n      <use transform=\"translate(0 0.78125)\" xlink:href=\"#DejaVuSans-50\"/>\r\n      <use transform=\"translate(63.623047 0.78125)\" xlink:href=\"#DejaVuSans-Oblique-110\"/>\r\n     </g>\r\n    </g>\r\n   </g>\r\n  </g>\r\n </g>\r\n <defs>\r\n  <clipPath id=\"pa7299c6059\">\r\n   <rect height=\"217.44\" width=\"334.8\" x=\"36.3\" y=\"22.318125\"/>\r\n  </clipPath>\r\n </defs>\r\n</svg>\r\n",
      "text/plain": "<Figure size 432x288 with 1 Axes>"
     },
     "metadata": {
      "needs_background": "light"
     },
     "output_type": "display_data"
    }
   ],
   "source": [
    "plt.plot(ns, f1, label=r'$8n$')\n",
    "plt.plot(ns, f2, label=r'$4n\\log(n)$')\n",
    "plt.plot(ns, f3, label=r'$2n^2$')\n",
    "plt.plot(ns, f4, label=r'$n^3$')\n",
    "plt.plot(ns, f5, label=r'$2n$')\n",
    "plt.xscale('log')\n",
    "plt.xlim(left=1)\n",
    "plt.yscale('log')\n",
    "plt.ylim(bottom=1)\n",
    "plt.title('log')\n",
    "plt.grid(True)\n",
    "plt.legend(loc=\"upper left\")"
   ]
  },
  {
   "cell_type": "markdown",
   "execution_count": 41,
   "metadata": {},
   "outputs": [
    {
     "data": {
      "text/plain": "2.0"
     },
     "execution_count": 41,
     "metadata": {},
     "output_type": "execute_result"
    }
   ],
   "source": [
    "### R-3.2\n",
    "The number of operations executed by algorithms A and B is $8n\\log n$ and $2n^2$, respectively. Determine $n_0$ such that A is better than B for $n \\ge n_0$."
   ]
  },
  {
   "cell_type": "markdown",
   "execution_count": 97,
   "metadata": {},
   "outputs": [
    {
     "data": {
      "text/plain": "[1, 1, 1, 1]"
     },
     "execution_count": 97,
     "metadata": {},
     "output_type": "execute_result"
    }
   ],
   "source": [
    "$n_0 = 16$"
   ]
  },
  {
   "cell_type": "markdown",
   "execution_count": 109,
   "metadata": {},
   "outputs": [
    {
     "data": {
      "text/plain": "1.189207115002721"
     },
     "execution_count": 109,
     "metadata": {},
     "output_type": "execute_result"
    }
   ],
   "source": [
    "### R-3.3\n",
    "The number of operations executed by algorithms A and B is $40n^2$ and $2n^3$, respectively. Determine $n_0$ such that A is better than B for $n \\ge n_0$."
   ]
  },
  {
   "cell_type": "markdown",
   "execution_count": null,
   "metadata": {},
   "outputs": [],
   "source": [
    "$n_0 = 20$"
   ]
  },
  {
   "cell_type": "markdown",
   "execution_count": null,
   "metadata": {},
   "outputs": [],
   "source": [
    "### R-3.4\n",
    "Give an example of a function that is plotted the same on a log-log scale as it is on a standard scale."
   ]
  },
  {
   "cell_type": "markdown",
   "execution_count": 110,
   "metadata": {},
   "outputs": [
    {
     "ename": "SyntaxError",
     "evalue": "invalid syntax (<ipython-input-110-76947d9217c3>, line 1)",
     "output_type": "error",
     "traceback": [
      "\u001b[1;36m  File \u001b[1;32m\"<ipython-input-110-76947d9217c3>\"\u001b[1;36m, line \u001b[1;32m1\u001b[0m\n\u001b[1;33m    $f(x) = 10$\u001b[0m\n\u001b[1;37m    ^\u001b[0m\n\u001b[1;31mSyntaxError\u001b[0m\u001b[1;31m:\u001b[0m invalid syntax\n"
     ]
    }
   ],
   "source": [
    "$f(x) = 10$"
   ]
  },
  {
   "cell_type": "markdown",
   "execution_count": null,
   "metadata": {},
   "outputs": [],
   "source": [
    "### R-3.5\n",
    "Explain why the plot of the function $n^c$ is a straight line with slope $c$ on a log-log scale."
   ]
  },
  {
   "cell_type": "markdown",
   "execution_count": null,
   "metadata": {},
   "outputs": [],
   "source": [
    "This is the case because $\\log n^c = c \\log n$. $c$ is the slope and the plot of $\\log n$ against $n$ will be linear in $n$"
   ]
  },
  {
   "cell_type": "markdown",
   "execution_count": null,
   "metadata": {},
   "outputs": [],
   "source": [
    "### R-3.6\n",
    "What is the sum of all the even numbers from $0$ to $2n$, for any positive integer $n$?"
   ]
  },
  {
   "cell_type": "markdown",
   "execution_count": null,
   "metadata": {},
   "outputs": [],
   "source": [
    "| n | $\\quad$ sum of evens from 0 to 2n $\\quad$ | $\\quad$ sum of integers from 0 to n $\\quad$ |\n",
    "| :---: | :---: | :---: |\n",
    "| 1 | 2 | 1 |\n",
    "| 2 | 6 | 3 |\n",
    "| 3 | 12 | 6 |\n",
    "| 4 | 20 | 10 |\n",
    "| 5 | 30 | 15 |"
   ]
  },
  {
   "cell_type": "markdown",
   "execution_count": null,
   "metadata": {},
   "outputs": [],
   "source": [
    "As the table shows, the sum of evens from 0 to 2n is double the sum of integers from 0 to n\n",
    "Thus, sum = $2 \\times \\frac{n(n+1)}{2} = n(n+1)$"
   ]
  },
  {
   "cell_type": "markdown",
   "execution_count": null,
   "metadata": {},
   "outputs": [],
   "source": [
    "### R-3.7\n",
    "Show that the following two statements are equivalent:\n",
    "- The running time of algorithm A is always $O(f(n))$.\n",
    "- In the worst case, the running time of algorithm A is $O(f(n))$."
   ]
  },
  {
   "cell_type": "markdown",
   "execution_count": null,
   "metadata": {},
   "outputs": [],
   "source": [
    "This can be understood from the very definition of the big-Oh notation. It actually describes the worst case runtime of an algorithm"
   ]
  },
  {
   "cell_type": "markdown",
   "execution_count": null,
   "metadata": {},
   "outputs": [],
   "source": [
    "### R-3.8\n",
    "Order the following functions by asymptotic growth rate.\n",
    "$$ 4n\\log n+2n, \\quad 2^{10}, \\quad 2^{\\log n}$$\n",
    "$$ 3n+100\\log n, \\quad 4n, \\quad 2^n $$\n",
    "$$ n^2 +10n, \\quad n^3, \\quad n\\log n$$\n",
    "\n",
    "$2^{10} \\rightarrow 4n \\rightarrow 3n+100\\log n \\rightarrow n\\log n \\rightarrow 4n\\log n+2n \\rightarrow n^2 +10n \\rightarrow n^3 \\rightarrow 2^{\\log n} \\rightarrow 2^n$"
   ]
  },
  {
   "cell_type": "markdown",
   "execution_count": null,
   "metadata": {},
   "outputs": [],
   "source": [
    "### R-3.9\n",
    "Show that if $d(n)$ is $O(f(n))$, then $a \\cdot d(n)$ is $O(f(n))$, for any constant $a > 0$."
   ]
  },
  {
   "cell_type": "markdown",
   "execution_count": null,
   "metadata": {},
   "outputs": [],
   "source": [
    "---"
   ]
  },
  {
   "cell_type": "markdown",
   "execution_count": null,
   "metadata": {},
   "outputs": [],
   "source": [
    "### R-3.10\n",
    "Show that if $d(n)$ is $O( f (n))$ and $e(n)$ is $O(g(n))$, then the product $d(n)\\cdot e(n)$ is $O( f (n)g(n))$."
   ]
  },
  {
   "cell_type": "markdown",
   "execution_count": null,
   "metadata": {},
   "outputs": [],
   "source": [
    "---"
   ]
  },
  {
   "cell_type": "markdown",
   "execution_count": null,
   "metadata": {},
   "outputs": [],
   "source": [
    "### R-3.11\n",
    "Show that if $d(n)$ is $O( f (n))$ and $e(n)$ is $O(g(n))$, then $d(n) +e(n)$ is $O( f (n)+g(n))$."
   ]
  },
  {
   "cell_type": "markdown",
   "execution_count": null,
   "metadata": {},
   "outputs": [],
   "source": [
    "---"
   ]
  },
  {
   "cell_type": "markdown",
   "execution_count": null,
   "metadata": {},
   "outputs": [],
   "source": [
    "### R-3.12\n",
    "Show that if $d(n)$ is $O( f (n))$ and $e(n)$ is $O(g(n))$, then $d(n)−e(n)$ is not necessarily $O( f (n)−g(n))$."
   ]
  },
  {
   "cell_type": "markdown",
   "execution_count": null,
   "metadata": {},
   "outputs": [],
   "source": [
    "---"
   ]
  },
  {
   "cell_type": "markdown",
   "execution_count": null,
   "metadata": {},
   "outputs": [],
   "source": [
    "### R-3.13\n",
    "Show that if $d(n)$ is $O( f (n))$ and $f (n)$ is $O(g(n))$, then $d(n)$ is $O(g(n))$."
   ]
  },
  {
   "cell_type": "markdown",
   "execution_count": null,
   "metadata": {},
   "outputs": [],
   "source": [
    "---"
   ]
  },
  {
   "cell_type": "markdown",
   "execution_count": null,
   "metadata": {},
   "outputs": [],
   "source": [
    "### R-3.14\n",
    "Show that $O(max \\{ f (n),g(n)\\}) = O( f (n)+g(n))$."
   ]
  },
  {
   "cell_type": "markdown",
   "execution_count": null,
   "metadata": {},
   "outputs": [],
   "source": [
    "---"
   ]
  },
  {
   "cell_type": "markdown",
   "execution_count": null,
   "metadata": {},
   "outputs": [],
   "source": [
    "### R-3.15\n",
    "Show that $f (n)$ is $O(g(n))$ if and only if $g(n)$ is $\\Omega( f (n))$."
   ]
  },
  {
   "cell_type": "markdown",
   "execution_count": null,
   "metadata": {},
   "outputs": [],
   "source": [
    "---"
   ]
  },
  {
   "cell_type": "markdown",
   "execution_count": null,
   "metadata": {},
   "outputs": [],
   "source": [
    "### R-3.16\n",
    "Show that if $p(n)$ is a polynomial in $n$, then $\\log p(n)$ is $O(\\log n)$."
   ]
  },
  {
   "cell_type": "markdown",
   "execution_count": null,
   "metadata": {},
   "outputs": [],
   "source": [
    "---"
   ]
  },
  {
   "cell_type": "markdown",
   "execution_count": null,
   "metadata": {},
   "outputs": [],
   "source": [
    "### R-3.17\n",
    "Show that $(n+1)^5$ is $O(n^5)$."
   ]
  },
  {
   "cell_type": "markdown",
   "execution_count": null,
   "metadata": {},
   "outputs": [],
   "source": [
    "---"
   ]
  },
  {
   "cell_type": "markdown",
   "execution_count": null,
   "metadata": {},
   "outputs": [],
   "source": [
    "### R-3.18\n",
    "Show that $2^{n+1}$ is $O(2^n)$."
   ]
  },
  {
   "cell_type": "markdown",
   "execution_count": null,
   "metadata": {},
   "outputs": [],
   "source": [
    "---"
   ]
  },
  {
   "cell_type": "markdown",
   "execution_count": null,
   "metadata": {},
   "outputs": [],
   "source": [
    "### R-3.19\n",
    "Show that $n$ is $O(n\\log n)$."
   ]
  },
  {
   "cell_type": "markdown",
   "execution_count": null,
   "metadata": {},
   "outputs": [],
   "source": [
    "---"
   ]
  },
  {
   "cell_type": "markdown",
   "execution_count": null,
   "metadata": {},
   "outputs": [],
   "source": [
    "### R-3.20\n",
    "Show that $n^2$ is $\\Omega(n\\log n)$."
   ]
  },
  {
   "cell_type": "markdown",
   "execution_count": null,
   "metadata": {},
   "outputs": [],
   "source": [
    "---"
   ]
  },
  {
   "cell_type": "markdown",
   "execution_count": null,
   "metadata": {},
   "outputs": [],
   "source": [
    "### R-3.21\n",
    "Show that $n\\log n$ is $\\Omega(n)$."
   ]
  },
  {
   "cell_type": "markdown",
   "execution_count": null,
   "metadata": {},
   "outputs": [],
   "source": [
    "---"
   ]
  },
  {
   "cell_type": "markdown",
   "execution_count": null,
   "metadata": {},
   "outputs": [],
   "source": [
    "### R-3.22\n",
    "$\\newcommand{\\floor}[1]{\\lfloor #1 \\rfloor}$\n",
    "$\\newcommand{\\ceil}[1]{\\lceil #1 \\rceil}$\n",
    "Show that \n",
    "$\\lceil f (n) \\rceil$ is $O( f (n))$, if $f (n)$ is a positive nondecreasing function that is always greater than 1."
   ]
  },
  {
   "cell_type": "markdown",
   "execution_count": null,
   "metadata": {},
   "outputs": [],
   "source": [
    "---"
   ]
  },
  {
   "cell_type": "markdown",
   "execution_count": null,
   "metadata": {},
   "outputs": [],
   "source": [
    "### R-3.23\n",
    "Give a big-Oh characterization, in terms of `n`, of the running time of the `example1` function shown in the code fragment below."
   ]
  },
  {
   "cell_type": "code",
   "execution_count": null,
   "metadata": {},
   "outputs": [],
   "source": [
    "def example1(S):\n",
    "\t\"\"\"Return the sum of the elements in sequence S.\"\"\"\n",
    "\tn = len(S)\n",
    "\ttotal = 0\n",
    "\tfor j in range(n): # loop from 0 to n-1\n",
    "\t\ttotal += S[j]\n",
    "\treturn total"
   ]
  },
  {
   "cell_type": "markdown",
   "execution_count": null,
   "metadata": {},
   "outputs": [],
   "source": [
    "---"
   ]
  },
  {
   "cell_type": "markdown",
   "execution_count": null,
   "metadata": {},
   "outputs": [],
   "source": [
    "### R-3.24\n",
    "Give a big-Oh characterization, in terms of `n`, of the running time of the `example2` function shown in the code fragment below."
   ]
  },
  {
   "cell_type": "code",
   "execution_count": null,
   "metadata": {},
   "outputs": [],
   "source": [
    "def example2(S):\n",
    "\t\"\"\"Return the sum of the elements with even index in sequence S.\"\"\"\n",
    "\tn = len(S)\n",
    "\ttotal = 0\n",
    "\tfor j in range(0, n, 2): # note the increment of 2\n",
    "\t\ttotal += S[j]\n",
    "\treturn total"
   ]
  },
  {
   "cell_type": "markdown",
   "execution_count": null,
   "metadata": {},
   "outputs": [],
   "source": [
    "---"
   ]
  },
  {
   "cell_type": "markdown",
   "execution_count": null,
   "metadata": {},
   "outputs": [],
   "source": [
    "### R-3.25\n",
    "Give a big-Oh characterization, in terms of `n`, of the running time of the `example3` function shown in the code fragment below."
   ]
  },
  {
   "cell_type": "code",
   "execution_count": null,
   "metadata": {},
   "outputs": [],
   "source": [
    "def example3(S):\n",
    "\t\"\"\"Return the sum of the prefix sums of sequence S.\"\"\"\n",
    "\tn = len(S)\n",
    "\ttotal = 0\n",
    "\tfor j in range(n): # loop from 0 to n-1\n",
    "\t\tfor k in range(1+j): # loop from 0 to j\n",
    "\t\t\ttotal += S[k]\n",
    "\treturn total"
   ]
  },
  {
   "cell_type": "markdown",
   "execution_count": null,
   "metadata": {},
   "outputs": [],
   "source": [
    "---"
   ]
  },
  {
   "cell_type": "markdown",
   "execution_count": null,
   "metadata": {},
   "outputs": [],
   "source": [
    "### R-3.26\n",
    "Give a big-Oh characterization, in terms of `n`, of the running time of the `example4` function shown in the code fragment below."
   ]
  },
  {
   "cell_type": "code",
   "execution_count": null,
   "metadata": {},
   "outputs": [],
   "source": [
    "def example4(S):\n",
    "\t\"\"\"Return the sum of the prefix sums of sequence S.\"\"\"\n",
    "\tn = len(S)\n",
    "\tprefix = 0\n",
    "\ttotal = 0\n",
    "\tfor j in range(n):\n",
    "\t\tprefix += S[j]\n",
    "\t\ttotal += prefix\n",
    "\treturn total"
   ]
  },
  {
   "cell_type": "markdown",
   "execution_count": null,
   "metadata": {},
   "outputs": [],
   "source": [
    "---"
   ]
  },
  {
   "cell_type": "markdown",
   "execution_count": null,
   "metadata": {},
   "outputs": [],
   "source": [
    "### R-3.27\n",
    "Give a big-Oh characterization, in terms of `n`, of the running time of the `example5` function shown in Code Fragment 3.10."
   ]
  },
  {
   "cell_type": "code",
   "execution_count": null,
   "metadata": {},
   "outputs": [],
   "source": [
    "def example5(A, B): # assume that A and B have equal length\n",
    "\t\"\"\"Return the number of elements in B equal to the sum of prefix sums in A.\"\"\"\n",
    "\tn = len(A)\n",
    "\tcount = 0\n",
    "\tfor i in range(n): # loop from 0 to n-1\n",
    "\t\ttotal = 0\n",
    "\t\tfor j in range(n): # loop from 0 to n-1\n",
    "\t\t\tfor k in range(1+j): # loop from 0 to j\n",
    "\t\t\t\ttotal += A[k]\n",
    "\t\tif B[i] == total:\n",
    "\t\t\tcount += 1\n",
    "\treturn count"
   ]
  },
  {
   "cell_type": "markdown",
   "execution_count": null,
   "metadata": {},
   "outputs": [],
   "source": [
    "---"
   ]
  },
  {
   "cell_type": "markdown",
   "execution_count": null,
   "metadata": {},
   "outputs": [],
   "source": [
    "### R-3.28\n",
    "For each function $f (n)$ and time $t$ in the following table, determine the largest size $n$ of a problem P that can be solved in time $t$ if the algorithm for solving P takes $f (n)$ microseconds."
   ]
  },
  {
   "cell_type": "markdown",
   "execution_count": null,
   "metadata": {},
   "outputs": [],
   "source": [
    "|       | $\\quad$ 1 second $\\quad$ | $\\quad$ 1 hour $\\quad$ | $\\quad$ 1 month $\\quad$ | $\\quad$ 1 century $\\quad$ |\n",
    "| :---: | :---: | :---: | :---: | :---: |\n",
    "| $\\log n$ | $\\approx 10^{300000}$ | - | - | - |\n",
    "| $n$ | - | - | - | - |\n",
    "| $n \\log n$ | - | - | - | - |\n",
    "| $n^2$ | - | - | - | - |\n",
    "| $2^n$ | - | - | - | - |"
   ]
  },
  {
   "cell_type": "markdown",
   "execution_count": null,
   "metadata": {},
   "outputs": [],
   "source": [
    "### R-3.29\n",
    "Algorithm A executes an $O(\\log n)$-time computation for each entry of an n-element sequence. What is its worst-case running time?"
   ]
  },
  {
   "cell_type": "markdown",
   "execution_count": null,
   "metadata": {},
   "outputs": [],
   "source": [
    "Worst case: $O(n\\log n)$"
   ]
  },
  {
   "cell_type": "markdown",
   "execution_count": null,
   "metadata": {},
   "outputs": [],
   "source": [
    "---"
   ]
  },
  {
   "cell_type": "markdown",
   "execution_count": null,
   "metadata": {},
   "outputs": [],
   "source": [
    "### R-3.30\n",
    "Given an n-element sequence S, Algorithm B chooses $\\log n$ elements in S at random and executes an $O(n)$-time calculation for each. What is the worst-case running time of Algorithm B?"
   ]
  },
  {
   "cell_type": "markdown",
   "execution_count": null,
   "metadata": {},
   "outputs": [],
   "source": [
    "Worst case: $O(n\\log n)$"
   ]
  },
  {
   "cell_type": "markdown",
   "execution_count": null,
   "metadata": {},
   "outputs": [],
   "source": [
    "---"
   ]
  },
  {
   "cell_type": "markdown",
   "execution_count": null,
   "metadata": {},
   "outputs": [],
   "source": [
    "### R-3.31\n",
    "Given an n-element sequence S of integers, Algorithm C executes an $O(n)$-time computation for each even number in S, and an $O(\\log n)$-time computation for each odd number in S. What are the best-case and worstcase running times of Algorithm C?"
   ]
  },
  {
   "cell_type": "markdown",
   "execution_count": null,
   "metadata": {},
   "outputs": [],
   "source": [
    "Best case: $O(n\\log n)$\n",
    "\n",
    "Worst case: $O(n^2)$"
   ]
  },
  {
   "cell_type": "markdown",
   "execution_count": null,
   "metadata": {},
   "outputs": [],
   "source": [
    "---"
   ]
  },
  {
   "cell_type": "markdown",
   "execution_count": null,
   "metadata": {},
   "outputs": [],
   "source": [
    "### R-3.32\n",
    "Given an n-element sequence S, Algorithm D calls Algorithm E on each element $S[i]$. Algorithm E runs in $O(i)$ time when it is called on element $S[i]$. What is the worst-case running time of Algorithm D?"
   ]
  },
  {
   "cell_type": "markdown",
   "execution_count": null,
   "metadata": {},
   "outputs": [],
   "source": [
    "Running time of Algorithm D = $O(n)$ if n is not a sequence in itself. Else, $O(n^2)$"
   ]
  },
  {
   "cell_type": "markdown",
   "execution_count": null,
   "metadata": {},
   "outputs": [],
   "source": [
    "---"
   ]
  },
  {
   "cell_type": "markdown",
   "execution_count": null,
   "metadata": {},
   "outputs": [],
   "source": [
    "### R-3.33\n",
    "Al and Bob are arguing about their algorithms. Al claims his $O(nlog n)$-time method is always faster than Bob’s $O(n^2)$-time method. To settle the issue, they perform a set of experiments. To Al’s dismay, they find that if $n < 100$, the $O(n^2)$-time algorithm runs faster, and only when $n \\ge 100$ is the $O(n\\log n)$-time one better. Explain how this is possible."
   ]
  },
  {
   "cell_type": "markdown",
   "execution_count": null,
   "metadata": {},
   "outputs": [],
   "source": [
    "This could be possible since the big-oh notation only gives a rough idea of the running time of the algorithm. There are coefficients and additional terms in the exact expression of the running time that are neglected in the simplistic big-oh representation. This would likely be the case for Al and Bob's algorithm"
   ]
  },
  {
   "cell_type": "markdown",
   "execution_count": null,
   "metadata": {},
   "outputs": [],
   "source": [
    "---"
   ]
  },
  {
   "cell_type": "markdown",
   "execution_count": null,
   "metadata": {},
   "outputs": [],
   "source": [
    "### R-3.34\n",
    "There is a well-known city (which will go nameless here) whose inhabitants have the reputation of enjoying a meal only if that meal is the best they have ever experienced in their life. Otherwise, they hate it. Assuming meal quality is distributed uniformly across a person’s life, describe the expected number of times inhabitants of this city are happy with their meals?"
   ]
  },
  {
   "cell_type": "markdown",
   "execution_count": null,
   "metadata": {},
   "outputs": [],
   "source": [
    "Since the meal quality is uniformly distributed, the number will be half of the total number of meals the individual eats in his lifetime"
   ]
  },
  {
   "cell_type": "markdown",
   "execution_count": null,
   "metadata": {},
   "outputs": [],
   "source": [
    "---"
   ]
  }
 ]
}