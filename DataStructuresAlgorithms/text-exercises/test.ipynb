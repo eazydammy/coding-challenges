{
 "nbformat": 4,
 "nbformat_minor": 2,
 "metadata": {
  "language_info": {
   "name": "python",
   "codemirror_mode": {
    "name": "ipython",
    "version": 3
   },
   "version": "3.7.3-final"
  },
  "orig_nbformat": 2,
  "file_extension": ".py",
  "mimetype": "text/x-python",
  "name": "python",
  "npconvert_exporter": "python",
  "pygments_lexer": "ipython3",
  "version": 3,
  "kernelspec": {
   "name": "python37364bitdf93e1b19d4e4979b0827fd5a065704c",
   "display_name": "Python 3.7.3 64-bit"
  }
 },
 "cells": [
  {
   "source": [
    "def example3(S):\n",
    "\t\"\"\"Return the sum of the prefix sums of sequence S.\"\"\"\n",
    "\tn = len(S)\n",
    "\ttotal = 0\n",
    "\tfor j in range(n): # loop from 0 to n-1\n",
    "\t\tfor k in range(1+j): # loop from 0 to j\n",
    "\t\t\ttotal += S[k]\n",
    "\treturn total"
   ],
   "cell_type": "code",
   "outputs": [],
   "metadata": {},
   "execution_count": 1
  },
  {
   "source": [
    "list = [1,2,3,4,5,6,7,8,9]"
   ],
   "cell_type": "code",
   "outputs": [],
   "metadata": {},
   "execution_count": 2
  },
  {
   "source": [
    "example3(list)"
   ],
   "cell_type": "code",
   "outputs": [
    {
     "output_type": "execute_result",
     "data": {
      "text/plain": "165"
     },
     "metadata": {},
     "execution_count": 3
    }
   ],
   "metadata": {},
   "execution_count": 3
  },
  {
   "source": [
    "len(list)"
   ],
   "cell_type": "code",
   "outputs": [
    {
     "output_type": "execute_result",
     "data": {
      "text/plain": "9"
     },
     "metadata": {},
     "execution_count": 4
    }
   ],
   "metadata": {},
   "execution_count": 4
  },
  {
   "source": [
    "for j in range(9):\n",
    "    for k in range(1+j):\n",
    "        print(j,k)"
   ],
   "cell_type": "code",
   "outputs": [
    {
     "output_type": "stream",
     "name": "stdout",
     "text": "0 0\n1 0\n1 1\n2 0\n2 1\n2 2\n3 0\n3 1\n3 2\n3 3\n4 0\n4 1\n4 2\n4 3\n4 4\n5 0\n5 1\n5 2\n5 3\n5 4\n5 5\n6 0\n6 1\n6 2\n6 3\n6 4\n6 5\n6 6\n7 0\n7 1\n7 2\n7 3\n7 4\n7 5\n7 6\n7 7\n8 0\n8 1\n8 2\n8 3\n8 4\n8 5\n8 6\n8 7\n8 8\n"
    }
   ],
   "metadata": {},
   "execution_count": 6
  },
  {
   "cell_type": "code",
   "execution_count": null,
   "metadata": {},
   "outputs": [],
   "source": []
  }
 ]
}