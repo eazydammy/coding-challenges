{
 "nbformat": 4,
 "nbformat_minor": 2,
 "metadata": {
  "language_info": {
   "name": "python",
   "codemirror_mode": {
    "name": "ipython",
    "version": 3
   },
   "version": "3.7.3-final"
  },
  "orig_nbformat": 2,
  "file_extension": ".py",
  "mimetype": "text/x-python",
  "name": "python",
  "npconvert_exporter": "python",
  "pygments_lexer": "ipython3",
  "version": 3,
  "kernelspec": {
   "name": "python37364bitdf93e1b19d4e4979b0827fd5a065704c",
   "display_name": "Python 3.7.3 64-bit"
  }
 },
 "cells": [
  {
   "cell_type": "markdown",
   "execution_count": 1,
   "metadata": {},
   "outputs": [
    {
     "data": {
      "text/plain": "3"
     },
     "execution_count": 1,
     "metadata": {},
     "output_type": "execute_result"
    }
   ],
   "source": [
    "# Reinforcement\n",
    "### R-2.1\n",
    "Give three examples of life-critical software applications."
   ]
  },
  {
   "cell_type": "markdown",
   "execution_count": null,
   "metadata": {},
   "outputs": [],
   "source": [
    "* Airplane Cruise Control System\n",
    "* Nuclear Plant Control System\n",
    "* Medical Surgery Control System"
   ]
  },
  {
   "cell_type": "markdown",
   "execution_count": null,
   "metadata": {},
   "outputs": [],
   "source": [
    "### R-2.2\n",
    "Give an example of a software application in which adaptability can mean\n",
    "the difference between a prolonged lifetime of sales and bankruptcy."
   ]
  },
  {
   "cell_type": "markdown",
   "execution_count": null,
   "metadata": {},
   "outputs": [],
   "source": [
    "I imagine if the Amazon e-Commerce platform cannot run (or is not adaptable on mobile devices)"
   ]
  },
  {
   "cell_type": "markdown",
   "execution_count": null,
   "metadata": {},
   "outputs": [],
   "source": [
    "### R-2.3\n",
    "Describe a component from a text-editor GUI and the methods that it encapsulates."
   ]
  },
  {
   "cell_type": "markdown",
   "execution_count": 2,
   "metadata": {},
   "outputs": [
    {
     "ename": "SyntaxError",
     "evalue": "invalid syntax (<ipython-input-2-1093f9e51943>, line 1)",
     "output_type": "error",
     "traceback": [
      "\u001b[1;36m  File \u001b[1;32m\"<ipython-input-2-1093f9e51943>\"\u001b[1;36m, line \u001b[1;32m1\u001b[0m\n\u001b[1;33m    ** Save Component **\u001b[0m\n\u001b[1;37m     ^\u001b[0m\n\u001b[1;31mSyntaxError\u001b[0m\u001b[1;31m:\u001b[0m invalid syntax\n"
     ]
    }
   ],
   "source": [
    "** Insert Pictures Component in MS-Word**\n",
    "\n",
    "I believe this encapsulates the following methods (or similar):\n",
    "  * `get_cursor_position()`\n",
    "  * `os_explorer(type=(\"emg\", \"gif\", \"jpg\", \"png\", \"bmp\", \"wmf\", \"tiff\"))`\n",
    "  * `insert_image(position)`"
   ]
  },
  {
   "cell_type": "markdown",
   "execution_count": null,
   "metadata": {},
   "outputs": [],
   "source": [
    "### R-2.4\n",
    "Write a Python class, `Flower`, that has three instance variables of type `str`, `int`, and `float`, that respectively represent the name of the flower, its number of petals, and its price. Your class must include a constructor method that initializes each variable to an appropriate value, and your class should include methods for setting the value of each type, and retrieving the value\n",
    "of each type."
   ]
  },
  {
   "cell_type": "code",
   "execution_count": 3,
   "metadata": {},
   "outputs": [],
   "source": [
    "class Flower:\n",
    "    def __init__(self, name, num_petals, price):\n",
    "        self._name = str(name)\n",
    "        self._num_petals = int(num_petals)\n",
    "        self._price = float(price)\n",
    "\n",
    "    def set_name(self, name):\n",
    "        self._name = str(name)\n",
    "\n",
    "    def set_num_petals(self, num_petals):\n",
    "        self._num_petals = num_petals\n",
    "\n",
    "    def set_price(self, price):\n",
    "        self._price = price\n",
    "    \n",
    "    def get_name(self):\n",
    "        return self._name\n",
    "\n",
    "    def get_num_petals(self):\n",
    "        return self._num_petals\n",
    "\n",
    "    def get_price(self):\n",
    "        return self._price"
   ]
  }
 ]
}