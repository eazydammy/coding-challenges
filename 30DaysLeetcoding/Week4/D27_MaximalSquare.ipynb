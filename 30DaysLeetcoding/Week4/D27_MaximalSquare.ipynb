{
 "cells": [
  {
   "cell_type": "markdown",
   "metadata": {},
   "source": [
    "Given a 2D binary matrix filled with 0's and 1's, find the largest square containing only 1's and return its area."
   ]
  },
  {
   "cell_type": "markdown",
   "metadata": {},
   "source": [
    "*Example:*\n",
    "\n",
    "*Input:*\n",
    "```\n",
    "1 0 1 0 0\n",
    "1 0 1 1 1\n",
    "1 1 1 1 1\n",
    "1 0 0 1 0\n",
    "```\n",
    "*Output:* 4"
   ]
  },
  {
   "cell_type": "code",
   "execution_count": null,
   "metadata": {},
   "outputs": [],
   "source": [
    "class Solution:\n",
    "    def maximalSquare(self, matrix: List[List[str]]) -> int:\n",
    "        rows = len(matrix)\n",
    "        if rows == 0: return 0\n",
    "        cols = len(matrix[0])\n",
    "        \n",
    "        largest = 0\n",
    "        dp = [[0]*(cols+1) for _ in range(rows+1)]\n",
    "        for i in range(1,rows+1):\n",
    "            for j in range(1,cols+1):\n",
    "                if matrix[i-1][j-1] == '1':\n",
    "                    dp[i][j] = 1 + min(dp[i-1][j], dp[i][j-1], dp[i-1][j-1])\n",
    "                    largest = max(largest, dp[i][j])\n",
    "        \n",
    "        return largest**2"
   ]
  }
 ],
 "metadata": {
  "language_info": {
   "codemirror_mode": {
    "name": "ipython",
    "version": 3
   },
   "file_extension": ".py",
   "mimetype": "text/x-python",
   "name": "python",
   "nbconvert_exporter": "python",
   "pygments_lexer": "ipython3",
   "version": 3
  },
  "orig_nbformat": 2
 },
 "nbformat": 4,
 "nbformat_minor": 2
}