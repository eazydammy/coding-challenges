{
 "cells": [
  {
   "cell_type": "markdown",
   "metadata": {},
   "source": [
    "Given an array of non-negative integers, you are initially positioned at the first index of the array.\n",
    "\n",
    "Each element in the array represents your maximum jump length at that position.\n",
    "\n",
    "Determine if you are able to reach the last index."
   ]
  },
  {
   "cell_type": "markdown",
   "metadata": {},
   "source": [
    "*Example 1:*\n",
    "\n",
    "*Input:* `[2,3,1,1,4]`\n",
    "\n",
    "*Output:* true\n",
    "\n",
    "*Explanation:* Jump 1 step from index 0 to 1, then 3 steps to the last index.\n",
    "\n",
    "*Example 2:*\n",
    "\n",
    "*Input:* `[3,2,1,0,4]`\n",
    "\n",
    "*Output:* false\n",
    "\n",
    "*Explanation:* You will always arrive at index 3 no matter what. Its maximum\n",
    "             jump length is 0, which makes it impossible to reach the last index."
   ]
  },
  {
   "cell_type": "code",
   "execution_count": null,
   "metadata": {},
   "outputs": [],
   "source": [
    "class Solution:\n",
    "    def canJump(self, nums: List[int]) -> bool:\n",
    "        dist = 0\n",
    "    \n",
    "        while dist < (len(nums)-1):\n",
    "            for i,num in enumerate(nums):\n",
    "                if i > dist:\n",
    "                    return False\n",
    "                dist = max(dist, i+num)\n",
    "        return True"
   ]
  }
 ],
 "metadata": {
  "language_info": {
   "codemirror_mode": {
    "name": "ipython",
    "version": 3
   },
   "file_extension": ".py",
   "mimetype": "text/x-python",
   "name": "python",
   "nbconvert_exporter": "python",
   "pygments_lexer": "ipython3",
   "version": 3
  },
  "orig_nbformat": 2
 },
 "nbformat": 4,
 "nbformat_minor": 2
}