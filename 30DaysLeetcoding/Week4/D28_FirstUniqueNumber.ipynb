{
 "cells": [
  {
   "cell_type": "markdown",
   "metadata": {},
   "source": [
    "You have a queue of integers, you need to retrieve the first unique integer in the queue.\n",
    "\n",
    "Implement the `FirstUnique` class:\n",
    "\n",
    "* `FirstUnique(int[] nums)` Initializes the object with the numbers in the queue.\n",
    "* `int showFirstUnique()` returns the value of *the first unique* integer of the queue, and returns *-1* if there is no such integer.\n",
    "* `void add(int value)` insert value to the queue.\n",
    " "
   ]
  },
  {
   "cell_type": "markdown",
   "metadata": {},
   "source": [
    "*Example 1:*\n",
    "\n",
    "*Input:*\n",
    "`[\"FirstUnique\",\"showFirstUnique\",\"add\",\"showFirstUnique\",\"add\",\"showFirstUnique\",\"add\",\"showFirstUnique\"]`\n",
    "`[[[2,3,5]],[],[5],[],[2],[],[3],[]]`\n",
    "\n",
    "*Output:* \n",
    "`[null,2,null,2,null,3,null,-1]`\n",
    "\n",
    "*Explanation:* \n",
    "```\n",
    "FirstUnique firstUnique = new FirstUnique([2,3,5]);\n",
    "firstUnique.showFirstUnique(); // return 2\n",
    "firstUnique.add(5);            // the queue is now [2,3,5,5]\n",
    "firstUnique.showFirstUnique(); // return 2\n",
    "firstUnique.add(2);            // the queue is now [2,3,5,5,2]\n",
    "firstUnique.showFirstUnique(); // return 3\n",
    "firstUnique.add(3);            // the queue is now [2,3,5,5,2,3]\n",
    "firstUnique.showFirstUnique(); // return -1\n",
    "```\n",
    "\n",
    "*Example 2:*\n",
    "\n",
    "*Input:* \n",
    "`[\"FirstUnique\",\"showFirstUnique\",\"add\",\"add\",\"add\",\"add\",\"add\",\"showFirstUnique\"]`\n",
    "`[[[7,7,7,7,7,7]],[],[7],[3],[3],[7],[17],[]]`\n",
    "\n",
    "*Output:* \n",
    "`[null,-1,null,null,null,null,null,17]`\n",
    "\n",
    "*Explanation:*\n",
    "```\n",
    "FirstUnique firstUnique = new FirstUnique([7,7,7,7,7,7]);\n",
    "firstUnique.showFirstUnique(); // return -1\n",
    "firstUnique.add(7);            // the queue is now [7,7,7,7,7,7,7]\n",
    "firstUnique.add(3);            // the queue is now [7,7,7,7,7,7,7,3]\n",
    "firstUnique.add(3);            // the queue is now [7,7,7,7,7,7,7,3,3]\n",
    "firstUnique.add(7);            // the queue is now [7,7,7,7,7,7,7,3,3,7]\n",
    "firstUnique.add(17);           // the queue is now [7,7,7,7,7,7,7,3,3,7,17]\n",
    "firstUnique.showFirstUnique(); // return 17\n",
    "```\n",
    "\n",
    "*Example 3:*\n",
    "\n",
    "*Input:* \n",
    "`[\"FirstUnique\",\"showFirstUnique\",\"add\",\"showFirstUnique\"]`\n",
    "`[[[809]],[],[809],[]]`\n",
    "\n",
    "*Output:*\n",
    "`[null,809,null,-1]`\n",
    "\n",
    "*Explanation:*\n",
    "```\n",
    "FirstUnique firstUnique = new FirstUnique([809]);\n",
    "firstUnique.showFirstUnique(); // return 809\n",
    "firstUnique.add(809);          // the queue is now [809,809]\n",
    "firstUnique.showFirstUnique(); // return -1\n",
    "```"
   ]
  },
  {
   "cell_type": "markdown",
   "metadata": {},
   "source": [
    "*Constraints:*\n",
    "\n",
    "* `1 <= nums.length <= 10^5`\n",
    "* `1 <= nums[i] <= 10^8`\n",
    "* `1 <= value <= 10^8`\n",
    "* At most `50000` calls will be made to `showFirstUnique` and `add`."
   ]
  },
  {
   "cell_type": "markdown",
   "metadata": {},
   "source": [
    "*Hint #1*\n",
    "\n",
    "Use doubly Linked list with hashmap of pointers to linked list nodes. add unique number to the linked list. When add is called check if the added number is unique then it have to be added to the linked list and if it is repeated remove it from the linked list if exists. When showFirstUnique is called retrieve the head of the linked list.\n",
    "\n",
    "*Hint #2* \n",
    "Use queue and check that first element of the queue is always unique.\n",
    "\n",
    "*Hint #3* \n",
    "Use set or heap to make running time of each function $O(logn)$."
   ]
  },
  {
   "cell_type": "code",
   "execution_count": null,
   "metadata": {},
   "outputs": [],
   "source": [
    "class FirstUnique:\n",
    "\n",
    "    def __init__(self, nums: List[int]):\n",
    "        self.queue, self.map = [], {}\n",
    "\n",
    "        for i in nums:\n",
    "            self.add(i)\n",
    "\n",
    "    def showFirstUnique(self) -> int:\n",
    "        while len(self.queue) > 0 and self.map[self.queue[0]] > 1:\n",
    "            self.queue.pop(0)\n",
    "        if len(self.queue) == 0:\n",
    "            return -1\n",
    "        else:\n",
    "            return self.queue[0]\n",
    "\n",
    "    def add(self, value: int) -> None:\n",
    "        if value in self.map:\n",
    "            self.map[value] += 1\n",
    "        else:\n",
    "            self.map[value] = 1\n",
    "            self.queue.append(value)\n",
    "        \n",
    "\n",
    "\n",
    "# Your FirstUnique object will be instantiated and called as such:\n",
    "# obj = FirstUnique(nums)\n",
    "# param_1 = obj.showFirstUnique()\n",
    "# obj.add(value)"
   ]
  }
 ],
 "metadata": {
  "language_info": {
   "codemirror_mode": {
    "name": "ipython",
    "version": 3
   },
   "file_extension": ".py",
   "mimetype": "text/x-python",
   "name": "python",
   "nbconvert_exporter": "python",
   "pygments_lexer": "ipython3",
   "version": "3.7.3-final"
  },
  "orig_nbformat": 2,
  "kernelspec": {
   "name": "python37364bitbasecondadd691ec5b02843bba03cba763c7bcea6",
   "display_name": "Python 3.7.3 64-bit ('base': conda)"
  }
 },
 "nbformat": 4,
 "nbformat_minor": 2
}