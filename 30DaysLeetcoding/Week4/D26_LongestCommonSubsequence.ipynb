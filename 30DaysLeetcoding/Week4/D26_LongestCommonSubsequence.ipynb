{
 "cells": [
  {
   "cell_type": "markdown",
   "metadata": {},
   "source": [
    "Given two strings `text1` and `text2`, return the length of their longest common subsequence.\n",
    "\n",
    "A subsequence of a string is a new string generated from the original string with some characters(can be none) deleted without changing the relative order of the remaining characters. (eg, \"ace\" is a subsequence of \"abcde\" while \"aec\" is not). A _common subsequence_ of two strings is a subsequence that is common to both strings.\n",
    "\n",
    "If there is no common subsequence, return 0."
   ]
  },
  {
   "cell_type": "markdown",
   "metadata": {},
   "source": [
    "*Example 1:*\n",
    "\n",
    "*Input:* text1 = \"abcde\", text2 = \"ace\"  \n",
    "\n",
    "*Output:* 3 \n",
    "\n",
    "*Explanation:* The longest common subsequence is \"ace\" and its length is 3.\n",
    "\n",
    "*Example 2:*\n",
    "\n",
    "*Input:* text1 = \"abc\", text2 = \"abc\" \n",
    "\n",
    "*Output:* 3 \n",
    "\n",
    "*Explanation:* The longest common subsequence is \"abc\" and its length is 3.\n",
    "\n",
    "*Example 3:*\n",
    "\n",
    "*Input:* text1 = \"abc\", text2 = \"def\" \n",
    "\n",
    "*Output:* 0 \n",
    "\n",
    "*Explanation:* There is no such common subsequence, so the result is 0."
   ]
  },
  {
   "cell_type": "markdown",
   "metadata": {},
   "source": [
    "*Constraints:*\n",
    "\n",
    "* `1 <= text1.length <= 1000`\n",
    "* `1 <= text2.length <= 1000`\n",
    "* The input strings consist of lowercase English characters only."
   ]
  },
  {
   "cell_type": "code",
   "execution_count": null,
   "metadata": {},
   "outputs": [],
   "source": [
    "class Solution:\n",
    "    def longestCommonSubsequence(self, text1: str, text2: str) -> int:\n",
    "        len1 = len(text1)\n",
    "        len2 = len(text2)\n",
    "        \n",
    "        dp = [[0]*(1+len2) for k in range(1+len1)]\n",
    "        \n",
    "        for i in range(len1):\n",
    "            for j in range(len2):\n",
    "                if text1[i] == text2[j]:\n",
    "                    dp[i+1][j+1] = dp[i][j] + 1\n",
    "                else:\n",
    "                    dp[i+1][j+1] = max(dp[i][j+1], dp[i+1][j])\n",
    "                    \n",
    "        return dp[-1][-1]"
   ]
  }
 ],
 "metadata": {
  "language_info": {
   "codemirror_mode": {
    "name": "ipython",
    "version": 3
   },
   "file_extension": ".py",
   "mimetype": "text/x-python",
   "name": "python",
   "nbconvert_exporter": "python",
   "pygments_lexer": "ipython3",
   "version": 3
  },
  "orig_nbformat": 2
 },
 "nbformat": 4,
 "nbformat_minor": 2
}