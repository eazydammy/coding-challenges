{
 "cells": [
  {
   "cell_type": "markdown",
   "metadata": {},
   "source": [
    "Given an array of integers and an integer *k*, you need to find the total number of continuous subarrays whose sum equals to *k*."
   ]
  },
  {
   "cell_type": "markdown",
   "metadata": {},
   "source": [
    "*Example 1:*\n",
    "\n",
    "*Input:* nums = `[1,1,1]`, k = 2\n",
    "\n",
    "*Output:* 2"
   ]
  },
  {
   "cell_type": "markdown",
   "metadata": {},
   "source": [
    "*Note:*\n",
    "\n",
    "The length of the array is in range `[1, 20,000]`.\n",
    "\n",
    "The range of numbers in the array is `[-1000, 1000]` and the range of the integer *k* is `[-1e7, 1e7]`."
   ]
  },
  {
   "cell_type": "code",
   "execution_count": null,
   "metadata": {},
   "outputs": [],
   "source": [
    "class Solution:\n",
    "    def subarraySum(self, nums: List[int], k: int) -> int:\n",
    "            dic = {0: 1}\n",
    "            result = 0\n",
    "            sum = 0\n",
    "\n",
    "            for num in nums:\n",
    "                sum += num\n",
    "\n",
    "                if sum-k in dic:\n",
    "                    result += dic[sum-k] #1\n",
    "\n",
    "                if sum in dic:\n",
    "                    dic[sum] += 1\n",
    "                else:\n",
    "                    dic[sum] = 1\n",
    "            return result"
   ]
  }
 ],
 "metadata": {
  "language_info": {
   "codemirror_mode": {
    "name": "ipython",
    "version": 3
   },
   "file_extension": ".py",
   "mimetype": "text/x-python",
   "name": "python",
   "nbconvert_exporter": "python",
   "pygments_lexer": "ipython3",
   "version": 3
  },
  "orig_nbformat": 2
 },
 "nbformat": 4,
 "nbformat_minor": 2
}