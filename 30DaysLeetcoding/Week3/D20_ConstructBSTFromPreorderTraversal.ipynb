{
 "nbformat": 4,
 "nbformat_minor": 2,
 "metadata": {
  "language_info": {
   "name": "python",
   "codemirror_mode": {
    "name": "ipython",
    "version": 3
   }
  },
  "orig_nbformat": 2,
  "file_extension": ".py",
  "mimetype": "text/x-python",
  "name": "python",
  "npconvert_exporter": "python",
  "pygments_lexer": "ipython3",
  "version": 3
 },
 "cells": [
  {
   "cell_type": "markdown",
   "metadata": {},
   "source": [
    "Return the root node of a binary *search* tree that matches the given `preorder` traversal.\n",
    "\n",
    "(Recall that a binary search tree is a binary tree where for every node, any descendant of `node.left` has a value `<` `node.val`, and any descendant of `node.right` has a value `>` `node.val`.  Also recall that a preorder traversal displays the value of the `node` first, then traverses `node.left`, then traverses `node.right`.)"
   ]
  },
  {
   "cell_type": "markdown",
   "metadata": {},
   "source": [
    "*Example 1:*\n",
    "\n",
    "*Input:* `[8,5,1,7,10,12]`\n",
    "\n",
    "*Output:* `[8,5,10,1,7,null,12]`"
   ]
  },
  {
   "cell_type": "code",
   "execution_count": null,
   "metadata": {},
   "outputs": [],
   "source": [
    "# Definition for a binary tree node.\n",
    "# class TreeNode:\n",
    "#     def __init__(self, x):\n",
    "#         self.val = x\n",
    "#         self.left = None\n",
    "#         self.right = None\n",
    "\n",
    "class Solution:\n",
    "    def bstFromPreorder(self, preorder: List[int]) -> TreeNode:\n",
    "        if not preorder: return None\n",
    "\n",
    "        root = TreeNode(preorder[0])\n",
    "        temp_s = [root]\n",
    "        \n",
    "        i=1\n",
    "        \n",
    "        while (i<len(preorder)):\n",
    "            temp = None\n",
    "            while (len(temp_s)>0 and preorder[i] > temp_s[-1].val):\n",
    "                temp = temp_s.pop()\n",
    "            \n",
    "            if (temp != None):\n",
    "                temp.right = TreeNode(preorder[i])\n",
    "                temp_s.append(temp.right)\n",
    "                \n",
    "            else:\n",
    "                temp = temp_s[-1]\n",
    "                temp.left = TreeNode(preorder[i])\n",
    "                temp_s.append(temp.left)\n",
    "            \n",
    "            i+=1\n",
    "            \n",
    "        return root\n",
    "        "
   ]
  }
 ]
}