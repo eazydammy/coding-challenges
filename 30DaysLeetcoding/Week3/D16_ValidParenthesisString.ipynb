{
 "nbformat": 4,
 "nbformat_minor": 2,
 "metadata": {
  "language_info": {
   "name": "python",
   "codemirror_mode": {
    "name": "ipython",
    "version": 3
   }
  },
  "orig_nbformat": 2,
  "file_extension": ".py",
  "mimetype": "text/x-python",
  "name": "python",
  "npconvert_exporter": "python",
  "pygments_lexer": "ipython3",
  "version": 3
 },
 "cells": [
  {
   "cell_type": "markdown",
   "metadata": {},
   "source": [
    "Given a string containing only three types of characters: '(', ')' and '*', write a function to check whether this string is valid. We define the validity of a string by these rules:\n",
    "\n",
    "* Any left parenthesis `'('` must have a corresponding right parenthesis `')'`.\n",
    "* Any right parenthesis `')'` must have a corresponding left parenthesis `'('`.\n",
    "* Left parenthesis `'('` must go before the corresponding right parenthesis `')'`.\n",
    "* `'*'` could be treated as a single right parenthesis `')'` or a single left parenthesis `'('` or an empty string.\n",
    "* An empty string is also valid."
   ]
  },
  {
   "cell_type": "markdown",
   "metadata": {},
   "source": [
    "*Example 1:*\n",
    "*Input:* \"()\"\n",
    "*Output:* True\n",
    "\n",
    "*Example 2:*\n",
    "*Input:* \"(*)\"\n",
    "*Output:* True\n",
    "\n",
    "*Example 3:*\n",
    "*Input:* \"(*))\"\n",
    "*Output:* True"
   ]
  },
  {
   "cell_type": "markdown",
   "metadata": {},
   "source": [
    "*Note:*\n",
    "The string size will be in the range `[1, 100]`."
   ]
  },
  {
   "cell_type": "code",
   "execution_count": null,
   "metadata": {},
   "outputs": [],
   "source": [
    "class Solution:\n",
    "    def checkValidString(self, s: str) -> bool:\n",
    "        left, left_count = \"(*\", 0\n",
    "        right, right_count = \")*\", 0\n",
    "        for i in range(len(s)):\n",
    "            if s[i] in left:\n",
    "                left_count += 1\n",
    "            else:\n",
    "                left_count -= 1\n",
    "            \n",
    "            if s[-1-i] in right:\n",
    "                right_count += 1\n",
    "            else:\n",
    "                right_count -= 1\n",
    "            \n",
    "            if left_count < 0 or right_count < 0:\n",
    "                return False\n",
    "        \n",
    "        return True"
   ]
  }
 ]
}