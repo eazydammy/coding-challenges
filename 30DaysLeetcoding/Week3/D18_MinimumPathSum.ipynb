{
 "nbformat": 4,
 "nbformat_minor": 2,
 "metadata": {
  "language_info": {
   "name": "python",
   "codemirror_mode": {
    "name": "ipython",
    "version": 3
   }
  },
  "orig_nbformat": 2,
  "file_extension": ".py",
  "mimetype": "text/x-python",
  "name": "python",
  "npconvert_exporter": "python",
  "pygments_lexer": "ipython3",
  "version": 3
 },
 "cells": [
  {
   "cell_type": "markdown",
   "metadata": {},
   "source": [
    "Given a m x n grid filled with non-negative numbers, find a path from top left to bottom right which minimizes the sum of all numbers along its path.\n",
    "\n",
    "*Note:* You can only move either down or right at any point in time."
   ]
  },
  {
   "cell_type": "markdown",
   "metadata": {},
   "source": [
    "*Example:*\n",
    "\n",
    "*Input:*\n",
    "```\n",
    "[\n",
    "  [1,3,1],\n",
    "  [1,5,1],\n",
    "  [4,2,1]\n",
    "]\n",
    "```\n",
    "*Output:* 7\n",
    "\n",
    "*Explanation:* Because the path 1→3→1→1→1 minimizes the sum."
   ]
  },
  {
   "cell_type": "code",
   "execution_count": null,
   "metadata": {},
   "outputs": [],
   "source": [
    "class Solution:\n",
    "    def minPathSum(self, grid: List[List[int]]) -> int:\n",
    "        if not grid:\n",
    "            return\n",
    "        \n",
    "        rows, cols = len(grid), len(grid[0])\n",
    "        \n",
    "        for i in range(1,cols):\n",
    "            grid[0][i] += grid[0][i-1]\n",
    "        \n",
    "        for j in range(1,rows):\n",
    "            grid[j][0] += grid[j-1][0]\n",
    "        \n",
    "        for i in range(1,rows):\n",
    "            for j in range(1,cols):\n",
    "                grid[i][j] += min(grid[i-1][j], grid[i][j-1])\n",
    "        \n",
    "        return grid[-1][-1]"
   ]
  }
 ]
}