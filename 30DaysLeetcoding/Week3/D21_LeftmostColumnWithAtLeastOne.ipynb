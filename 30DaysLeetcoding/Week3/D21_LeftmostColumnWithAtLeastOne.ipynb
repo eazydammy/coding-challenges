{
 "cells": [
  {
   "cell_type": "markdown",
   "metadata": {},
   "source": [
    "A binary matrix means that all elements are `0` or `1`. For each *individual* row of the matrix, this row is sorted in non-decreasing order.\n",
    "\n",
    "Given a row-sorted binary matrix binaryMatrix, return leftmost column index(0-indexed) with at least a `1` in it. If such index doesn't exist, return `-1`.\n",
    "\n",
    "*You can't access the Binary Matrix directly*.  You may only access the matrix using a `BinaryMatrix` interface:\n",
    "\n",
    "* `BinaryMatrix.get(x, y)` returns the element of the matrix at index `(x, y)` (0-indexed).\n",
    "* `BinaryMatrix.dimensions()` returns a list of 2 elements `[n, m]`, which means the matrix is `n * m`.\n",
    "\n",
    "Submissions making more than `1000` calls to `BinaryMatrix.get` will be judged _Wrong Answer_.  Also, any solutions that attempt to circumvent the judge will result in disqualification.\n",
    "\n",
    "For custom testing purposes you're given the binary matrix `mat` as input in the following four examples. You will not have access the binary matrix directly."
   ]
  },
  {
   "cell_type": "markdown",
   "metadata": {},
   "source": [
    "*Example 1:*\n",
    "\n",
    "*Input:* mat = `[[0,0],[1,1]]`\n",
    "*Output:* 0\n",
    "\n",
    "*Example 2:*\n",
    "\n",
    "*Input:* mat = `[[0,0],[0,1]]`\n",
    "*Output:* 1\n",
    "\n",
    "*Example 3:*\n",
    "\n",
    "*Input:* mat = `[[0,0],[0,0]]`\n",
    "*Output:* -1\n",
    "\n",
    "*Example 4:*\n",
    "\n",
    "*Input:* mat = `[[0,0,0,1],[0,0,1,1],[0,1,1,1]]`\n",
    "*Output:* 1"
   ]
  },
  {
   "cell_type": "markdown",
   "metadata": {},
   "source": [
    "Constraints:\n",
    "\n",
    "* `1 <= mat.length, mat[i].length <= 100`\n",
    "* `mat[i][j]` is either `0` or `1`.\n",
    "* `mat[i]` is sorted in a non-decreasing way."
   ]
  },
  {
   "cell_type": "markdown",
   "metadata": {},
   "source": [
    "*Hint #1*\n",
    "\n",
    "*(Binary Search)* For each row do a binary search to find the leftmost one on that row and update the answer.\n",
    "\n",
    "*Hint #2*\n",
    "\n",
    "*(Optimal Approach)* Imagine there is a pointer p(x, y) starting from top right corner. p can only move left or down. If the value at p is 0, move down. If the value at p is 1, move left. Try to figure out the correctness and time complexity of this algorithm.\n"
   ]
  },
  {
   "cell_type": "code",
   "execution_count": null,
   "metadata": {},
   "outputs": [],
   "source": [
    "# \"\"\"\n",
    "# This is BinaryMatrix's API interface.\n",
    "# You should not implement it, or speculate about its implementation\n",
    "# \"\"\"\n",
    "#class BinaryMatrix(object):\n",
    "#    def get(self, x: int, y: int) -> int:\n",
    "#    def dimensions(self) -> list[]:\n",
    "\n",
    "class Solution:\n",
    "    def leftMostColumnWithOne(self, binaryMatrix: 'BinaryMatrix') -> int:\n",
    "        result = -1\n",
    "        rws, columns = binaryMatrix.dimensions()\n",
    "        r = 0\n",
    "        c = columns-1\n",
    "        \n",
    "        while (r<rws and c>=0):\n",
    "            if binaryMatrix.get(r,c) == 1:\n",
    "                result = c\n",
    "                c -= 1\n",
    "            else:\n",
    "                r += 1\n",
    "                \n",
    "        return result"
   ]
  }
 ],
 "metadata": {
  "language_info": {
   "codemirror_mode": {
    "name": "ipython",
    "version": 3
   },
   "file_extension": ".py",
   "mimetype": "text/x-python",
   "name": "python",
   "nbconvert_exporter": "python",
   "pygments_lexer": "ipython3",
   "version": 3
  },
  "orig_nbformat": 2
 },
 "nbformat": 4,
 "nbformat_minor": 2
}