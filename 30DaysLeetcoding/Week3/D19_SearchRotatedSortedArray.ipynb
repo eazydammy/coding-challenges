{
 "nbformat": 4,
 "nbformat_minor": 2,
 "metadata": {
  "language_info": {
   "name": "python",
   "codemirror_mode": {
    "name": "ipython",
    "version": 3
   }
  },
  "orig_nbformat": 2,
  "file_extension": ".py",
  "mimetype": "text/x-python",
  "name": "python",
  "npconvert_exporter": "python",
  "pygments_lexer": "ipython3",
  "version": 3
 },
 "cells": [
  {
   "cell_type": "markdown",
   "metadata": {},
   "source": [
    "Suppose an array sorted in ascending order is rotated at some pivot unknown to you beforehand.\n",
    "\n",
    "(i.e., `[0,1,2,4,5,6,7]` might become `[4,5,6,7,0,1,2]`).\n",
    "\n",
    "You are given a target value to search. If found in the array return its index, otherwise return `-1`.\n",
    "\n",
    "You may assume no duplicate exists in the array.\n",
    "\n",
    "Your algorithm's runtime complexity must be in the order of $O(log n)$."
   ]
  },
  {
   "cell_type": "markdown",
   "metadata": {},
   "source": [
    "*Example 1:*\n",
    "\n",
    "*Input:* nums = `[4,5,6,7,0,1,2]`, target = 0\n",
    "*Output:* 4\n",
    "\n",
    "*Example 2:*\n",
    "\n",
    "*Input:* nums = `[4,5,6,7,0,1,2]`, target = 3\n",
    "*Output:* -1"
   ]
  },
  {
   "cell_type": "code",
   "execution_count": null,
   "metadata": {},
   "outputs": [],
   "source": [
    "class Solution:\n",
    "    def search(self, nums: List[int], target: int) -> int:\n",
    "        \n",
    "        if not nums:\n",
    "            return -1\n",
    "        \n",
    "        left, right = 0, len(nums)-1\n",
    "        \n",
    "        while left <= right:\n",
    "            mid = left + ((right - left) // 2)\n",
    "            \n",
    "            if target ==nums[mid]:\n",
    "                return mid\n",
    "            \n",
    "            elif nums[left] <= nums[mid]:\n",
    "                if nums[left] <= target <= nums[mid]:\n",
    "                    right = mid-1\n",
    "                else:\n",
    "                    left = mid+1\n",
    "            \n",
    "            else:\n",
    "                if nums[mid] <= target <= nums[right]:\n",
    "                    left = mid+1\n",
    "                else:\n",
    "                    right = mid-1\n",
    "        \n",
    "        return -1"
   ]
  }
 ]
}