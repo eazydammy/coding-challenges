{
 "nbformat": 4,
 "nbformat_minor": 2,
 "metadata": {
  "language_info": {
   "name": "python",
   "codemirror_mode": {
    "name": "ipython",
    "version": 3
   }
  },
  "orig_nbformat": 2,
  "file_extension": ".py",
  "mimetype": "text/x-python",
  "name": "python",
  "npconvert_exporter": "python",
  "pygments_lexer": "ipython3",
  "version": 3
 },
 "cells": [
  {
   "cell_type": "markdown",
   "metadata": {},
   "source": [
    "Given a 2d grid map of `'1'`s (land) and `'0'`s (water), count the number of islands. An island is surrounded by water and is formed by connecting adjacent lands horizontally or vertically. You may assume all four edges of the grid are all surrounded by water."
   ]
  },
  {
   "cell_type": "markdown",
   "metadata": {},
   "source": [
    "*Example 1:*\n",
    "\n",
    "*Input:*\n",
    "```\n",
    "11110\n",
    "11010\n",
    "11000\n",
    "00000\n",
    "```\n",
    "*Output: 1*\n",
    "\n",
    "*Example 2:*\n",
    "\n",
    "*Input:*\n",
    "```\n",
    "11000\n",
    "11000\n",
    "00100\n",
    "00011\n",
    "```\n",
    "*Output: 3*"
   ]
  },
  {
   "cell_type": "code",
   "execution_count": null,
   "metadata": {},
   "outputs": [],
   "source": [
    "class Solution:\n",
    "    def dfs(self, grid, i, j):\n",
    "        rows, cols = len(grid), len(grid[0])\n",
    "        if i not in range(rows) or j not in range(cols) or grid[i][j] == '0':\n",
    "            return 0\n",
    "        \n",
    "        grid[i][j] = \"0\"\n",
    "        self.dfs(grid, i+1, j)\n",
    "        self.dfs(grid, i-1, j)\n",
    "        self.dfs(grid, i, j+1)\n",
    "        self.dfs(grid, i, j-1)\n",
    "        \n",
    "        return 1\n",
    "        \n",
    "        \n",
    "        \n",
    "    def numIslands(self, grid: List[List[str]]) -> int:\n",
    "        if not grid:\n",
    "            return 0\n",
    "        \n",
    "        num_islands = 0\n",
    "        rows, cols = len(grid), len(grid[0])\n",
    "        \n",
    "        for i in range(rows):\n",
    "            for j in range(cols):\n",
    "                if grid[i][j] == '1':\n",
    "                    num_islands += self.dfs(grid, i, j)\n",
    "                    \n",
    "        return num_islands"
   ]
  }
 ]
}