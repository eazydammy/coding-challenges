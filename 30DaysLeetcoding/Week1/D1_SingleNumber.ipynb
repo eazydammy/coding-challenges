{
 "nbformat": 4,
 "nbformat_minor": 2,
 "metadata": {
  "language_info": {
   "name": "python",
   "codemirror_mode": {
    "name": "ipython",
    "version": 3
   }
  },
  "orig_nbformat": 2,
  "file_extension": ".py",
  "mimetype": "text/x-python",
  "name": "python",
  "npconvert_exporter": "python",
  "pygments_lexer": "ipython3",
  "version": 3
 },
 "cells": [
  {
   "cell_type": "markdown",
   "metadata": {},
   "source": [
    "Given a *non-empty* array of integers, every element appears twice except for one. Find that single one.\n",
    "\n",
    "*Note:*\n",
    "\n",
    "Your algorithm should have a linear runtime complexity. Could you implement it without using extra memory?"
   ]
  },
  {
   "cell_type": "markdown",
   "metadata": {},
   "source": [
    "*Example 1:*\n",
    "\n",
    "Input: `[2,2,1]`\n",
    "Output: 1\n",
    "\n",
    "*Example 2:*\n",
    "\n",
    "Input: `[4,1,2,1,2]`\n",
    "Output: 4"
   ]
  },
  {
   "cell_type": "code",
   "execution_count": null,
   "metadata": {},
   "outputs": [],
   "source": [
    "class Solution:\n",
    "    def singleNumber(self, nums: List[int]) -> int:\n",
    "        ans = 0\n",
    "        for num in nums:\n",
    "            ans ^= num\n",
    "        return ans"
   ]
  }
 ]
}