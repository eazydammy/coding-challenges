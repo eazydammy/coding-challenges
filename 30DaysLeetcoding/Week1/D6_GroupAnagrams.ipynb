{
 "nbformat": 4,
 "nbformat_minor": 2,
 "metadata": {
  "language_info": {
   "name": "python",
   "codemirror_mode": {
    "name": "ipython",
    "version": 3
   }
  },
  "orig_nbformat": 2,
  "file_extension": ".py",
  "mimetype": "text/x-python",
  "name": "python",
  "npconvert_exporter": "python",
  "pygments_lexer": "ipython3",
  "version": 3
 },
 "cells": [
  {
   "cell_type": "markdown",
   "metadata": {},
   "source": [
    "Given an array of strings, group anagrams together."
   ]
  },
  {
   "cell_type": "markdown",
   "metadata": {},
   "source": [
    "*Example:*\n",
    "\n",
    "*Input:* `[\"eat\", \"tea\", \"tan\", \"ate\", \"nat\", \"bat\"]`,\n",
    "\n",
    "*Output:*\n",
    "`[\n",
    "  [\"ate\",\"eat\",\"tea\"],\n",
    "  [\"nat\",\"tan\"],\n",
    "  [\"bat\"]\n",
    "]`"
   ]
  },
  {
   "cell_type": "markdown",
   "metadata": {},
   "source": [
    "*Note:*\n",
    "\n",
    "All inputs will be in lowercase.\n",
    "\n",
    "The order of your output does not matter."
   ]
  },
  {
   "cell_type": "code",
   "execution_count": null,
   "metadata": {},
   "outputs": [],
   "source": [
    "class Solution:\n",
    "    def groupAnagrams(self, strs: List[str]) -> List[List[str]]:\n",
    "        anas = {}\n",
    "        for string in strs:\n",
    "            s = ''.join(sorted(string))\n",
    "            if s in anas:\n",
    "                anas[s].append(string)\n",
    "            else:\n",
    "                anas[s] = [string]\n",
    "        return list(anas.values())"
   ]
  }
 ]
}