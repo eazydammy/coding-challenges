{
 "nbformat": 4,
 "nbformat_minor": 2,
 "metadata": {
  "language_info": {
   "name": "python",
   "codemirror_mode": {
    "name": "ipython",
    "version": 3
   },
   "version": "3.7.3-final"
  },
  "orig_nbformat": 2,
  "file_extension": ".py",
  "mimetype": "text/x-python",
  "name": "python",
  "npconvert_exporter": "python",
  "pygments_lexer": "ipython3",
  "version": 3,
  "kernelspec": {
   "name": "python37364bitbasecondadd691ec5b02843bba03cba763c7bcea6",
   "display_name": "Python 3.7.3 64-bit ('base': conda)"
  }
 },
 "cells": [
  {
   "cell_type": "markdown",
   "metadata": {},
   "source": [
    "Write an algorithm to determine if a number is \"happy\".\n",
    "\n",
    "A happy number is a number defined by the following process: Starting with any positive integer, replace the number by the sum of the squares of its digits, and repeat the process until the number equals 1 (where it will stay), or it loops endlessly in a cycle which does not include 1. Those numbers for which this process ends in 1 are happy numbers."
   ]
  },
  {
   "cell_type": "markdown",
   "metadata": {},
   "source": [
    "*Example: *\n",
    "\n",
    "*Input:* 19\n",
    "\n",
    "*Output:* true\n",
    "\n",
    "*Explanation:*\n",
    "\n",
    "$1^2 + 9^2 = 82$ \n",
    "\n",
    "$8^2 + 2^2 = 68$\n",
    "\n",
    "$6^2 + 8^2 = 100$\n",
    "\n",
    "$1^2 + 0^2 + 0^2 = 1$"
   ]
  },
  {
   "cell_type": "code",
   "execution_count": 1,
   "metadata": {},
   "outputs": [],
   "source": [
    "class Solution:\n",
    "    def isHappy(self, n: int) -> bool:\n",
    "        visited = set()\n",
    "        while n != 1 and not n in visited:\n",
    "            visited.add(n)\n",
    "            n = sum(map(lambda x:int(x)**2, str(n)))\n",
    "        return not n in visited"
   ]
  },
  {
   "cell_type": "code",
   "execution_count": 2,
   "metadata": {},
   "outputs": [],
   "source": [
    "class Solution:\n",
    "    def isHappy(self, n: int) -> bool:\n",
    "        \n",
    "        def next(n):\n",
    "            total = 0\n",
    "            while(n):\n",
    "                total += (n%10) * (n%10)\n",
    "                n = int(n/10)\n",
    "            return total\n",
    "        \n",
    "        slow = n\n",
    "        fast = next(next(n))\n",
    "        \n",
    "        while slow != fast:\n",
    "            slow = next(slow)\n",
    "            fast = next(next(fast))\n",
    "            \n",
    "        return fast == 1"
   ]
  },
  {
   "cell_type": "code",
   "execution_count": 3,
   "metadata": {},
   "outputs": [],
   "source": [
    "class Solution:\n",
    "    def isHappy(self, n: int) -> bool:\n",
    "        while n != 1:\n",
    "            n = sum(map(lambda x:int(x)**2, str(n)))\n",
    "            if n == 4:\n",
    "                return False\n",
    "        return True\n",
    "        "
   ]
  }
 ]
}