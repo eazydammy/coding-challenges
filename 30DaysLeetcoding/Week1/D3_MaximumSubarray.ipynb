{
 "nbformat": 4,
 "nbformat_minor": 2,
 "metadata": {
  "language_info": {
   "name": "python",
   "codemirror_mode": {
    "name": "ipython",
    "version": 3
   },
   "version": "3.7.3-final"
  },
  "orig_nbformat": 2,
  "file_extension": ".py",
  "mimetype": "text/x-python",
  "name": "python",
  "npconvert_exporter": "python",
  "pygments_lexer": "ipython3",
  "version": 3,
  "kernelspec": {
   "name": "python37364bitbasecondadd691ec5b02843bba03cba763c7bcea6",
   "display_name": "Python 3.7.3 64-bit ('base': conda)"
  }
 },
 "cells": [
  {
   "cell_type": "markdown",
   "metadata": {},
   "source": [
    "Given an integer array `nums`, find the contiguous subarray (containing at least one number) which has the largest sum and return its sum."
   ]
  },
  {
   "cell_type": "markdown",
   "metadata": {},
   "source": [
    "*Example:*\n",
    "\n",
    "*Input:* `[-2,1,-3,4,-1,2,1,-5,4]`,\n",
    "\n",
    "*Output:* 6\n",
    "\n",
    "*Explanation:* `[4,-1,2,1]` has the largest sum = 6."
   ]
  },
  {
   "cell_type": "code",
   "execution_count": null,
   "metadata": {},
   "outputs": [],
   "source": [
    "class Solution:\n",
    "    def maxSubArray(self, nums: List[int]) -> int:\n",
    "        max_sum = nums[0]\n",
    "        current_sum = nums[0]\n",
    "        \n",
    "        for i in range(1,len(nums)):\n",
    "            current_sum = max(nums[i] + current_sum, nums[i])\n",
    "            max_sum = max(current_sum, max_sum)\n",
    "        \n",
    "        return max_sum"
   ]
  }
 ]
}