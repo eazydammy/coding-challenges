{
 "nbformat": 4,
 "nbformat_minor": 2,
 "metadata": {
  "language_info": {
   "name": "python",
   "codemirror_mode": {
    "name": "ipython",
    "version": 3
   }
  },
  "orig_nbformat": 2,
  "file_extension": ".py",
  "mimetype": "text/x-python",
  "name": "python",
  "npconvert_exporter": "python",
  "pygments_lexer": "ipython3",
  "version": 3
 },
 "cells": [
  {
   "cell_type": "markdown",
   "metadata": {},
   "source": [
    "Given an integer array `arr`, count element `x` such that `x + 1` is also in `arr`.\n",
    "\n",
    "If there're duplicates in `arr`, count them seperately."
   ]
  },
  {
   "cell_type": "markdown",
   "metadata": {},
   "source": [
    "`Example 1:`\n",
    "\n",
    "`Input:` arr = [1,2,3]\n",
    "\n",
    "`Output:` 2\n",
    "\n",
    "`Explanation:` 1 and 2 are counted cause 2 and 3 are in arr.\n",
    "\n",
    "`Example 2:`\n",
    "\n",
    "`Input:` arr = [1,1,3,3,5,5,7,7]\n",
    "\n",
    "`Output:` 0\n",
    "\n",
    "`Explanation:` No numbers are counted, cause there's no 2, 4, 6, or 8 in arr.\n",
    "\n",
    "`Example 3:`\n",
    "\n",
    "`Input:` arr = [1,3,2,3,5,0]\n",
    "\n",
    "`Output:` 3\n",
    "\n",
    "`Explanation:` 0, 1 and 2 are counted cause 1, 2 and 3 are in arr.\n",
    "\n",
    "`Example 4:`\n",
    "\n",
    "`Input:` arr = [1,1,2,2]\n",
    "\n",
    "`Output:` 2\n",
    "\n",
    "`Explanation:` Two 1s are counted cause 2 is in arr."
   ]
  },
  {
   "cell_type": "markdown",
   "metadata": {},
   "source": []
  },
  {
   "cell_type": "markdown",
   "metadata": {},
   "source": [
    "*Constraints:*\n",
    "\n",
    "* $1 <= arr.length <= 1000$\n",
    "* $0 <= arr[i] <= 1000$"
   ]
  },
  {
   "cell_type": "code",
   "execution_count": null,
   "metadata": {},
   "outputs": [],
   "source": [
    "class Solution:\n",
    "    def countElements(self, arr: List[int]) -> int:\n",
    "        num_set = set(arr)\n",
    "        count = 0\n",
    "        \n",
    "        for num in arr:\n",
    "            if num+1 in num_set:\n",
    "                count += 1\n",
    "                \n",
    "        return count"
   ]
  }
 ]
}