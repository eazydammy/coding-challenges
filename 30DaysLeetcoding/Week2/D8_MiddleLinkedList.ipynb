{
 "nbformat": 4,
 "nbformat_minor": 2,
 "metadata": {
  "language_info": {
   "name": "python",
   "codemirror_mode": {
    "name": "ipython",
    "version": 3
   }
  },
  "orig_nbformat": 2,
  "file_extension": ".py",
  "mimetype": "text/x-python",
  "name": "python",
  "npconvert_exporter": "python",
  "pygments_lexer": "ipython3",
  "version": 3
 },
 "cells": [
  {
   "cell_type": "markdown",
   "metadata": {},
   "source": [
    "Given a non-empty, singly linked list with head node `head`, return a middle node of linked list.\n",
    "\n",
    "If there are two middle nodes, return the second middle node."
   ]
  },
  {
   "cell_type": "markdown",
   "metadata": {},
   "source": [
    "*Example 1:*\n",
    "\n",
    "*Input:* `[1,2,3,4,5]`\n",
    "\n",
    "*Output:* Node 3 from this list (Serialization: `[3,4,5]`)\n",
    "\n",
    "The returned node has value 3.  (The judge's serialization of this node is `[3,4,5]`).\n",
    "Note that we returned a ListNode object ans, such that:\n",
    "ans.val = 3, ans.next.val = 4, ans.next.next.val = 5, and ans.next.next.next = NULL.\n",
    "\n",
    "*Example 2:*\n",
    "\n",
    "*Input:* `[1,2,3,4,5,6]`\n",
    "\n",
    "*Output:* Node 4 from this list (Serialization: `[4,5,6]`)\n",
    "\n",
    "Since the list has two middle nodes with values 3 and 4, we return the second one."
   ]
  },
  {
   "cell_type": "markdown",
   "metadata": {},
   "source": [
    "*Note:*\n",
    "\n",
    "The number of nodes in the given list will be between `1` and `100`."
   ]
  },
  {
   "cell_type": "code",
   "execution_count": null,
   "metadata": {},
   "outputs": [],
   "source": [
    "# Definition for singly-linked list.\n",
    "# class ListNode:\n",
    "#     def __init__(self, x):\n",
    "#         self.val = x\n",
    "#         self.next = None\n",
    "\n",
    "class Solution:\n",
    "    def middleNode(self, head: ListNode) -> ListNode:\n",
    "        num_nodes = 1\n",
    "        current = head\n",
    "        \n",
    "        while current.next:\n",
    "            num_nodes += 1\n",
    "            current = current.next\n",
    "            \n",
    "        if num_nodes == 1:\n",
    "            return head\n",
    "        \n",
    "        mid_node = num_nodes // 2   \n",
    "        \n",
    "        current = head\n",
    "        \n",
    "        while mid_node:\n",
    "            current = current.next\n",
    "            mid_node -= 1\n",
    "            \n",
    "        return current\n",
    "        "
   ]
  }
 ]
}