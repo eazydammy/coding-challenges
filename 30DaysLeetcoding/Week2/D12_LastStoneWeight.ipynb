{
 "nbformat": 4,
 "nbformat_minor": 2,
 "metadata": {
  "language_info": {
   "name": "python",
   "codemirror_mode": {
    "name": "ipython",
    "version": 3
   }
  },
  "orig_nbformat": 2,
  "file_extension": ".py",
  "mimetype": "text/x-python",
  "name": "python",
  "npconvert_exporter": "python",
  "pygments_lexer": "ipython3",
  "version": 3
 },
 "cells": [
  {
   "cell_type": "markdown",
   "metadata": {},
   "source": [
    "We have a collection of stones, each stone has a positive integer weight.\n",
    "\n",
    "Each turn, we choose the two *heaviest* stones and smash them together.  Suppose the stones have weights `x` and `y` with `x <= y`.  The result of this smash is:\n",
    "\n",
    "* If `x == y`, both stones are totally destroyed;\n",
    "\n",
    "* If `x != y`, the stone of weight `x` is totally destroyed, and the stone of weight `y` has new weight `y-x`.\n",
    "\n",
    "At the end, there is at most 1 stone left.  Return the weight of this stone (or 0 if there are no stones left.)"
   ]
  },
  {
   "cell_type": "markdown",
   "metadata": {},
   "source": [
    "*Example 1:*\n",
    "\n",
    "*Input:* `[2,7,4,1,8,1]`\n",
    "\n",
    "*Output:* 1\n",
    "\n",
    "*Explanation:*\n",
    "\n",
    "We combine 7 and 8 to get 1 so the array converts to `[2,4,1,1,1]` then,\n",
    "\n",
    "we combine 2 and 4 to get 2 so the array converts to `[2,1,1,1]` then,\n",
    "\n",
    "we combine 2 and 1 to get 1 so the array converts to `[1,1,1]` then,\n",
    "\n",
    "we combine 1 and 1 to get 0 so the array converts to `[1]` then that's the value of last stone."
   ]
  },
  {
   "cell_type": "markdown",
   "metadata": {},
   "source": [
    "*Note:*\n",
    "\n",
    "* `1 <= stones.length <= 30`\n",
    "* `1 <= stones[i] <= 1000`"
   ]
  },
  {
   "cell_type": "code",
   "execution_count": null,
   "metadata": {},
   "outputs": [],
   "source": [
    "class Solution:\n",
    "    def smash(self, stones):\n",
    "        max_1 = (0, float('-inf'))\n",
    "        max_2 = (0, float('-inf'))\n",
    "        \n",
    "        for i, stone in enumerate(stones):\n",
    "            \n",
    "            if stone > max_1[1]:\n",
    "                max_1, max_2 = (i, stone), max_1\n",
    "            elif stone > max_2[1]:\n",
    "                max_2 = i, stone\n",
    "                \n",
    "        \n",
    "              \n",
    "        if max_1[1] == max_2[1]:\n",
    "            stones.pop(max_1[0])\n",
    "            stones.pop(max_2[0]-1)\n",
    "        elif max_1[1] >= max_2[1]:\n",
    "            stones[max_1[0]] -= max_2[1]\n",
    "            stones.pop(max_2[0])\n",
    "        else:\n",
    "            stones[max_2[0]] -= max_1[1]\n",
    "            stones.pop(max_1[0])\n",
    "        \n",
    "        return stones\n",
    "    \n",
    "    def lastStoneWeight(self, stones: List[int]) -> int:\n",
    "        if not stones:\n",
    "            return 0\n",
    "        if len(stones) == 1:\n",
    "            return stones[0]\n",
    "        else:\n",
    "            stones = self.smash(stones)\n",
    "            return self.lastStoneWeight(stones)"
   ]
  },
  {
   "cell_type": "code",
   "execution_count": null,
   "metadata": {},
   "outputs": [],
   "source": [
    "class Solution:\n",
    "    def lastStoneWeight(self, stones: List[int]) -> int:\n",
    "        stones.sort(reverse=True)\n",
    "        while len(stones) > 1:\n",
    "            arr = stones[2:]\n",
    "            y = stones[0]\n",
    "            x = stones[1]\n",
    "            if x != y:\n",
    "                arr.append(y-x)\n",
    "            stones = sorted(arr,reverse=True)\n",
    "        if stones:\n",
    "            return stones[0]\n",
    "        return 0"
   ]
  }
 ]
}