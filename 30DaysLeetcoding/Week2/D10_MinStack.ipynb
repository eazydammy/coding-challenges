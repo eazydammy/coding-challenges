{
 "nbformat": 4,
 "nbformat_minor": 2,
 "metadata": {
  "language_info": {
   "name": "python",
   "codemirror_mode": {
    "name": "ipython",
    "version": 3
   }
  },
  "orig_nbformat": 2,
  "file_extension": ".py",
  "mimetype": "text/x-python",
  "name": "python",
  "npconvert_exporter": "python",
  "pygments_lexer": "ipython3",
  "version": 3
 },
 "cells": [
  {
   "cell_type": "markdown",
   "metadata": {},
   "source": [
    "Design a stack that supports push, pop, top, and retrieving the minimum element in constant time.\n",
    "\n",
    "* push(x) -- Push element x onto stack.\n",
    "* pop() -- Removes the element on top of the stack.\n",
    "* top() -- Get the top element.\n",
    "* getMin() -- Retrieve the minimum element in the stack."
   ]
  },
  {
   "cell_type": "markdown",
   "metadata": {},
   "source": [
    "*Example:*\n",
    "\n",
    "MinStack minStack = new MinStack();\n",
    "\n",
    "minStack.push(-2);\n",
    "\n",
    "minStack.push(0);\n",
    "\n",
    "minStack.push(-3);\n",
    "\n",
    "minStack.getMin();   --> Returns -3.\n",
    "\n",
    "minStack.pop();\n",
    "\n",
    "minStack.top();      --> Returns 0.\n",
    "\n",
    "minStack.getMin();   --> Returns -2."
   ]
  },
  {
   "cell_type": "code",
   "execution_count": null,
   "metadata": {},
   "outputs": [],
   "source": [
    "# Your MinStack object will be instantiated and called as such:\n",
    "# obj = MinStack()\n",
    "# obj.push(x)\n",
    "# obj.pop()\n",
    "# param_3 = obj.top()\n",
    "# param_4 = obj.getMin()\n",
    "\n",
    "class MinStack:\n",
    "\n",
    "    def __init__(self):\n",
    "        \"\"\"\n",
    "        initialize your data structure here.\n",
    "        \"\"\"\n",
    "        self.store = []\n",
    "        self.min = []\n",
    "        \n",
    "\n",
    "    def push(self, x: int) -> None:\n",
    "        if self.min:\n",
    "            if x <= self.min[-1]:\n",
    "                self.min.append(x) \n",
    "        else:\n",
    "            self.min.append(x)\n",
    "        \n",
    "        self.store.append(x)\n",
    "        \n",
    "\n",
    "    def pop(self) -> None:\n",
    "        if self.store[-1] == self.min[-1]:\n",
    "            self.min.pop()\n",
    "        \n",
    "        self.store.pop()\n",
    "        \n",
    "\n",
    "    def top(self) -> int:\n",
    "        return self.store[-1]\n",
    "        \n",
    "\n",
    "    def getMin(self) -> int:\n",
    "        if self.store:\n",
    "            return self.min[-1]"
   ]
  },
  {
   "cell_type": "code",
   "execution_count": null,
   "metadata": {},
   "outputs": [],
   "source": [
    "class MinStack:\n",
    "\n",
    "    def __init__(self):\n",
    "        \"\"\"\n",
    "        initialize your data structure here.\n",
    "        \"\"\"\n",
    "        self.store = []\n",
    "        \n",
    "\n",
    "    def push(self, x: int) -> None:       \n",
    "        minval = min(self.store[-1][1], x) if self.store else x\n",
    "        self.store.append((x, minval))\n",
    "\n",
    "    def pop(self) -> None:\n",
    "        self.store.pop()\n",
    "\n",
    "    def top(self) -> int:\n",
    "        return self.store[-1][0]\n",
    "\n",
    "    def getMin(self) -> int:\n",
    "        return self.store[-1][1]"
   ]
  }
 ]
}