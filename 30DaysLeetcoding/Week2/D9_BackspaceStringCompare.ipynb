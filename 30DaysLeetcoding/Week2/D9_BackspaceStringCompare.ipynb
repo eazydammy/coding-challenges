{
 "nbformat": 4,
 "nbformat_minor": 2,
 "metadata": {
  "language_info": {
   "name": "python",
   "codemirror_mode": {
    "name": "ipython",
    "version": 3
   }
  },
  "orig_nbformat": 2,
  "file_extension": ".py",
  "mimetype": "text/x-python",
  "name": "python",
  "npconvert_exporter": "python",
  "pygments_lexer": "ipython3",
  "version": 3
 },
 "cells": [
  {
   "cell_type": "markdown",
   "metadata": {},
   "source": [
    "Given two strings `S` and `T`, return if they are equal when both are typed into empty text editors. `#` means a backspace character."
   ]
  },
  {
   "cell_type": "markdown",
   "metadata": {},
   "source": [
    "*Example 1:*\n",
    "\n",
    "*Input:* S = \"ab#c\", T = \"ad#c\"\n",
    "*Output:* true\n",
    "*Explanation:* Both S and T become \"ac\".\n",
    "\n",
    "*Example 2:*\n",
    "\n",
    "*Input:* S = \"ab##\", T = \"c#d#\"\n",
    "*Output:* true\n",
    "*Explanation:* Both S and T become \"\".\n",
    "\n",
    "*Example 3:*\n",
    "\n",
    "*Input:* S = \"a##c\", T = \"#a#c\"\n",
    "*Output:* true\n",
    "*Explanation:* Both S and T become \"c\".\n",
    "\n",
    "*Example 4:*\n",
    "\n",
    "*Input:* S = \"a#c\", T = \"b\"\n",
    "*Output:* false\n",
    "*Explanation:* S becomes \"c\" while T becomes \"b\"."
   ]
  },
  {
   "cell_type": "markdown",
   "metadata": {},
   "source": [
    "*Note:*\n",
    "\n",
    "1. `1 <= S.length <= 200`\n",
    "2. `1 <= T.length <= 200`\n",
    "3. `S` and `T` only contain lowercase letters and `'#'` characters.\n",
    "\n",
    "*Follow up:*\n",
    "\n",
    "Can you solve it in `O(N)` time and `O(1)` space?"
   ]
  },
  {
   "cell_type": "code",
   "execution_count": null,
   "metadata": {},
   "outputs": [],
   "source": [
    "class Solution:\n",
    "    def backspaceCompare(self, S: str, T: str) -> bool:\n",
    "        s_stack = []\n",
    "        t_stack = []\n",
    "        \n",
    "        for s in S:\n",
    "            if s == \"#\":\n",
    "                if s_stack:\n",
    "                    s_stack.pop()\n",
    "                    \n",
    "            else:\n",
    "                s_stack.append(s)\n",
    "                \n",
    "                \n",
    "        for t in T:\n",
    "            if t == \"#\":\n",
    "                if t_stack:\n",
    "                    t_stack.pop()\n",
    "                    \n",
    "            else:\n",
    "                t_stack.append(t)\n",
    "                \n",
    "        return s_stack == t_stack"
   ]
  }
 ]
}