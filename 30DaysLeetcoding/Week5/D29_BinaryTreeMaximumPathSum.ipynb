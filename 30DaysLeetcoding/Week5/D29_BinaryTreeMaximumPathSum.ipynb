{
 "cells": [
  {
   "cell_type": "markdown",
   "metadata": {},
   "source": [
    "Given a *non-empty* binary tree, find the maximum path sum.\n",
    "\n",
    "For this problem, a path is defined as any sequence of nodes from some starting node to any node in the tree along the parent-child connections. The path must contain *at least one node* and does not need to go through the root."
   ]
  },
  {
   "cell_type": "markdown",
   "metadata": {},
   "source": [
    "*Example 1:*\n",
    "\n",
    "*Input:* `[1,2,3]`\n",
    "```\n",
    "       1\n",
    "      / \\\n",
    "     2   3\n",
    "```\n",
    "*Output:* 6\n",
    "\n",
    "*Example 2:*\n",
    "\n",
    "*Input:* `[-10,9,20,null,null,15,7]`\n",
    "```\n",
    "   -10\n",
    "   / \\\n",
    "  9  20\n",
    "    /  \\\n",
    "   15   7\n",
    "```\n",
    "*Output:* 42"
   ]
  },
  {
   "cell_type": "code",
   "execution_count": null,
   "metadata": {},
   "outputs": [],
   "source": [
    "# Definition for a binary tree node.\n",
    "# class TreeNode:\n",
    "#     def __init__(self, val=0, left=None, right=None):\n",
    "#         self.val = val\n",
    "#         self.left = left\n",
    "#         self.right = right\n",
    "class Solution:\n",
    "    def maxPathSum(self, root: TreeNode) -> int:\n",
    "        self.ans = float('-inf')\n",
    "        \n",
    "        def depth(root):\n",
    "            if not root: return 0\n",
    "            L = max(0,depth(root.left))\n",
    "            R = max(0,depth(root.right))\n",
    "            self.ans = max(self.ans, L+R+root.val)\n",
    "            return max(L, R) + root.val\n",
    "\n",
    "        depth(root)\n",
    "        return self.ans"
   ]
  }
 ],
 "metadata": {
  "language_info": {
   "codemirror_mode": {
    "name": "ipython",
    "version": 3
   },
   "file_extension": ".py",
   "mimetype": "text/x-python",
   "name": "python",
   "nbconvert_exporter": "python",
   "pygments_lexer": "ipython3",
   "version": 3
  },
  "orig_nbformat": 2
 },
 "nbformat": 4,
 "nbformat_minor": 2
}