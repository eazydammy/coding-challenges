{
 "cells": [
  {
   "cell_type": "markdown",
   "metadata": {},
   "source": [
    "Given a binary tree where each path going from the root to any leaf form a *valid sequence*, check if a given string is a *valid sequence* in such binary tree. \n",
    "\n",
    "We get the given string from the concatenation of an array of integers `arr` and the concatenation of all values of the nodes along a path results in a *sequence* in the given binary tree."
   ]
  },
  {
   "cell_type": "markdown",
   "metadata": {},
   "source": [
    "*Example 1:*\n",
    "\n",
    "*Input:* root = `[0,1,0,0,1,0,null,null,1,0,0]`, arr = `[0,1,0,1]`\n",
    "\n",
    "*Output:* true\n",
    "\n",
    "*Explanation:*\n",
    "\n",
    "The path `0 -> 1 -> 0 -> 1` is a valid sequence (green color in the figure). \n",
    "Other valid sequences are: \n",
    "`0 -> 1 -> 1 -> 0`\n",
    "`0 -> 0 -> 0`\n",
    "\n",
    "*Example 2:*\n",
    "\n",
    "*Input:* root = `[0,1,0,0,1,0,null,null,1,0,0]`, arr = `[0,0,1]`\n",
    "\n",
    "*Output:* false \n",
    "\n",
    "*Explanation:* The path `0 -> 0 -> 1` does not exist, therefore it is not even a sequence.\n",
    "\n",
    "*Example 3:*\n",
    "\n",
    "*Input:* root = [0,1,0,0,1,0,null,null,1,0,0], arr = [0,1,1]\n",
    "\n",
    "*Output:* false\n",
    "\n",
    "*Explanation:*\n",
    "\n",
    "The path 0 -> 1 -> 1 is a sequence, but it is not a valid sequence."
   ]
  },
  {
   "cell_type": "markdown",
   "metadata": {},
   "source": [
    "*Constraints:*\n",
    "\n",
    "* `1 <= arr.length <= 5000`\n",
    "* `0 <= arr[i] <= 9`\n",
    "* Each node's value is between `[0 - 9]`."
   ]
  },
  {
   "cell_type": "markdown",
   "metadata": {},
   "source": [
    "*Hint #1*  \n",
    "Depth-first search (DFS) with the parameters: current node in the binary tree and current position in the array of integers.\n",
    "\n",
    "*Hint #2*  \n",
    "When reaching at final position check if it is a leaf node."
   ]
  },
  {
   "cell_type": "code",
   "execution_count": null,
   "metadata": {},
   "outputs": [],
   "source": [
    "# Definition for a binary tree node.\n",
    "# class TreeNode:\n",
    "#     def __init__(self, val=0, left=None, right=None):\n",
    "#         self.val = val\n",
    "#         self.left = left\n",
    "#         self.right = right\n",
    "class Solution:\n",
    "    def isValidSequence(self, root: TreeNode, arr: List[int]) -> bool:\n",
    "        def dfs(root, arr, index):\n",
    "            if root == None:\n",
    "                return False\n",
    "            \n",
    "            #check for leaf node\n",
    "            leafcond = root.left == None and root.right == None\n",
    "            if leafcond and index == len(arr) - 1 and root.val == arr[index]:\n",
    "                return True\n",
    "            \n",
    "            #depth-first-search\n",
    "            termcond = (dfs(root.left, arr, index + 1) or dfs(root.right, arr, index + 1))\n",
    "            return index < len(arr) and root.val == arr[index] and termcond \n",
    "        \n",
    "\n",
    "        return dfs(root, arr, 0) \n",
    "        "
   ]
  }
 ],
 "metadata": {
  "language_info": {
   "codemirror_mode": {
    "name": "ipython",
    "version": 3
   },
   "file_extension": ".py",
   "mimetype": "text/x-python",
   "name": "python",
   "nbconvert_exporter": "python",
   "pygments_lexer": "ipython3",
   "version": 3
  },
  "orig_nbformat": 2
 },
 "nbformat": 4,
 "nbformat_minor": 2
}