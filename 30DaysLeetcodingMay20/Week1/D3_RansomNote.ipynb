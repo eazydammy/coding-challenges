{
 "cells": [
  {
   "cell_type": "markdown",
   "metadata": {},
   "source": [
    "Given an arbitrary ransom note string and another string containing letters from all the magazines, write a function that will return true if the ransom note can be constructed from the magazines ; otherwise, it will return false.\n",
    "\n",
    "Each letter in the magazine string can only be used once in your ransom note."
   ]
  },
  {
   "cell_type": "markdown",
   "metadata": {},
   "source": [
    "*Note:*\n",
    "You may assume that both strings contain only lowercase letters.\n",
    "```\n",
    "canConstruct(\"a\", \"b\") -> false\n",
    "canConstruct(\"aa\", \"ab\") -> false\n",
    "canConstruct(\"aa\", \"aab\") -> true\n",
    "```"
   ]
  },
  {
   "cell_type": "code",
   "execution_count": null,
   "metadata": {},
   "outputs": [],
   "source": [
    "class Solution:\n",
    "    def canConstruct(self, ransomNote: str, magazine: str) -> bool:\n",
    "        magazineDict = {}\n",
    "        \n",
    "        for ch in magazine:\n",
    "            if ch in magazineDict:\n",
    "                magazineDict[ch] += 1\n",
    "            else:\n",
    "                magazineDict[ch] = 1\n",
    "                \n",
    "        for ch in ransomNote:\n",
    "            if ch in magazineDict and magazineDict[ch] > 0:\n",
    "                magazineDict[ch] -= 1\n",
    "            else:\n",
    "                return False\n",
    "            \n",
    "        return True"
   ]
  },
  {
   "cell_type": "code",
   "execution_count": null,
   "metadata": {},
   "outputs": [],
   "source": [
    "class Solution:\n",
    "    def canConstruct(self, ransomNote: str, magazine: str) -> bool:\n",
    "        a = [0]*26\n",
    "        for note in magazine:\n",
    "            a[ord(note) - ord('a')] += 1\n",
    "      \n",
    "        for note in ransomNote:\n",
    "            index = ord(note) - ord('a')\n",
    "            a[index] -= 1\n",
    "            if a[index] < 0:\n",
    "            return False\n",
    "      \n",
    "        return True"
   ]
  }
 ],
 "metadata": {
  "language_info": {
   "codemirror_mode": {
    "name": "ipython",
    "version": 3
   },
   "file_extension": ".py",
   "mimetype": "text/x-python",
   "name": "python",
   "nbconvert_exporter": "python",
   "pygments_lexer": "ipython3",
   "version": "3.7.3-final"
  },
  "orig_nbformat": 2,
  "kernelspec": {
   "name": "python37364bitbasecondadd691ec5b02843bba03cba763c7bcea6",
   "display_name": "Python 3.7.3 64-bit ('base': conda)"
  }
 },
 "nbformat": 4,
 "nbformat_minor": 2
}