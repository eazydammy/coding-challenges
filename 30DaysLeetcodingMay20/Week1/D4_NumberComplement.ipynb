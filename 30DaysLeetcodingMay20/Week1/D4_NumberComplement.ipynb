{
 "cells": [
  {
   "cell_type": "markdown",
   "metadata": {},
   "source": [
    "Given a positive integer, output its complement number. The complement strategy is to flip the bits of its binary representation."
   ]
  },
  {
   "cell_type": "markdown",
   "metadata": {},
   "source": [
    "*Example 1:*\n",
    "\n",
    "*Input:* 5\n",
    "\n",
    "*Output:* 2\n",
    "\n",
    "*Explanation:* The binary representation of 5 is 101 (no leading zero bits), and its complement is 010. So you need to output 2.\n",
    " \n",
    "\n",
    "*Example 2:*\n",
    "\n",
    "*Input:* 1\n",
    "\n",
    "*Output:* 0\n",
    "\n",
    "*Explanation:* The binary representation of 1 is 1 (no leading zero bits), and its complement is 0. So you need to output 0."
   ]
  },
  {
   "cell_type": "markdown",
   "metadata": {},
   "source": [
    "*Note:*\n",
    "\n",
    "* The given integer is guaranteed to fit within the range of a 32-bit signed integer.\n",
    "* You could assume no leading zero bit in the integer’s binary representation.\n",
    "* This question is the same as 1009: https://leetcode.com/problems/complement-of-base-10-integer/"
   ]
  },
  {
   "cell_type": "code",
   "execution_count": null,
   "metadata": {},
   "outputs": [],
   "source": []
  }
 ],
 "metadata": {
  "language_info": {
   "codemirror_mode": {
    "name": "ipython",
    "version": 3
   },
   "file_extension": ".py",
   "mimetype": "text/x-python",
   "name": "python",
   "nbconvert_exporter": "python",
   "pygments_lexer": "ipython3",
   "version": 3
  },
  "orig_nbformat": 2
 },
 "nbformat": 4,
 "nbformat_minor": 2
}