{
 "cells": [
  {
   "cell_type": "markdown",
   "metadata": {},
   "source": [
    "You're given strings `J` representing the types of stones that are jewels, and `S` representing the stones you have. Each character in `S` is a type of stone you have. You want to know how many of the stones you have are also jewels.\n",
    "\n",
    "The letters in `J` are guaranteed distinct, and all characters in `J` and `S` are letters. Letters are case sensitive, so `\"a\"` is considered a different type of stone from `\"A\"`."
   ]
  },
  {
   "cell_type": "markdown",
   "metadata": {},
   "source": [
    "*Example 1:*\n",
    "\n",
    "*Input:* J = \"aA\", S = \"aAAbbbb\"\n",
    "\n",
    "*Output:* 3\n",
    "\n",
    "*Example 2:*\n",
    "\n",
    "*Input:* J = \"z\", S = \"ZZ\"\n",
    "\n",
    "*Output:* 0"
   ]
  },
  {
   "cell_type": "markdown",
   "metadata": {},
   "source": [
    "*Note:*\n",
    "\n",
    "* `S` and `J` will consist of letters and have length at most 50.\n",
    "* The characters in J are distinct."
   ]
  },
  {
   "cell_type": "markdown",
   "metadata": {},
   "source": [
    "*Hint #1*  \n",
    "For each stone, check if it is a jewel."
   ]
  },
  {
   "cell_type": "code",
   "execution_count": null,
   "metadata": {},
   "outputs": [],
   "source": [
    "class Solution:\n",
    "    def numJewelsInStones(self, J: str, S: str) -> int:\n",
    "        \n",
    "        output = 0\n",
    "        hmap = {}\n",
    "        \n",
    "        for jewel in J:\n",
    "            if jewel in hmap:\n",
    "                hmap[jewel] += 1\n",
    "            else:\n",
    "                hmap[jewel] = 1\n",
    "                \n",
    "        for stone in S:\n",
    "            if stone in hmap:\n",
    "                output += hmap[stone]\n",
    "                \n",
    "        return output\n",
    "        "
   ]
  }
 ],
 "metadata": {
  "language_info": {
   "codemirror_mode": {
    "name": "ipython",
    "version": 3
   },
   "file_extension": ".py",
   "mimetype": "text/x-python",
   "name": "python",
   "nbconvert_exporter": "python",
   "pygments_lexer": "ipython3",
   "version": "3.7.3-final"
  },
  "orig_nbformat": 2,
  "kernelspec": {
   "name": "python37364bitbasecondadd691ec5b02843bba03cba763c7bcea6",
   "display_name": "Python 3.7.3 64-bit ('base': conda)"
  }
 },
 "nbformat": 4,
 "nbformat_minor": 2
}